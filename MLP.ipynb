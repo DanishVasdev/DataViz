{
  "nbformat": 4,
  "nbformat_minor": 0,
  "metadata": {
    "colab": {
      "provenance": []
    },
    "kernelspec": {
      "name": "python3",
      "display_name": "Python 3"
    },
    "language_info": {
      "name": "python"
    }
  },
  "cells": [
    {
      "cell_type": "code",
      "execution_count": null,
      "metadata": {
        "id": "fpRBQbm1aUFA"
      },
      "outputs": [],
      "source": [
        "import tensorflow as tf\n",
        "import tensorflow_datasets as tfds\n",
        "import numpy as np\n",
        "import pandas as pd\n"
      ]
    },
    {
      "cell_type": "code",
      "source": [
        "from google.colab import drive\n",
        "drive.mount('./drive')"
      ],
      "metadata": {
        "colab": {
          "base_uri": "https://localhost:8080/"
        },
        "id": "rgfKPP6-BlXL",
        "outputId": "a3849ecb-6959-4d12-f812-98f40c1cf0c1"
      },
      "execution_count": null,
      "outputs": [
        {
          "output_type": "stream",
          "name": "stdout",
          "text": [
            "Drive already mounted at ./drive; to attempt to forcibly remount, call drive.mount(\"./drive\", force_remount=True).\n"
          ]
        }
      ]
    },
    {
      "cell_type": "code",
      "source": [
        "data=pd.read_csv(\"https://gist.githubusercontent.com/DanishVasdev/d03d6deca8dbdd17c56df3f8a0df6c4b/raw/train.csv\")\n",
        "print(data.head(3))\n",
        "print(data.shape)"
      ],
      "metadata": {
        "colab": {
          "base_uri": "https://localhost:8080/"
        },
        "id": "OBA0trcGihDR",
        "outputId": "3e5d733e-1445-4d35-cacd-b69a8efa9e72"
      },
      "execution_count": null,
      "outputs": [
        {
          "output_type": "stream",
          "name": "stdout",
          "text": [
            "   battery_power  blue  clock_speed  dual_sim  fc  four_g  int_memory  m_dep  \\\n",
            "0            842     0          2.2         0   1       0           7    0.6   \n",
            "1           1021     1          0.5         1   0       1          53    0.7   \n",
            "2            563     1          0.5         1   2       1          41    0.9   \n",
            "\n",
            "   mobile_wt  n_cores  ...  px_height  px_width   ram  sc_h  sc_w  talk_time  \\\n",
            "0        188        2  ...         20       756  2549     9     7         19   \n",
            "1        136        3  ...        905      1988  2631    17     3          7   \n",
            "2        145        5  ...       1263      1716  2603    11     2          9   \n",
            "\n",
            "   three_g  touch_screen  wifi  price_range  \n",
            "0        0             0     1            1  \n",
            "1        1             1     0            2  \n",
            "2        1             1     0            2  \n",
            "\n",
            "[3 rows x 21 columns]\n",
            "(2000, 21)\n"
          ]
        }
      ]
    },
    {
      "cell_type": "code",
      "source": [
        "train=data[:1500]\n",
        "test=data[1500:]\n",
        "print(\"train: \",train.shape)\n",
        "print(\"test: \",test.shape)"
      ],
      "metadata": {
        "colab": {
          "base_uri": "https://localhost:8080/"
        },
        "id": "itQiJa90mw7s",
        "outputId": "40241a77-83a5-49e6-c91b-7d8f959752b8"
      },
      "execution_count": null,
      "outputs": [
        {
          "output_type": "stream",
          "name": "stdout",
          "text": [
            "train:  (1500, 21)\n",
            "test:  (500, 21)\n"
          ]
        }
      ]
    },
    {
      "cell_type": "code",
      "source": [
        "def to_dataset(data):\n",
        "  features=list(data.columns)[:20]\n",
        "  print(features)\n",
        "\n",
        "  data = (\n",
        "      tf.data.Dataset.from_tensor_slices(\n",
        "          (\n",
        "              tf.cast(data[features].values, tf.float32),\n",
        "              tf.cast(data['price_range'].values, tf.int32)\n",
        "          )\n",
        "      )\n",
        "  )\n",
        "  return data"
      ],
      "metadata": {
        "id": "4zEVqwdAkINo"
      },
      "execution_count": null,
      "outputs": []
    },
    {
      "cell_type": "code",
      "source": [
        "#train=to_dataset(train)\n",
        "#test=to_dataset(test)"
      ],
      "metadata": {
        "id": "KwFmFVucPvlN"
      },
      "execution_count": null,
      "outputs": []
    },
    {
      "cell_type": "code",
      "source": [],
      "metadata": {
        "id": "D6Xh7MMRo9E_"
      },
      "execution_count": null,
      "outputs": []
    },
    {
      "cell_type": "code",
      "source": [
        "\n",
        "def model_creator():\n",
        "  inputs=tf.keras.Input(shape=(20,))\n",
        "  dense1=tf.keras.layers.Dense(8,activation=\"relu\")(inputs)\n",
        "  dense2=tf.keras.layers.Dense(8,activation=\"relu\")(dense1)\n",
        "  output=tf.keras.layers.Dense(4,activation=\"softmax\")(dense2)\n",
        "  my_model=tf.keras.Model(inputs,output)\n",
        "  return my_model\n"
      ],
      "metadata": {
        "id": "LOawVe7AR824"
      },
      "execution_count": null,
      "outputs": []
    },
    {
      "cell_type": "markdown",
      "source": [],
      "metadata": {
        "id": "HoqUk-ArJiRa"
      }
    },
    {
      "cell_type": "code",
      "source": [
        "model=model_creator()\n",
        "model.summary()"
      ],
      "metadata": {
        "colab": {
          "base_uri": "https://localhost:8080/"
        },
        "id": "qwNb-VrpTFtY",
        "outputId": "5ce3d1bf-bf97-457e-f03a-a609518095c7"
      },
      "execution_count": null,
      "outputs": [
        {
          "output_type": "stream",
          "name": "stdout",
          "text": [
            "Model: \"model\"\n",
            "_________________________________________________________________\n",
            " Layer (type)                Output Shape              Param #   \n",
            "=================================================================\n",
            " input_1 (InputLayer)        [(None, 20)]              0         \n",
            "                                                                 \n",
            " dense (Dense)               (None, 8)                 168       \n",
            "                                                                 \n",
            " dense_1 (Dense)             (None, 8)                 72        \n",
            "                                                                 \n",
            " dense_2 (Dense)             (None, 4)                 36        \n",
            "                                                                 \n",
            "=================================================================\n",
            "Total params: 276\n",
            "Trainable params: 276\n",
            "Non-trainable params: 0\n",
            "_________________________________________________________________\n"
          ]
        }
      ]
    },
    {
      "cell_type": "code",
      "source": [
        "model.compile(optimizer=tf.keras.optimizers.Adam(learning_rate=0.01),\n",
        "              loss=[\"categorical_crossentropy\"],\n",
        "              metrics=[\"accuracy\",tf.keras.metrics.TruePositives(),tf.keras.metrics.TrueNegatives(),tf.keras.metrics.FalsePositives(),tf.keras.metrics.FalseNegatives()])"
      ],
      "metadata": {
        "id": "n-WHbxOdTwQe"
      },
      "execution_count": null,
      "outputs": []
    },
    {
      "cell_type": "code",
      "source": [
        "y=tf.keras.utils.to_categorical(train.iloc[:,20:])\n",
        "csv_log= tf.keras.callbacks.CSVLogger('training')\n",
        "weight_log=tf.keras.callbacks.ModelCheckpoint(\n",
        "    './drive/My Drive/Colab Notebooks/logs/weights1.{epoch:02d}.h5',\n",
        ")\n",
        "model.fit(train.iloc[:,:20],y,epochs=100,callbacks=[csv_log,weight_log])"
      ],
      "metadata": {
        "colab": {
          "base_uri": "https://localhost:8080/"
        },
        "id": "g_Jbf8zuUChe",
        "outputId": "96e5c24b-3d60-43b2-eac4-ca65651ebebf"
      },
      "execution_count": null,
      "outputs": [
        {
          "output_type": "stream",
          "name": "stdout",
          "text": [
            "Epoch 1/100\n",
            "47/47 [==============================] - 3s 11ms/step - loss: 113.0128 - accuracy: 0.2320 - true_positives: 346.0000 - true_negatives: 3355.0000 - false_positives: 1145.0000 - false_negatives: 1154.0000\n",
            "Epoch 2/100\n",
            "47/47 [==============================] - 1s 11ms/step - loss: 6.6512 - accuracy: 0.3167 - true_positives: 459.0000 - true_negatives: 3565.0000 - false_positives: 935.0000 - false_negatives: 1041.0000\n",
            "Epoch 3/100\n",
            "47/47 [==============================] - 0s 10ms/step - loss: 2.9240 - accuracy: 0.3480 - true_positives: 481.0000 - true_negatives: 3648.0000 - false_positives: 852.0000 - false_negatives: 1019.0000\n",
            "Epoch 4/100\n",
            "47/47 [==============================] - 1s 12ms/step - loss: 2.5369 - accuracy: 0.3447 - true_positives: 436.0000 - true_negatives: 3752.0000 - false_positives: 748.0000 - false_negatives: 1064.0000\n",
            "Epoch 5/100\n",
            "47/47 [==============================] - 0s 10ms/step - loss: 1.7814 - accuracy: 0.4053 - true_positives: 450.0000 - true_negatives: 3911.0000 - false_positives: 589.0000 - false_negatives: 1050.0000\n",
            "Epoch 6/100\n",
            "47/47 [==============================] - 1s 11ms/step - loss: 1.6337 - accuracy: 0.3960 - true_positives: 436.0000 - true_negatives: 3951.0000 - false_positives: 549.0000 - false_negatives: 1064.0000\n",
            "Epoch 7/100\n",
            "47/47 [==============================] - 0s 8ms/step - loss: 1.5403 - accuracy: 0.3827 - true_positives: 363.0000 - true_negatives: 4014.0000 - false_positives: 486.0000 - false_negatives: 1137.0000\n",
            "Epoch 8/100\n",
            "47/47 [==============================] - 0s 9ms/step - loss: 1.7377 - accuracy: 0.3953 - true_positives: 396.0000 - true_negatives: 4006.0000 - false_positives: 494.0000 - false_negatives: 1104.0000\n",
            "Epoch 9/100\n",
            "47/47 [==============================] - 0s 2ms/step - loss: 1.7862 - accuracy: 0.3973 - true_positives: 420.0000 - true_negatives: 3989.0000 - false_positives: 511.0000 - false_negatives: 1080.0000\n",
            "Epoch 10/100\n",
            "47/47 [==============================] - 1s 12ms/step - loss: 1.4533 - accuracy: 0.3913 - true_positives: 373.0000 - true_negatives: 4082.0000 - false_positives: 418.0000 - false_negatives: 1127.0000\n",
            "Epoch 11/100\n",
            "47/47 [==============================] - 1s 11ms/step - loss: 1.3575 - accuracy: 0.3973 - true_positives: 336.0000 - true_negatives: 4105.0000 - false_positives: 395.0000 - false_negatives: 1164.0000\n",
            "Epoch 12/100\n",
            "47/47 [==============================] - 0s 10ms/step - loss: 1.3462 - accuracy: 0.4180 - true_positives: 365.0000 - true_negatives: 4171.0000 - false_positives: 329.0000 - false_negatives: 1135.0000\n",
            "Epoch 13/100\n",
            "47/47 [==============================] - 1s 11ms/step - loss: 1.3977 - accuracy: 0.4107 - true_positives: 363.0000 - true_negatives: 4153.0000 - false_positives: 347.0000 - false_negatives: 1137.0000\n",
            "Epoch 14/100\n",
            "47/47 [==============================] - 1s 12ms/step - loss: 1.3086 - accuracy: 0.4240 - true_positives: 353.0000 - true_negatives: 4207.0000 - false_positives: 293.0000 - false_negatives: 1147.0000\n",
            "Epoch 15/100\n",
            "47/47 [==============================] - 1s 21ms/step - loss: 1.2434 - accuracy: 0.4300 - true_positives: 330.0000 - true_negatives: 4268.0000 - false_positives: 232.0000 - false_negatives: 1170.0000\n",
            "Epoch 16/100\n",
            "47/47 [==============================] - 1s 12ms/step - loss: 1.2764 - accuracy: 0.4400 - true_positives: 389.0000 - true_negatives: 4192.0000 - false_positives: 308.0000 - false_negatives: 1111.0000\n",
            "Epoch 17/100\n",
            "47/47 [==============================] - 1s 12ms/step - loss: 1.2537 - accuracy: 0.4187 - true_positives: 333.0000 - true_negatives: 4244.0000 - false_positives: 256.0000 - false_negatives: 1167.0000\n",
            "Epoch 18/100\n",
            "47/47 [==============================] - 1s 12ms/step - loss: 1.2332 - accuracy: 0.4420 - true_positives: 367.0000 - true_negatives: 4254.0000 - false_positives: 246.0000 - false_negatives: 1133.0000\n",
            "Epoch 19/100\n",
            "47/47 [==============================] - 1s 11ms/step - loss: 1.2594 - accuracy: 0.4113 - true_positives: 311.0000 - true_negatives: 4276.0000 - false_positives: 224.0000 - false_negatives: 1189.0000\n",
            "Epoch 20/100\n",
            "47/47 [==============================] - 1s 11ms/step - loss: 1.1943 - accuracy: 0.4280 - true_positives: 352.0000 - true_negatives: 4283.0000 - false_positives: 217.0000 - false_negatives: 1148.0000\n",
            "Epoch 21/100\n",
            "47/47 [==============================] - 1s 11ms/step - loss: 1.1991 - accuracy: 0.4513 - true_positives: 359.0000 - true_negatives: 4285.0000 - false_positives: 215.0000 - false_negatives: 1141.0000\n",
            "Epoch 22/100\n",
            "47/47 [==============================] - 1s 12ms/step - loss: 1.2639 - accuracy: 0.4300 - true_positives: 350.0000 - true_negatives: 4259.0000 - false_positives: 241.0000 - false_negatives: 1150.0000\n",
            "Epoch 23/100\n",
            "47/47 [==============================] - 0s 11ms/step - loss: 1.1558 - accuracy: 0.4700 - true_positives: 429.0000 - true_negatives: 4268.0000 - false_positives: 232.0000 - false_negatives: 1071.0000\n",
            "Epoch 24/100\n",
            "47/47 [==============================] - 1s 14ms/step - loss: 1.0972 - accuracy: 0.4800 - true_positives: 421.0000 - true_negatives: 4288.0000 - false_positives: 212.0000 - false_negatives: 1079.0000\n",
            "Epoch 25/100\n",
            "47/47 [==============================] - 1s 11ms/step - loss: 1.1046 - accuracy: 0.4860 - true_positives: 456.0000 - true_negatives: 4271.0000 - false_positives: 229.0000 - false_negatives: 1044.0000\n",
            "Epoch 26/100\n",
            "47/47 [==============================] - 1s 12ms/step - loss: 1.0672 - accuracy: 0.4920 - true_positives: 477.0000 - true_negatives: 4236.0000 - false_positives: 264.0000 - false_negatives: 1023.0000\n",
            "Epoch 27/100\n",
            "47/47 [==============================] - 1s 12ms/step - loss: 1.1300 - accuracy: 0.4747 - true_positives: 428.0000 - true_negatives: 4246.0000 - false_positives: 254.0000 - false_negatives: 1072.0000\n",
            "Epoch 28/100\n",
            "47/47 [==============================] - 1s 11ms/step - loss: 1.1112 - accuracy: 0.4720 - true_positives: 445.0000 - true_negatives: 4197.0000 - false_positives: 303.0000 - false_negatives: 1055.0000\n",
            "Epoch 29/100\n",
            "47/47 [==============================] - 1s 12ms/step - loss: 1.0341 - accuracy: 0.5280 - true_positives: 493.0000 - true_negatives: 4267.0000 - false_positives: 233.0000 - false_negatives: 1007.0000\n",
            "Epoch 30/100\n",
            "47/47 [==============================] - 0s 11ms/step - loss: 1.0905 - accuracy: 0.4827 - true_positives: 451.0000 - true_negatives: 4238.0000 - false_positives: 262.0000 - false_negatives: 1049.0000\n",
            "Epoch 31/100\n",
            "47/47 [==============================] - 1s 23ms/step - loss: 0.9819 - accuracy: 0.5280 - true_positives: 517.0000 - true_negatives: 4224.0000 - false_positives: 276.0000 - false_negatives: 983.0000\n",
            "Epoch 32/100\n",
            "47/47 [==============================] - 1s 12ms/step - loss: 1.0319 - accuracy: 0.5113 - true_positives: 499.0000 - true_negatives: 4233.0000 - false_positives: 267.0000 - false_negatives: 1001.0000\n",
            "Epoch 33/100\n",
            "47/47 [==============================] - 1s 12ms/step - loss: 0.9885 - accuracy: 0.5353 - true_positives: 505.0000 - true_negatives: 4237.0000 - false_positives: 263.0000 - false_negatives: 995.0000\n",
            "Epoch 34/100\n",
            "47/47 [==============================] - 0s 10ms/step - loss: 1.0698 - accuracy: 0.4987 - true_positives: 474.0000 - true_negatives: 4269.0000 - false_positives: 231.0000 - false_negatives: 1026.0000\n",
            "Epoch 35/100\n",
            "47/47 [==============================] - 1s 12ms/step - loss: 1.3258 - accuracy: 0.3687 - true_positives: 276.0000 - true_negatives: 4282.0000 - false_positives: 218.0000 - false_negatives: 1224.0000\n",
            "Epoch 36/100\n",
            "47/47 [==============================] - 1s 11ms/step - loss: 1.0310 - accuracy: 0.4820 - true_positives: 441.0000 - true_negatives: 4307.0000 - false_positives: 193.0000 - false_negatives: 1059.0000\n",
            "Epoch 37/100\n",
            "47/47 [==============================] - 1s 11ms/step - loss: 0.9795 - accuracy: 0.5447 - true_positives: 528.0000 - true_negatives: 4217.0000 - false_positives: 283.0000 - false_negatives: 972.0000\n",
            "Epoch 38/100\n",
            "47/47 [==============================] - 1s 11ms/step - loss: 0.9582 - accuracy: 0.5447 - true_positives: 518.0000 - true_negatives: 4235.0000 - false_positives: 265.0000 - false_negatives: 982.0000\n",
            "Epoch 39/100\n",
            "47/47 [==============================] - 1s 11ms/step - loss: 0.9258 - accuracy: 0.5620 - true_positives: 521.0000 - true_negatives: 4245.0000 - false_positives: 255.0000 - false_negatives: 979.0000\n",
            "Epoch 40/100\n",
            "47/47 [==============================] - 1s 11ms/step - loss: 0.8854 - accuracy: 0.5767 - true_positives: 534.0000 - true_negatives: 4266.0000 - false_positives: 234.0000 - false_negatives: 966.0000\n",
            "Epoch 41/100\n",
            "47/47 [==============================] - 1s 12ms/step - loss: 0.9520 - accuracy: 0.5373 - true_positives: 505.0000 - true_negatives: 4230.0000 - false_positives: 270.0000 - false_negatives: 995.0000\n",
            "Epoch 42/100\n",
            "47/47 [==============================] - 1s 11ms/step - loss: 0.9135 - accuracy: 0.5807 - true_positives: 557.0000 - true_negatives: 4221.0000 - false_positives: 279.0000 - false_negatives: 943.0000\n",
            "Epoch 43/100\n",
            "47/47 [==============================] - 0s 11ms/step - loss: 0.9627 - accuracy: 0.5627 - true_positives: 531.0000 - true_negatives: 4239.0000 - false_positives: 261.0000 - false_negatives: 969.0000\n",
            "Epoch 44/100\n",
            "47/47 [==============================] - 1s 11ms/step - loss: 0.9014 - accuracy: 0.5760 - true_positives: 432.0000 - true_negatives: 4307.0000 - false_positives: 193.0000 - false_negatives: 1068.0000\n",
            "Epoch 45/100\n",
            "47/47 [==============================] - 0s 10ms/step - loss: 1.0020 - accuracy: 0.5220 - true_positives: 374.0000 - true_negatives: 4345.0000 - false_positives: 155.0000 - false_negatives: 1126.0000\n",
            "Epoch 46/100\n",
            "47/47 [==============================] - 1s 12ms/step - loss: 0.9112 - accuracy: 0.5493 - true_positives: 452.0000 - true_negatives: 4313.0000 - false_positives: 187.0000 - false_negatives: 1048.0000\n",
            "Epoch 47/100\n",
            "47/47 [==============================] - 1s 12ms/step - loss: 0.8756 - accuracy: 0.5880 - true_positives: 452.0000 - true_negatives: 4306.0000 - false_positives: 194.0000 - false_negatives: 1048.0000\n",
            "Epoch 48/100\n",
            "47/47 [==============================] - 1s 11ms/step - loss: 0.8956 - accuracy: 0.5567 - true_positives: 474.0000 - true_negatives: 4274.0000 - false_positives: 226.0000 - false_negatives: 1026.0000\n",
            "Epoch 49/100\n",
            "47/47 [==============================] - 1s 11ms/step - loss: 0.8722 - accuracy: 0.5747 - true_positives: 506.0000 - true_negatives: 4274.0000 - false_positives: 226.0000 - false_negatives: 994.0000\n",
            "Epoch 50/100\n",
            "47/47 [==============================] - 0s 11ms/step - loss: 0.8829 - accuracy: 0.5793 - true_positives: 518.0000 - true_negatives: 4227.0000 - false_positives: 273.0000 - false_negatives: 982.0000\n",
            "Epoch 51/100\n",
            "47/47 [==============================] - 1s 13ms/step - loss: 0.8469 - accuracy: 0.6013 - true_positives: 549.0000 - true_negatives: 4233.0000 - false_positives: 267.0000 - false_negatives: 951.0000\n",
            "Epoch 52/100\n",
            "47/47 [==============================] - 1s 12ms/step - loss: 0.8515 - accuracy: 0.5913 - true_positives: 550.0000 - true_negatives: 4254.0000 - false_positives: 246.0000 - false_negatives: 950.0000\n",
            "Epoch 53/100\n",
            "47/47 [==============================] - 0s 10ms/step - loss: 0.8895 - accuracy: 0.5947 - true_positives: 587.0000 - true_negatives: 4208.0000 - false_positives: 292.0000 - false_negatives: 913.0000\n",
            "Epoch 54/100\n",
            "47/47 [==============================] - 1s 11ms/step - loss: 0.8637 - accuracy: 0.6000 - true_positives: 779.0000 - true_negatives: 4050.0000 - false_positives: 450.0000 - false_negatives: 721.0000\n",
            "Epoch 55/100\n",
            "47/47 [==============================] - 1s 11ms/step - loss: 0.9163 - accuracy: 0.5627 - true_positives: 652.0000 - true_negatives: 4044.0000 - false_positives: 456.0000 - false_negatives: 848.0000\n",
            "Epoch 56/100\n",
            "47/47 [==============================] - 1s 12ms/step - loss: 0.8462 - accuracy: 0.5960 - true_positives: 530.0000 - true_negatives: 4261.0000 - false_positives: 239.0000 - false_negatives: 970.0000\n",
            "Epoch 57/100\n",
            "47/47 [==============================] - 1s 11ms/step - loss: 0.8429 - accuracy: 0.5973 - true_positives: 784.0000 - true_negatives: 4014.0000 - false_positives: 486.0000 - false_negatives: 716.0000\n",
            "Epoch 58/100\n",
            "47/47 [==============================] - 0s 11ms/step - loss: 0.8589 - accuracy: 0.6120 - true_positives: 639.0000 - true_negatives: 4147.0000 - false_positives: 353.0000 - false_negatives: 861.0000\n",
            "Epoch 59/100\n",
            "47/47 [==============================] - 1s 12ms/step - loss: 0.8371 - accuracy: 0.6127 - true_positives: 827.0000 - true_negatives: 4018.0000 - false_positives: 482.0000 - false_negatives: 673.0000\n",
            "Epoch 60/100\n",
            "47/47 [==============================] - 1s 11ms/step - loss: 0.9597 - accuracy: 0.5367 - true_positives: 583.0000 - true_negatives: 4110.0000 - false_positives: 390.0000 - false_negatives: 917.0000\n",
            "Epoch 61/100\n",
            "47/47 [==============================] - 1s 11ms/step - loss: 0.9092 - accuracy: 0.5780 - true_positives: 518.0000 - true_negatives: 4237.0000 - false_positives: 263.0000 - false_negatives: 982.0000\n",
            "Epoch 62/100\n",
            "47/47 [==============================] - 1s 13ms/step - loss: 0.9069 - accuracy: 0.5647 - true_positives: 504.0000 - true_negatives: 4245.0000 - false_positives: 255.0000 - false_negatives: 996.0000\n",
            "Epoch 63/100\n",
            "47/47 [==============================] - 1s 12ms/step - loss: 0.8794 - accuracy: 0.5833 - true_positives: 666.0000 - true_negatives: 4073.0000 - false_positives: 427.0000 - false_negatives: 834.0000\n",
            "Epoch 64/100\n",
            "47/47 [==============================] - 1s 11ms/step - loss: 0.8196 - accuracy: 0.6187 - true_positives: 866.0000 - true_negatives: 3994.0000 - false_positives: 506.0000 - false_negatives: 634.0000\n",
            "Epoch 65/100\n",
            "47/47 [==============================] - 1s 11ms/step - loss: 0.8397 - accuracy: 0.6100 - true_positives: 862.0000 - true_negatives: 3986.0000 - false_positives: 514.0000 - false_negatives: 638.0000\n",
            "Epoch 66/100\n",
            "47/47 [==============================] - 1s 12ms/step - loss: 0.8585 - accuracy: 0.6000 - true_positives: 844.0000 - true_negatives: 3977.0000 - false_positives: 523.0000 - false_negatives: 656.0000\n",
            "Epoch 67/100\n",
            "47/47 [==============================] - 1s 12ms/step - loss: 0.8245 - accuracy: 0.6167 - true_positives: 889.0000 - true_negatives: 3961.0000 - false_positives: 539.0000 - false_negatives: 611.0000\n",
            "Epoch 68/100\n",
            "47/47 [==============================] - 1s 12ms/step - loss: 0.8211 - accuracy: 0.6133 - true_positives: 856.0000 - true_negatives: 3993.0000 - false_positives: 507.0000 - false_negatives: 644.0000\n",
            "Epoch 69/100\n",
            "47/47 [==============================] - 1s 11ms/step - loss: 0.9191 - accuracy: 0.5647 - true_positives: 801.0000 - true_negatives: 3907.0000 - false_positives: 593.0000 - false_negatives: 699.0000\n",
            "Epoch 70/100\n",
            "47/47 [==============================] - 1s 13ms/step - loss: 0.8528 - accuracy: 0.6020 - true_positives: 834.0000 - true_negatives: 3987.0000 - false_positives: 513.0000 - false_negatives: 666.0000\n",
            "Epoch 71/100\n",
            "47/47 [==============================] - 1s 11ms/step - loss: 0.8424 - accuracy: 0.5973 - true_positives: 864.0000 - true_negatives: 3930.0000 - false_positives: 570.0000 - false_negatives: 636.0000\n",
            "Epoch 72/100\n",
            "47/47 [==============================] - 1s 11ms/step - loss: 0.8401 - accuracy: 0.6053 - true_positives: 862.0000 - true_negatives: 3961.0000 - false_positives: 539.0000 - false_negatives: 638.0000\n",
            "Epoch 73/100\n",
            "47/47 [==============================] - 0s 10ms/step - loss: 0.7901 - accuracy: 0.6353 - true_positives: 912.0000 - true_negatives: 4002.0000 - false_positives: 498.0000 - false_negatives: 588.0000\n",
            "Epoch 74/100\n",
            "47/47 [==============================] - 1s 11ms/step - loss: 0.8557 - accuracy: 0.6027 - true_positives: 845.0000 - true_negatives: 3976.0000 - false_positives: 524.0000 - false_negatives: 655.0000\n",
            "Epoch 75/100\n",
            "47/47 [==============================] - 1s 11ms/step - loss: 0.8514 - accuracy: 0.5953 - true_positives: 858.0000 - true_negatives: 3944.0000 - false_positives: 556.0000 - false_negatives: 642.0000\n",
            "Epoch 76/100\n",
            "47/47 [==============================] - 1s 11ms/step - loss: 0.7879 - accuracy: 0.6413 - true_positives: 906.0000 - true_negatives: 4027.0000 - false_positives: 473.0000 - false_negatives: 594.0000\n",
            "Epoch 77/100\n",
            "47/47 [==============================] - 1s 12ms/step - loss: 0.7888 - accuracy: 0.6440 - true_positives: 901.0000 - true_negatives: 4023.0000 - false_positives: 477.0000 - false_negatives: 599.0000\n",
            "Epoch 78/100\n",
            "47/47 [==============================] - 0s 11ms/step - loss: 0.7946 - accuracy: 0.6280 - true_positives: 892.0000 - true_negatives: 3986.0000 - false_positives: 514.0000 - false_negatives: 608.0000\n",
            "Epoch 79/100\n",
            "47/47 [==============================] - 1s 12ms/step - loss: 0.8032 - accuracy: 0.6267 - true_positives: 873.0000 - true_negatives: 4007.0000 - false_positives: 493.0000 - false_negatives: 627.0000\n",
            "Epoch 80/100\n",
            "47/47 [==============================] - 1s 13ms/step - loss: 0.8054 - accuracy: 0.6220 - true_positives: 874.0000 - true_negatives: 4004.0000 - false_positives: 496.0000 - false_negatives: 626.0000\n",
            "Epoch 81/100\n",
            "47/47 [==============================] - 1s 13ms/step - loss: 0.8256 - accuracy: 0.6360 - true_positives: 896.0000 - true_negatives: 4014.0000 - false_positives: 486.0000 - false_negatives: 604.0000\n",
            "Epoch 82/100\n",
            "47/47 [==============================] - 1s 13ms/step - loss: 0.7717 - accuracy: 0.6427 - true_positives: 919.0000 - true_negatives: 3993.0000 - false_positives: 507.0000 - false_negatives: 581.0000\n",
            "Epoch 83/100\n",
            "47/47 [==============================] - 1s 13ms/step - loss: 0.7870 - accuracy: 0.6253 - true_positives: 913.0000 - true_negatives: 3975.0000 - false_positives: 525.0000 - false_negatives: 587.0000\n",
            "Epoch 84/100\n",
            "47/47 [==============================] - 1s 12ms/step - loss: 0.8831 - accuracy: 0.5860 - true_positives: 792.0000 - true_negatives: 3951.0000 - false_positives: 549.0000 - false_negatives: 708.0000\n",
            "Epoch 85/100\n",
            "47/47 [==============================] - 1s 13ms/step - loss: 0.7815 - accuracy: 0.6333 - true_positives: 920.0000 - true_negatives: 3982.0000 - false_positives: 518.0000 - false_negatives: 580.0000\n",
            "Epoch 86/100\n",
            "47/47 [==============================] - 1s 11ms/step - loss: 0.8043 - accuracy: 0.6267 - true_positives: 895.0000 - true_negatives: 3981.0000 - false_positives: 519.0000 - false_negatives: 605.0000\n",
            "Epoch 87/100\n",
            "47/47 [==============================] - 1s 11ms/step - loss: 0.8163 - accuracy: 0.6193 - true_positives: 880.0000 - true_negatives: 3978.0000 - false_positives: 522.0000 - false_negatives: 620.0000\n",
            "Epoch 88/100\n",
            "47/47 [==============================] - 0s 11ms/step - loss: 0.7719 - accuracy: 0.6420 - true_positives: 939.0000 - true_negatives: 3997.0000 - false_positives: 503.0000 - false_negatives: 561.0000\n",
            "Epoch 89/100\n",
            "47/47 [==============================] - 1s 12ms/step - loss: 0.7730 - accuracy: 0.6473 - true_positives: 942.0000 - true_negatives: 4010.0000 - false_positives: 490.0000 - false_negatives: 558.0000\n",
            "Epoch 90/100\n",
            "47/47 [==============================] - 0s 11ms/step - loss: 0.8239 - accuracy: 0.6073 - true_positives: 863.0000 - true_negatives: 3951.0000 - false_positives: 549.0000 - false_negatives: 637.0000\n",
            "Epoch 91/100\n",
            "47/47 [==============================] - 1s 11ms/step - loss: 0.7607 - accuracy: 0.6427 - true_positives: 936.0000 - true_negatives: 3989.0000 - false_positives: 511.0000 - false_negatives: 564.0000\n",
            "Epoch 92/100\n",
            "47/47 [==============================] - 1s 11ms/step - loss: 0.7811 - accuracy: 0.6327 - true_positives: 926.0000 - true_negatives: 3971.0000 - false_positives: 529.0000 - false_negatives: 574.0000\n",
            "Epoch 93/100\n",
            "47/47 [==============================] - 1s 12ms/step - loss: 0.8111 - accuracy: 0.6160 - true_positives: 879.0000 - true_negatives: 3965.0000 - false_positives: 535.0000 - false_negatives: 621.0000\n",
            "Epoch 94/100\n",
            "47/47 [==============================] - 0s 11ms/step - loss: 0.8641 - accuracy: 0.5907 - true_positives: 829.0000 - true_negatives: 3964.0000 - false_positives: 536.0000 - false_negatives: 671.0000\n",
            "Epoch 95/100\n",
            "47/47 [==============================] - 1s 11ms/step - loss: 0.7827 - accuracy: 0.6373 - true_positives: 902.0000 - true_negatives: 4003.0000 - false_positives: 497.0000 - false_negatives: 598.0000\n",
            "Epoch 96/100\n",
            "47/47 [==============================] - 1s 12ms/step - loss: 0.8144 - accuracy: 0.6480 - true_positives: 928.0000 - true_negatives: 4014.0000 - false_positives: 486.0000 - false_negatives: 572.0000\n",
            "Epoch 97/100\n",
            "47/47 [==============================] - 1s 12ms/step - loss: 0.8227 - accuracy: 0.6400 - true_positives: 884.0000 - true_negatives: 4033.0000 - false_positives: 467.0000 - false_negatives: 616.0000\n",
            "Epoch 98/100\n",
            "47/47 [==============================] - 1s 11ms/step - loss: 0.7845 - accuracy: 0.6227 - true_positives: 902.0000 - true_negatives: 3975.0000 - false_positives: 525.0000 - false_negatives: 598.0000\n",
            "Epoch 99/100\n",
            "47/47 [==============================] - 1s 11ms/step - loss: 0.7955 - accuracy: 0.6233 - true_positives: 884.0000 - true_negatives: 4010.0000 - false_positives: 490.0000 - false_negatives: 616.0000\n",
            "Epoch 100/100\n",
            "47/47 [==============================] - 1s 11ms/step - loss: 0.7706 - accuracy: 0.6393 - true_positives: 940.0000 - true_negatives: 3997.0000 - false_positives: 503.0000 - false_negatives: 560.0000\n"
          ]
        },
        {
          "output_type": "execute_result",
          "data": {
            "text/plain": [
              "<keras.callbacks.History at 0x7feb7ebc5d60>"
            ]
          },
          "metadata": {},
          "execution_count": 11
        }
      ]
    },
    {
      "cell_type": "code",
      "source": [
        "df1=pd.read_csv(\"training\")\n",
        "df1.to_csv(\"./drive/My Drive/Colab Notebooks/logs/training1.csv\")"
      ],
      "metadata": {
        "id": "8KMzDF7Lqvw7"
      },
      "execution_count": null,
      "outputs": []
    },
    {
      "cell_type": "code",
      "source": [
        "print(df1.head(10))"
      ],
      "metadata": {
        "colab": {
          "base_uri": "https://localhost:8080/"
        },
        "id": "iW18qVOBAfUS",
        "outputId": "470756f7-de49-4584-a496-fb67fc7beaf2"
      },
      "execution_count": null,
      "outputs": [
        {
          "output_type": "stream",
          "name": "stdout",
          "text": [
            "   epoch  accuracy  false_negatives  false_positives        loss  \\\n",
            "0      0  0.232000           1154.0           1145.0  113.012794   \n",
            "1      1  0.316667           1041.0            935.0    6.651169   \n",
            "2      2  0.348000           1019.0            852.0    2.923978   \n",
            "3      3  0.344667           1064.0            748.0    2.536863   \n",
            "4      4  0.405333           1050.0            589.0    1.781389   \n",
            "5      5  0.396000           1064.0            549.0    1.633683   \n",
            "6      6  0.382667           1137.0            486.0    1.540272   \n",
            "7      7  0.395333           1104.0            494.0    1.737747   \n",
            "8      8  0.397333           1080.0            511.0    1.786196   \n",
            "9      9  0.391333           1127.0            418.0    1.453287   \n",
            "\n",
            "   true_negatives  true_positives  \n",
            "0          3355.0           346.0  \n",
            "1          3565.0           459.0  \n",
            "2          3648.0           481.0  \n",
            "3          3752.0           436.0  \n",
            "4          3911.0           450.0  \n",
            "5          3951.0           436.0  \n",
            "6          4014.0           363.0  \n",
            "7          4006.0           396.0  \n",
            "8          3989.0           420.0  \n",
            "9          4082.0           373.0  \n"
          ]
        }
      ]
    },
    {
      "cell_type": "code",
      "source": [
        "\n",
        "predictions=model.predict(test.iloc[:,:20])\n",
        "model.save(\"./drive/My Drive/Colab Notebooks/logs/my_model.h5\")"
      ],
      "metadata": {
        "colab": {
          "base_uri": "https://localhost:8080/"
        },
        "id": "8Pb354imRvIc",
        "outputId": "bcd5b996-c2dd-40ff-8a11-4ea3ddd26cb0"
      },
      "execution_count": null,
      "outputs": [
        {
          "output_type": "stream",
          "name": "stdout",
          "text": [
            "16/16 [==============================] - 0s 1ms/step\n"
          ]
        }
      ]
    },
    {
      "cell_type": "code",
      "source": [
        "for i in range(len(predictions)):\n",
        "  predictions[i]=np.argmax(predictions[i])"
      ],
      "metadata": {
        "id": "_Jd3PPyrCISf"
      },
      "execution_count": null,
      "outputs": []
    },
    {
      "cell_type": "code",
      "source": [
        "df2=pd.DataFrame(test)\n",
        "df2.to_csv(\"./drive/My Drive/Colab Notebooks/logs/test1.csv\")"
      ],
      "metadata": {
        "id": "gq6X3hF5DeKi"
      },
      "execution_count": null,
      "outputs": []
    },
    {
      "cell_type": "code",
      "source": [
        "print(predictions[4][0])"
      ],
      "metadata": {
        "colab": {
          "base_uri": "https://localhost:8080/"
        },
        "id": "jGt0vh8gOapj",
        "outputId": "57f1830e-39bf-4e14-91d6-4159c3b105fe"
      },
      "execution_count": null,
      "outputs": [
        {
          "output_type": "stream",
          "name": "stdout",
          "text": [
            "3.0\n"
          ]
        }
      ]
    },
    {
      "cell_type": "code",
      "source": [
        "confusion_matrix=np.zeros((4,4))\n",
        "for i in range(500):\n",
        "  confusion_matrix[df2.price_range[1500+i]][int(predictions[i][0])]+=1\n",
        "      "
      ],
      "metadata": {
        "id": "H1FnyRzKNYs6"
      },
      "execution_count": null,
      "outputs": []
    },
    {
      "cell_type": "code",
      "source": [
        "confusion_matrix"
      ],
      "metadata": {
        "colab": {
          "base_uri": "https://localhost:8080/"
        },
        "id": "VXzdskFlRJek",
        "outputId": "7bbf1763-b311-443f-e7cc-d232fb19c7da"
      },
      "execution_count": null,
      "outputs": [
        {
          "output_type": "execute_result",
          "data": {
            "text/plain": [
              "array([[109.,  13.,   3.,   0.],\n",
              "       [ 23.,  48.,  44.,  13.],\n",
              "       [  1.,  11.,  40.,  74.],\n",
              "       [  0.,   0.,   2., 119.]])"
            ]
          },
          "metadata": {},
          "execution_count": 19
        }
      ]
    },
    {
      "cell_type": "code",
      "source": [
        "!pip install shap"
      ],
      "metadata": {
        "colab": {
          "base_uri": "https://localhost:8080/"
        },
        "id": "KAXOFVvTO36c",
        "outputId": "69cbcbe3-f5c8-4f93-88f6-4dec5bb9fd8a"
      },
      "execution_count": null,
      "outputs": [
        {
          "output_type": "stream",
          "name": "stdout",
          "text": [
            "Looking in indexes: https://pypi.org/simple, https://us-python.pkg.dev/colab-wheels/public/simple/\n",
            "Collecting shap\n",
            "  Downloading shap-0.41.0-cp38-cp38-manylinux_2_12_x86_64.manylinux2010_x86_64.whl (575 kB)\n",
            "\u001b[K     |████████████████████████████████| 575 kB 14.3 MB/s \n",
            "\u001b[?25hCollecting slicer==0.0.7\n",
            "  Downloading slicer-0.0.7-py3-none-any.whl (14 kB)\n",
            "Requirement already satisfied: scipy in /usr/local/lib/python3.8/dist-packages (from shap) (1.7.3)\n",
            "Requirement already satisfied: scikit-learn in /usr/local/lib/python3.8/dist-packages (from shap) (1.0.2)\n",
            "Requirement already satisfied: pandas in /usr/local/lib/python3.8/dist-packages (from shap) (1.3.5)\n",
            "Requirement already satisfied: numba in /usr/local/lib/python3.8/dist-packages (from shap) (0.56.4)\n",
            "Requirement already satisfied: packaging>20.9 in /usr/local/lib/python3.8/dist-packages (from shap) (21.3)\n",
            "Requirement already satisfied: cloudpickle in /usr/local/lib/python3.8/dist-packages (from shap) (1.5.0)\n",
            "Requirement already satisfied: tqdm>4.25.0 in /usr/local/lib/python3.8/dist-packages (from shap) (4.64.1)\n",
            "Requirement already satisfied: numpy in /usr/local/lib/python3.8/dist-packages (from shap) (1.21.6)\n",
            "Requirement already satisfied: pyparsing!=3.0.5,>=2.0.2 in /usr/local/lib/python3.8/dist-packages (from packaging>20.9->shap) (3.0.9)\n",
            "Requirement already satisfied: llvmlite<0.40,>=0.39.0dev0 in /usr/local/lib/python3.8/dist-packages (from numba->shap) (0.39.1)\n",
            "Requirement already satisfied: setuptools in /usr/local/lib/python3.8/dist-packages (from numba->shap) (57.4.0)\n",
            "Requirement already satisfied: importlib-metadata in /usr/local/lib/python3.8/dist-packages (from numba->shap) (5.1.0)\n",
            "Requirement already satisfied: zipp>=0.5 in /usr/local/lib/python3.8/dist-packages (from importlib-metadata->numba->shap) (3.11.0)\n",
            "Requirement already satisfied: python-dateutil>=2.7.3 in /usr/local/lib/python3.8/dist-packages (from pandas->shap) (2.8.2)\n",
            "Requirement already satisfied: pytz>=2017.3 in /usr/local/lib/python3.8/dist-packages (from pandas->shap) (2022.6)\n",
            "Requirement already satisfied: six>=1.5 in /usr/local/lib/python3.8/dist-packages (from python-dateutil>=2.7.3->pandas->shap) (1.15.0)\n",
            "Requirement already satisfied: threadpoolctl>=2.0.0 in /usr/local/lib/python3.8/dist-packages (from scikit-learn->shap) (3.1.0)\n",
            "Requirement already satisfied: joblib>=0.11 in /usr/local/lib/python3.8/dist-packages (from scikit-learn->shap) (1.2.0)\n",
            "Installing collected packages: slicer, shap\n",
            "Successfully installed shap-0.41.0 slicer-0.0.7\n"
          ]
        }
      ]
    },
    {
      "cell_type": "code",
      "source": [
        "import shap\n",
        "\n",
        "explainer = shap.explainers.Permutation(model.predict,test.iloc[:,:20] )\n",
        "shap_values = explainer(test.iloc[:100,:20])\n"
      ],
      "metadata": {
        "colab": {
          "base_uri": "https://localhost:8080/"
        },
        "id": "NDomaK_cOW9M",
        "outputId": "0cda04ee-805c-4e4f-a2dd-89d792c7dc2e"
      },
      "execution_count": null,
      "outputs": [
        {
          "output_type": "stream",
          "name": "stdout",
          "text": [
            "106/106 [==============================] - 0s 2ms/step\n",
            "106/106 [==============================] - 0s 1ms/step\n",
            "106/106 [==============================] - 0s 2ms/step\n",
            "106/106 [==============================] - 0s 2ms/step\n",
            "106/106 [==============================] - 0s 2ms/step\n",
            "106/106 [==============================] - 0s 1ms/step\n",
            "106/106 [==============================] - 0s 2ms/step\n",
            "106/106 [==============================] - 0s 1ms/step\n",
            "106/106 [==============================] - 0s 2ms/step\n",
            "106/106 [==============================] - 0s 2ms/step\n",
            "106/106 [==============================] - 0s 2ms/step\n",
            "106/106 [==============================] - 0s 2ms/step\n",
            "102/102 [==============================] - 0s 2ms/step\n",
            "102/102 [==============================] - 0s 2ms/step\n",
            "102/102 [==============================] - 0s 2ms/step\n",
            "102/102 [==============================] - 0s 2ms/step\n",
            "102/102 [==============================] - 0s 1ms/step\n",
            "102/102 [==============================] - 0s 1ms/step\n",
            "102/102 [==============================] - 0s 2ms/step\n",
            "102/102 [==============================] - 0s 2ms/step\n",
            "102/102 [==============================] - 0s 2ms/step\n",
            "102/102 [==============================] - 0s 2ms/step\n",
            "102/102 [==============================] - 0s 1ms/step\n",
            "102/102 [==============================] - 0s 1ms/step\n",
            "63/63 [==============================] - 0s 2ms/step\n"
          ]
        },
        {
          "output_type": "stream",
          "name": "stderr",
          "text": [
            "\rPermutation explainer:   2%|▏         | 2/100 [00:00<?, ?it/s]"
          ]
        },
        {
          "output_type": "stream",
          "name": "stdout",
          "text": [
            "103/103 [==============================] - 0s 2ms/step\n",
            "103/103 [==============================] - 0s 2ms/step\n",
            "103/103 [==============================] - 0s 3ms/step\n",
            "103/103 [==============================] - 0s 2ms/step\n",
            "103/103 [==============================] - 0s 2ms/step\n",
            "103/103 [==============================] - 0s 1ms/step\n",
            "103/103 [==============================] - 0s 933us/step\n",
            "103/103 [==============================] - 0s 944us/step\n",
            "103/103 [==============================] - 0s 826us/step\n",
            "103/103 [==============================] - 0s 778us/step\n",
            "103/103 [==============================] - 0s 817us/step\n",
            "103/103 [==============================] - 0s 806us/step\n",
            "63/63 [==============================] - 0s 871us/step\n"
          ]
        },
        {
          "output_type": "stream",
          "name": "stderr",
          "text": [
            "\rPermutation explainer:   4%|▍         | 4/100 [00:17<03:03,  1.92s/it]"
          ]
        },
        {
          "output_type": "stream",
          "name": "stdout",
          "text": [
            "105/105 [==============================] - 0s 828us/step\n",
            "105/105 [==============================] - 0s 837us/step\n",
            "105/105 [==============================] - 0s 851us/step\n",
            "105/105 [==============================] - 0s 878us/step\n",
            "105/105 [==============================] - 0s 851us/step\n",
            "105/105 [==============================] - 0s 965us/step\n",
            "105/105 [==============================] - 0s 857us/step\n",
            "105/105 [==============================] - 0s 804us/step\n",
            "105/105 [==============================] - 0s 874us/step\n",
            "105/105 [==============================] - 0s 819us/step\n",
            "105/105 [==============================] - 0s 802us/step\n",
            "105/105 [==============================] - 0s 896us/step\n",
            "64/64 [==============================] - 0s 1ms/step\n"
          ]
        },
        {
          "output_type": "stream",
          "name": "stderr",
          "text": [
            "\rPermutation explainer:   5%|▌         | 5/100 [00:20<03:18,  2.09s/it]"
          ]
        },
        {
          "output_type": "stream",
          "name": "stdout",
          "text": [
            "103/103 [==============================] - 0s 828us/step\n",
            "103/103 [==============================] - 0s 878us/step\n",
            "103/103 [==============================] - 0s 829us/step\n",
            "103/103 [==============================] - 0s 1ms/step\n",
            "103/103 [==============================] - 0s 881us/step\n",
            "103/103 [==============================] - 0s 812us/step\n",
            "103/103 [==============================] - 0s 874us/step\n",
            "103/103 [==============================] - 0s 840us/step\n",
            "103/103 [==============================] - 0s 813us/step\n",
            "103/103 [==============================] - 0s 856us/step\n",
            "103/103 [==============================] - 0s 985us/step\n",
            "103/103 [==============================] - 0s 838us/step\n",
            "63/63 [==============================] - 0s 897us/step\n"
          ]
        },
        {
          "output_type": "stream",
          "name": "stderr",
          "text": [
            "\rPermutation explainer:   6%|▌         | 6/100 [00:22<03:20,  2.13s/it]"
          ]
        },
        {
          "output_type": "stream",
          "name": "stdout",
          "text": [
            "106/106 [==============================] - 0s 806us/step\n",
            "106/106 [==============================] - 0s 829us/step\n",
            "106/106 [==============================] - 0s 840us/step\n",
            "106/106 [==============================] - 0s 810us/step\n",
            "106/106 [==============================] - 0s 872us/step\n",
            "106/106 [==============================] - 0s 845us/step\n",
            "106/106 [==============================] - 0s 857us/step\n",
            "106/106 [==============================] - 0s 843us/step\n",
            "106/106 [==============================] - 0s 907us/step\n",
            "106/106 [==============================] - 0s 833us/step\n",
            "106/106 [==============================] - 0s 830us/step\n",
            "106/106 [==============================] - 0s 845us/step\n",
            "65/65 [==============================] - 0s 883us/step\n"
          ]
        },
        {
          "output_type": "stream",
          "name": "stderr",
          "text": [
            "\rPermutation explainer:   7%|▋         | 7/100 [00:24<03:18,  2.14s/it]"
          ]
        },
        {
          "output_type": "stream",
          "name": "stdout",
          "text": [
            "103/103 [==============================] - 0s 821us/step\n",
            "103/103 [==============================] - 0s 943us/step\n",
            "103/103 [==============================] - 0s 1ms/step\n",
            "103/103 [==============================] - 0s 848us/step\n",
            "103/103 [==============================] - 0s 823us/step\n",
            "103/103 [==============================] - 0s 869us/step\n",
            "103/103 [==============================] - 0s 847us/step\n",
            "103/103 [==============================] - 0s 824us/step\n",
            "103/103 [==============================] - 0s 879us/step\n",
            "103/103 [==============================] - 0s 833us/step\n",
            "103/103 [==============================] - 0s 852us/step\n",
            "103/103 [==============================] - 0s 897us/step\n",
            "64/64 [==============================] - 0s 1ms/step\n"
          ]
        },
        {
          "output_type": "stream",
          "name": "stderr",
          "text": [
            "\rPermutation explainer:   8%|▊         | 8/100 [00:27<03:29,  2.28s/it]"
          ]
        },
        {
          "output_type": "stream",
          "name": "stdout",
          "text": [
            "105/105 [==============================] - 0s 849us/step\n",
            "105/105 [==============================] - 0s 828us/step\n",
            "105/105 [==============================] - 0s 834us/step\n",
            "105/105 [==============================] - 0s 913us/step\n",
            "105/105 [==============================] - 0s 836us/step\n",
            "105/105 [==============================] - 0s 866us/step\n",
            "105/105 [==============================] - 0s 893us/step\n",
            "105/105 [==============================] - 0s 854us/step\n",
            "105/105 [==============================] - 0s 828us/step\n",
            "105/105 [==============================] - 0s 867us/step\n",
            "105/105 [==============================] - 0s 931us/step\n",
            "105/105 [==============================] - 0s 923us/step\n",
            "63/63 [==============================] - 0s 943us/step\n"
          ]
        },
        {
          "output_type": "stream",
          "name": "stderr",
          "text": [
            "\rPermutation explainer:   9%|▉         | 9/100 [00:29<03:27,  2.28s/it]"
          ]
        },
        {
          "output_type": "stream",
          "name": "stdout",
          "text": [
            "106/106 [==============================] - 0s 885us/step\n",
            "106/106 [==============================] - 0s 813us/step\n",
            "106/106 [==============================] - 0s 909us/step\n",
            "106/106 [==============================] - 0s 1ms/step\n",
            "106/106 [==============================] - 0s 846us/step\n",
            "106/106 [==============================] - 0s 920us/step\n",
            "106/106 [==============================] - 0s 919us/step\n",
            "106/106 [==============================] - 0s 863us/step\n",
            "106/106 [==============================] - 0s 842us/step\n",
            "106/106 [==============================] - 0s 905us/step\n",
            "106/106 [==============================] - 0s 923us/step\n",
            "106/106 [==============================] - 0s 874us/step\n",
            "65/65 [==============================] - 0s 942us/step\n"
          ]
        },
        {
          "output_type": "stream",
          "name": "stderr",
          "text": [
            "\rPermutation explainer:  10%|█         | 10/100 [00:31<03:26,  2.30s/it]"
          ]
        },
        {
          "output_type": "stream",
          "name": "stdout",
          "text": [
            "102/102 [==============================] - 0s 789us/step\n",
            "102/102 [==============================] - 0s 923us/step\n",
            "102/102 [==============================] - 0s 840us/step\n",
            "102/102 [==============================] - 0s 900us/step\n",
            "102/102 [==============================] - 0s 947us/step\n",
            "102/102 [==============================] - 0s 814us/step\n",
            "102/102 [==============================] - 0s 959us/step\n",
            "102/102 [==============================] - 0s 952us/step\n",
            "102/102 [==============================] - 0s 845us/step\n",
            "102/102 [==============================] - 0s 850us/step\n",
            "102/102 [==============================] - 0s 877us/step\n",
            "102/102 [==============================] - 0s 903us/step\n",
            "63/63 [==============================] - 0s 974us/step\n"
          ]
        },
        {
          "output_type": "stream",
          "name": "stderr",
          "text": [
            "\rPermutation explainer:  11%|█         | 11/100 [00:33<03:22,  2.27s/it]"
          ]
        },
        {
          "output_type": "stream",
          "name": "stdout",
          "text": [
            "104/104 [==============================] - 0s 860us/step\n",
            "104/104 [==============================] - 0s 898us/step\n",
            "104/104 [==============================] - 0s 844us/step\n",
            "104/104 [==============================] - 0s 880us/step\n",
            "104/104 [==============================] - 0s 831us/step\n",
            "104/104 [==============================] - 0s 930us/step\n",
            "104/104 [==============================] - 0s 965us/step\n",
            "104/104 [==============================] - 0s 892us/step\n",
            "104/104 [==============================] - 0s 893us/step\n",
            "104/104 [==============================] - 0s 881us/step\n",
            "104/104 [==============================] - 0s 874us/step\n",
            "104/104 [==============================] - 0s 887us/step\n",
            "64/64 [==============================] - 0s 1ms/step\n"
          ]
        },
        {
          "output_type": "stream",
          "name": "stderr",
          "text": [
            "\rPermutation explainer:  12%|█▏        | 12/100 [00:36<03:20,  2.28s/it]"
          ]
        },
        {
          "output_type": "stream",
          "name": "stdout",
          "text": [
            "106/106 [==============================] - 0s 881us/step\n",
            "106/106 [==============================] - 0s 854us/step\n",
            "106/106 [==============================] - 0s 874us/step\n",
            "106/106 [==============================] - 0s 890us/step\n",
            "106/106 [==============================] - 0s 951us/step\n",
            "106/106 [==============================] - 0s 1ms/step\n",
            "106/106 [==============================] - 0s 834us/step\n",
            "106/106 [==============================] - 0s 847us/step\n",
            "106/106 [==============================] - 0s 897us/step\n",
            "106/106 [==============================] - 0s 1ms/step\n",
            "106/106 [==============================] - 0s 840us/step\n",
            "106/106 [==============================] - 0s 885us/step\n",
            "64/64 [==============================] - 0s 885us/step\n"
          ]
        },
        {
          "output_type": "stream",
          "name": "stderr",
          "text": [
            "\rPermutation explainer:  13%|█▎        | 13/100 [00:38<03:15,  2.25s/it]"
          ]
        },
        {
          "output_type": "stream",
          "name": "stdout",
          "text": [
            "109/109 [==============================] - 0s 901us/step\n",
            "109/109 [==============================] - 0s 858us/step\n",
            "109/109 [==============================] - 0s 916us/step\n",
            "109/109 [==============================] - 0s 899us/step\n",
            "109/109 [==============================] - 0s 860us/step\n",
            "109/109 [==============================] - 0s 842us/step\n",
            "109/109 [==============================] - 0s 841us/step\n",
            "109/109 [==============================] - 0s 838us/step\n",
            "109/109 [==============================] - 0s 886us/step\n",
            "109/109 [==============================] - 0s 944us/step\n",
            "109/109 [==============================] - 0s 843us/step\n",
            "109/109 [==============================] - 0s 880us/step\n",
            "64/64 [==============================] - 0s 875us/step\n"
          ]
        },
        {
          "output_type": "stream",
          "name": "stderr",
          "text": [
            "\rPermutation explainer:  14%|█▍        | 14/100 [00:40<03:15,  2.28s/it]"
          ]
        },
        {
          "output_type": "stream",
          "name": "stdout",
          "text": [
            "105/105 [==============================] - 0s 918us/step\n",
            "105/105 [==============================] - 0s 859us/step\n",
            "105/105 [==============================] - 0s 930us/step\n",
            "105/105 [==============================] - 0s 834us/step\n",
            "105/105 [==============================] - 0s 839us/step\n",
            "105/105 [==============================] - 0s 808us/step\n",
            "105/105 [==============================] - 0s 931us/step\n",
            "105/105 [==============================] - 0s 878us/step\n",
            "105/105 [==============================] - 0s 867us/step\n",
            "105/105 [==============================] - 0s 852us/step\n",
            "105/105 [==============================] - 0s 796us/step\n",
            "105/105 [==============================] - 0s 854us/step\n",
            "65/65 [==============================] - 0s 981us/step\n"
          ]
        },
        {
          "output_type": "stream",
          "name": "stderr",
          "text": [
            "\rPermutation explainer:  15%|█▌        | 15/100 [00:43<03:15,  2.30s/it]"
          ]
        },
        {
          "output_type": "stream",
          "name": "stdout",
          "text": [
            "104/104 [==============================] - 0s 891us/step\n",
            "104/104 [==============================] - 0s 821us/step\n",
            "104/104 [==============================] - 0s 822us/step\n",
            "104/104 [==============================] - 0s 907us/step\n",
            "104/104 [==============================] - 0s 842us/step\n",
            "104/104 [==============================] - 0s 1ms/step\n",
            "104/104 [==============================] - 0s 903us/step\n",
            "104/104 [==============================] - 0s 887us/step\n",
            "104/104 [==============================] - 0s 828us/step\n",
            "104/104 [==============================] - 0s 848us/step\n",
            "104/104 [==============================] - 0s 838us/step\n",
            "104/104 [==============================] - 0s 847us/step\n",
            "64/64 [==============================] - 0s 922us/step\n"
          ]
        },
        {
          "output_type": "stream",
          "name": "stderr",
          "text": [
            "\rPermutation explainer:  16%|█▌        | 16/100 [00:45<03:12,  2.29s/it]"
          ]
        },
        {
          "output_type": "stream",
          "name": "stdout",
          "text": [
            "104/104 [==============================] - 0s 855us/step\n",
            "104/104 [==============================] - 0s 847us/step\n",
            "104/104 [==============================] - 0s 929us/step\n",
            "104/104 [==============================] - 0s 897us/step\n",
            "104/104 [==============================] - 0s 765us/step\n",
            "104/104 [==============================] - 0s 860us/step\n",
            "104/104 [==============================] - 0s 831us/step\n",
            "104/104 [==============================] - 0s 824us/step\n",
            "104/104 [==============================] - 0s 1ms/step\n",
            "104/104 [==============================] - 0s 890us/step\n",
            "104/104 [==============================] - 0s 961us/step\n",
            "104/104 [==============================] - 0s 909us/step\n",
            "63/63 [==============================] - 0s 932us/step\n"
          ]
        },
        {
          "output_type": "stream",
          "name": "stderr",
          "text": [
            "\rPermutation explainer:  17%|█▋        | 17/100 [00:47<03:10,  2.30s/it]"
          ]
        },
        {
          "output_type": "stream",
          "name": "stdout",
          "text": [
            "104/104 [==============================] - 0s 908us/step\n",
            "104/104 [==============================] - 0s 860us/step\n",
            "104/104 [==============================] - 0s 835us/step\n",
            "104/104 [==============================] - 0s 965us/step\n",
            "104/104 [==============================] - 0s 853us/step\n",
            "104/104 [==============================] - 0s 865us/step\n",
            "104/104 [==============================] - 0s 879us/step\n",
            "104/104 [==============================] - 0s 897us/step\n",
            "104/104 [==============================] - 0s 898us/step\n",
            "104/104 [==============================] - 0s 1ms/step\n",
            "104/104 [==============================] - 0s 832us/step\n",
            "104/104 [==============================] - 0s 880us/step\n",
            "64/64 [==============================] - 0s 1ms/step\n"
          ]
        },
        {
          "output_type": "stream",
          "name": "stderr",
          "text": [
            "\rPermutation explainer:  18%|█▊        | 18/100 [00:49<03:06,  2.27s/it]"
          ]
        },
        {
          "output_type": "stream",
          "name": "stdout",
          "text": [
            "108/108 [==============================] - 0s 893us/step\n",
            "108/108 [==============================] - 0s 892us/step\n",
            "108/108 [==============================] - 0s 925us/step\n",
            "108/108 [==============================] - 0s 877us/step\n",
            "108/108 [==============================] - 0s 859us/step\n",
            "108/108 [==============================] - 0s 831us/step\n",
            "108/108 [==============================] - 0s 908us/step\n",
            "108/108 [==============================] - 0s 881us/step\n",
            "108/108 [==============================] - 0s 843us/step\n",
            "108/108 [==============================] - 0s 850us/step\n",
            "108/108 [==============================] - 0s 901us/step\n",
            "108/108 [==============================] - 0s 896us/step\n",
            "63/63 [==============================] - 0s 807us/step\n"
          ]
        },
        {
          "output_type": "stream",
          "name": "stderr",
          "text": [
            "\rPermutation explainer:  19%|█▉        | 19/100 [00:52<03:06,  2.31s/it]"
          ]
        },
        {
          "output_type": "stream",
          "name": "stdout",
          "text": [
            "106/106 [==============================] - 0s 935us/step\n",
            "106/106 [==============================] - 0s 843us/step\n",
            "106/106 [==============================] - 0s 902us/step\n",
            "106/106 [==============================] - 0s 860us/step\n",
            "106/106 [==============================] - 0s 850us/step\n",
            "106/106 [==============================] - 0s 947us/step\n",
            "106/106 [==============================] - 0s 872us/step\n",
            "106/106 [==============================] - 0s 816us/step\n",
            "106/106 [==============================] - 0s 841us/step\n",
            "106/106 [==============================] - 0s 1ms/step\n",
            "106/106 [==============================] - 0s 855us/step\n",
            "106/106 [==============================] - 0s 872us/step\n",
            "63/63 [==============================] - 0s 930us/step\n"
          ]
        },
        {
          "output_type": "stream",
          "name": "stderr",
          "text": [
            "\rPermutation explainer:  20%|██        | 20/100 [00:54<03:05,  2.32s/it]"
          ]
        },
        {
          "output_type": "stream",
          "name": "stdout",
          "text": [
            "104/104 [==============================] - 0s 884us/step\n",
            "104/104 [==============================] - 0s 855us/step\n",
            "104/104 [==============================] - 0s 865us/step\n",
            "104/104 [==============================] - 0s 813us/step\n",
            "104/104 [==============================] - 0s 947us/step\n",
            "104/104 [==============================] - 0s 841us/step\n",
            "104/104 [==============================] - 0s 844us/step\n",
            "104/104 [==============================] - 0s 943us/step\n",
            "104/104 [==============================] - 0s 800us/step\n",
            "104/104 [==============================] - 0s 867us/step\n",
            "104/104 [==============================] - 0s 816us/step\n",
            "104/104 [==============================] - 0s 840us/step\n",
            "64/64 [==============================] - 0s 990us/step\n"
          ]
        },
        {
          "output_type": "stream",
          "name": "stderr",
          "text": [
            "\rPermutation explainer:  21%|██        | 21/100 [00:56<03:01,  2.30s/it]"
          ]
        },
        {
          "output_type": "stream",
          "name": "stdout",
          "text": [
            "108/108 [==============================] - 0s 912us/step\n",
            "108/108 [==============================] - 0s 939us/step\n",
            "108/108 [==============================] - 0s 833us/step\n",
            "108/108 [==============================] - 0s 827us/step\n",
            "108/108 [==============================] - 0s 868us/step\n",
            "108/108 [==============================] - 0s 838us/step\n",
            "108/108 [==============================] - 0s 1ms/step\n",
            "108/108 [==============================] - 0s 848us/step\n",
            "108/108 [==============================] - 0s 960us/step\n",
            "108/108 [==============================] - 0s 806us/step\n",
            "108/108 [==============================] - 0s 870us/step\n",
            "108/108 [==============================] - 0s 902us/step\n",
            "64/64 [==============================] - 0s 892us/step\n"
          ]
        },
        {
          "output_type": "stream",
          "name": "stderr",
          "text": [
            "\rPermutation explainer:  22%|██▏       | 22/100 [00:59<03:00,  2.32s/it]"
          ]
        },
        {
          "output_type": "stream",
          "name": "stdout",
          "text": [
            "103/103 [==============================] - 0s 916us/step\n",
            "103/103 [==============================] - 0s 918us/step\n",
            "103/103 [==============================] - 0s 932us/step\n",
            "103/103 [==============================] - 0s 957us/step\n",
            "103/103 [==============================] - 0s 820us/step\n",
            "103/103 [==============================] - 0s 867us/step\n",
            "103/103 [==============================] - 0s 841us/step\n",
            "103/103 [==============================] - 0s 907us/step\n",
            "103/103 [==============================] - 0s 828us/step\n",
            "103/103 [==============================] - 0s 850us/step\n",
            "103/103 [==============================] - 0s 1ms/step\n",
            "103/103 [==============================] - 0s 887us/step\n",
            "64/64 [==============================] - 0s 954us/step\n"
          ]
        },
        {
          "output_type": "stream",
          "name": "stderr",
          "text": [
            "\rPermutation explainer:  23%|██▎       | 23/100 [01:01<02:59,  2.33s/it]"
          ]
        },
        {
          "output_type": "stream",
          "name": "stdout",
          "text": [
            "105/105 [==============================] - 0s 893us/step\n",
            "105/105 [==============================] - 0s 884us/step\n",
            "105/105 [==============================] - 0s 956us/step\n",
            "105/105 [==============================] - 0s 882us/step\n",
            "105/105 [==============================] - 0s 841us/step\n",
            "105/105 [==============================] - 0s 924us/step\n",
            "105/105 [==============================] - 0s 1ms/step\n",
            "105/105 [==============================] - 0s 888us/step\n",
            "105/105 [==============================] - 0s 940us/step\n",
            "105/105 [==============================] - 0s 858us/step\n",
            "105/105 [==============================] - 0s 896us/step\n",
            "105/105 [==============================] - 0s 917us/step\n",
            "62/62 [==============================] - 0s 875us/step\n"
          ]
        },
        {
          "output_type": "stream",
          "name": "stderr",
          "text": [
            "\rPermutation explainer:  24%|██▍       | 24/100 [01:03<02:53,  2.28s/it]"
          ]
        },
        {
          "output_type": "stream",
          "name": "stdout",
          "text": [
            "104/104 [==============================] - 0s 891us/step\n",
            "104/104 [==============================] - 0s 956us/step\n",
            "104/104 [==============================] - 0s 903us/step\n",
            "104/104 [==============================] - 0s 871us/step\n",
            "104/104 [==============================] - 0s 893us/step\n",
            "104/104 [==============================] - 0s 897us/step\n",
            "104/104 [==============================] - 0s 969us/step\n",
            "104/104 [==============================] - 0s 890us/step\n",
            "104/104 [==============================] - 0s 837us/step\n",
            "104/104 [==============================] - 0s 2ms/step\n",
            "104/104 [==============================] - 0s 855us/step\n",
            "104/104 [==============================] - 0s 923us/step\n",
            "63/63 [==============================] - 0s 986us/step\n"
          ]
        },
        {
          "output_type": "stream",
          "name": "stderr",
          "text": [
            "\rPermutation explainer:  25%|██▌       | 25/100 [01:06<02:58,  2.38s/it]"
          ]
        },
        {
          "output_type": "stream",
          "name": "stdout",
          "text": [
            "103/103 [==============================] - 0s 3ms/step\n",
            "103/103 [==============================] - 0s 841us/step\n",
            "103/103 [==============================] - 0s 2ms/step\n",
            "103/103 [==============================] - 0s 2ms/step\n",
            "103/103 [==============================] - 0s 879us/step\n",
            "103/103 [==============================] - 0s 871us/step\n",
            "103/103 [==============================] - 0s 846us/step\n",
            "103/103 [==============================] - 0s 919us/step\n",
            "103/103 [==============================] - 0s 841us/step\n",
            "103/103 [==============================] - 0s 962us/step\n",
            "103/103 [==============================] - 0s 896us/step\n",
            "103/103 [==============================] - 0s 847us/step\n",
            "64/64 [==============================] - 0s 955us/step\n"
          ]
        },
        {
          "output_type": "stream",
          "name": "stderr",
          "text": [
            "\rPermutation explainer:  26%|██▌       | 26/100 [01:09<03:14,  2.62s/it]"
          ]
        },
        {
          "output_type": "stream",
          "name": "stdout",
          "text": [
            "104/104 [==============================] - 0s 949us/step\n",
            "104/104 [==============================] - 0s 895us/step\n",
            "104/104 [==============================] - 0s 948us/step\n",
            "104/104 [==============================] - 0s 865us/step\n",
            "104/104 [==============================] - 0s 879us/step\n",
            "104/104 [==============================] - 0s 859us/step\n",
            "104/104 [==============================] - 0s 927us/step\n",
            "104/104 [==============================] - 0s 872us/step\n",
            "104/104 [==============================] - 0s 962us/step\n",
            "104/104 [==============================] - 0s 852us/step\n",
            "104/104 [==============================] - 0s 857us/step\n",
            "104/104 [==============================] - 0s 882us/step\n",
            "65/65 [==============================] - 0s 941us/step\n"
          ]
        },
        {
          "output_type": "stream",
          "name": "stderr",
          "text": [
            "\rPermutation explainer:  27%|██▋       | 27/100 [01:11<03:04,  2.52s/it]"
          ]
        },
        {
          "output_type": "stream",
          "name": "stdout",
          "text": [
            "103/103 [==============================] - 0s 975us/step\n",
            "103/103 [==============================] - 0s 1ms/step\n",
            "103/103 [==============================] - 0s 906us/step\n",
            "103/103 [==============================] - 0s 941us/step\n",
            "103/103 [==============================] - 0s 881us/step\n",
            "103/103 [==============================] - 0s 915us/step\n",
            "103/103 [==============================] - 0s 997us/step\n",
            "103/103 [==============================] - 0s 1ms/step\n",
            "103/103 [==============================] - 0s 828us/step\n",
            "103/103 [==============================] - 0s 962us/step\n",
            "103/103 [==============================] - 0s 984us/step\n",
            "103/103 [==============================] - 0s 879us/step\n",
            "64/64 [==============================] - 0s 1ms/step\n"
          ]
        },
        {
          "output_type": "stream",
          "name": "stderr",
          "text": [
            "\rPermutation explainer:  28%|██▊       | 28/100 [01:14<02:56,  2.45s/it]"
          ]
        },
        {
          "output_type": "stream",
          "name": "stdout",
          "text": [
            "105/105 [==============================] - 0s 809us/step\n",
            "105/105 [==============================] - 0s 862us/step\n",
            "105/105 [==============================] - 0s 852us/step\n",
            "105/105 [==============================] - 0s 951us/step\n",
            "105/105 [==============================] - 0s 983us/step\n",
            "105/105 [==============================] - 0s 1ms/step\n",
            "105/105 [==============================] - 0s 899us/step\n",
            "105/105 [==============================] - 0s 838us/step\n",
            "105/105 [==============================] - 0s 871us/step\n",
            "105/105 [==============================] - 0s 852us/step\n",
            "105/105 [==============================] - 0s 855us/step\n",
            "105/105 [==============================] - 0s 928us/step\n",
            "64/64 [==============================] - 0s 876us/step\n"
          ]
        },
        {
          "output_type": "stream",
          "name": "stderr",
          "text": [
            "\rPermutation explainer:  29%|██▉       | 29/100 [01:16<02:50,  2.40s/it]"
          ]
        },
        {
          "output_type": "stream",
          "name": "stdout",
          "text": [
            "102/102 [==============================] - 0s 893us/step\n",
            "102/102 [==============================] - 0s 872us/step\n",
            "102/102 [==============================] - 0s 895us/step\n",
            "102/102 [==============================] - 0s 896us/step\n",
            "102/102 [==============================] - 0s 912us/step\n",
            "102/102 [==============================] - 0s 829us/step\n",
            "102/102 [==============================] - 0s 819us/step\n",
            "102/102 [==============================] - 0s 836us/step\n",
            "102/102 [==============================] - 0s 892us/step\n",
            "102/102 [==============================] - 0s 910us/step\n",
            "102/102 [==============================] - 0s 852us/step\n",
            "102/102 [==============================] - 0s 902us/step\n",
            "63/63 [==============================] - 0s 940us/step\n"
          ]
        },
        {
          "output_type": "stream",
          "name": "stderr",
          "text": [
            "\rPermutation explainer:  30%|███       | 30/100 [01:18<02:45,  2.37s/it]"
          ]
        },
        {
          "output_type": "stream",
          "name": "stdout",
          "text": [
            "107/107 [==============================] - 0s 1ms/step\n",
            "107/107 [==============================] - 0s 888us/step\n",
            "107/107 [==============================] - 0s 941us/step\n",
            "107/107 [==============================] - 0s 855us/step\n",
            "107/107 [==============================] - 0s 887us/step\n",
            "107/107 [==============================] - 0s 861us/step\n",
            "107/107 [==============================] - 0s 1ms/step\n",
            "107/107 [==============================] - 0s 943us/step\n",
            "107/107 [==============================] - 0s 915us/step\n",
            "107/107 [==============================] - 0s 912us/step\n",
            "107/107 [==============================] - 0s 885us/step\n",
            "107/107 [==============================] - 0s 968us/step\n",
            "65/65 [==============================] - 0s 1ms/step\n"
          ]
        },
        {
          "output_type": "stream",
          "name": "stderr",
          "text": [
            "\rPermutation explainer:  31%|███       | 31/100 [01:20<02:41,  2.33s/it]"
          ]
        },
        {
          "output_type": "stream",
          "name": "stdout",
          "text": [
            "103/103 [==============================] - 0s 871us/step\n",
            "103/103 [==============================] - 0s 867us/step\n",
            "103/103 [==============================] - 0s 840us/step\n",
            "103/103 [==============================] - 0s 798us/step\n",
            "103/103 [==============================] - 0s 825us/step\n",
            "103/103 [==============================] - 0s 834us/step\n",
            "103/103 [==============================] - 0s 940us/step\n",
            "103/103 [==============================] - 0s 865us/step\n",
            "103/103 [==============================] - 0s 848us/step\n",
            "103/103 [==============================] - 0s 860us/step\n",
            "103/103 [==============================] - 0s 926us/step\n",
            "103/103 [==============================] - 0s 881us/step\n",
            "64/64 [==============================] - 0s 946us/step\n"
          ]
        },
        {
          "output_type": "stream",
          "name": "stderr",
          "text": [
            "\rPermutation explainer:  32%|███▏      | 32/100 [01:23<02:37,  2.31s/it]"
          ]
        },
        {
          "output_type": "stream",
          "name": "stdout",
          "text": [
            "102/102 [==============================] - 0s 882us/step\n",
            "102/102 [==============================] - 0s 833us/step\n",
            "102/102 [==============================] - 0s 841us/step\n",
            "102/102 [==============================] - 0s 789us/step\n",
            "102/102 [==============================] - 0s 880us/step\n",
            "102/102 [==============================] - 0s 888us/step\n",
            "102/102 [==============================] - 0s 812us/step\n",
            "102/102 [==============================] - 0s 821us/step\n",
            "102/102 [==============================] - 0s 838us/step\n",
            "102/102 [==============================] - 0s 1ms/step\n",
            "102/102 [==============================] - 0s 855us/step\n",
            "102/102 [==============================] - 0s 875us/step\n",
            "63/63 [==============================] - 0s 844us/step\n"
          ]
        },
        {
          "output_type": "stream",
          "name": "stderr",
          "text": [
            "\rPermutation explainer:  33%|███▎      | 33/100 [01:25<02:32,  2.28s/it]"
          ]
        },
        {
          "output_type": "stream",
          "name": "stdout",
          "text": [
            "108/108 [==============================] - 0s 888us/step\n",
            "108/108 [==============================] - 0s 837us/step\n",
            "108/108 [==============================] - 0s 1ms/step\n",
            "108/108 [==============================] - 0s 1ms/step\n",
            "108/108 [==============================] - 0s 855us/step\n",
            "108/108 [==============================] - 0s 875us/step\n",
            "108/108 [==============================] - 0s 883us/step\n",
            "108/108 [==============================] - 0s 920us/step\n",
            "108/108 [==============================] - 0s 1ms/step\n",
            "108/108 [==============================] - 0s 922us/step\n",
            "108/108 [==============================] - 0s 855us/step\n",
            "108/108 [==============================] - 0s 835us/step\n",
            "64/64 [==============================] - 0s 771us/step\n"
          ]
        },
        {
          "output_type": "stream",
          "name": "stderr",
          "text": [
            "\rPermutation explainer:  34%|███▍      | 34/100 [01:27<02:31,  2.30s/it]"
          ]
        },
        {
          "output_type": "stream",
          "name": "stdout",
          "text": [
            "102/102 [==============================] - 0s 841us/step\n",
            "102/102 [==============================] - 0s 901us/step\n",
            "102/102 [==============================] - 0s 833us/step\n",
            "102/102 [==============================] - 0s 851us/step\n",
            "102/102 [==============================] - 0s 880us/step\n",
            "102/102 [==============================] - 0s 898us/step\n",
            "102/102 [==============================] - 0s 842us/step\n",
            "102/102 [==============================] - 0s 903us/step\n",
            "102/102 [==============================] - 0s 820us/step\n",
            "102/102 [==============================] - 0s 839us/step\n",
            "102/102 [==============================] - 0s 856us/step\n",
            "102/102 [==============================] - 0s 902us/step\n",
            "63/63 [==============================] - 0s 1ms/step\n"
          ]
        },
        {
          "output_type": "stream",
          "name": "stderr",
          "text": [
            "\rPermutation explainer:  35%|███▌      | 35/100 [01:30<02:30,  2.32s/it]"
          ]
        },
        {
          "output_type": "stream",
          "name": "stdout",
          "text": [
            "105/105 [==============================] - 0s 904us/step\n",
            "105/105 [==============================] - 0s 842us/step\n",
            "105/105 [==============================] - 0s 955us/step\n",
            "105/105 [==============================] - 0s 1ms/step\n",
            "105/105 [==============================] - 0s 935us/step\n",
            "105/105 [==============================] - 0s 857us/step\n",
            "105/105 [==============================] - 0s 898us/step\n",
            "105/105 [==============================] - 0s 837us/step\n",
            "105/105 [==============================] - 0s 823us/step\n",
            "105/105 [==============================] - 0s 826us/step\n",
            "105/105 [==============================] - 0s 930us/step\n",
            "105/105 [==============================] - 0s 920us/step\n",
            "63/63 [==============================] - 0s 950us/step\n"
          ]
        },
        {
          "output_type": "stream",
          "name": "stderr",
          "text": [
            "\rPermutation explainer:  36%|███▌      | 36/100 [01:32<02:27,  2.31s/it]"
          ]
        },
        {
          "output_type": "stream",
          "name": "stdout",
          "text": [
            "103/103 [==============================] - 0s 818us/step\n",
            "103/103 [==============================] - 0s 915us/step\n",
            "103/103 [==============================] - 0s 882us/step\n",
            "103/103 [==============================] - 0s 853us/step\n",
            "103/103 [==============================] - 0s 901us/step\n",
            "103/103 [==============================] - 0s 931us/step\n",
            "103/103 [==============================] - 0s 827us/step\n",
            "103/103 [==============================] - 0s 948us/step\n",
            "103/103 [==============================] - 0s 940us/step\n",
            "103/103 [==============================] - 0s 895us/step\n",
            "103/103 [==============================] - 0s 900us/step\n",
            "103/103 [==============================] - 0s 932us/step\n",
            "62/62 [==============================] - 0s 962us/step\n"
          ]
        },
        {
          "output_type": "stream",
          "name": "stderr",
          "text": [
            "\rPermutation explainer:  37%|███▋      | 37/100 [01:34<02:24,  2.30s/it]"
          ]
        },
        {
          "output_type": "stream",
          "name": "stdout",
          "text": [
            "109/109 [==============================] - 0s 900us/step\n",
            "109/109 [==============================] - 0s 851us/step\n",
            "109/109 [==============================] - 0s 920us/step\n",
            "109/109 [==============================] - 0s 838us/step\n",
            "109/109 [==============================] - 0s 861us/step\n",
            "109/109 [==============================] - 0s 814us/step\n",
            "109/109 [==============================] - 0s 1ms/step\n",
            "109/109 [==============================] - 0s 885us/step\n",
            "109/109 [==============================] - 0s 845us/step\n",
            "109/109 [==============================] - 0s 896us/step\n",
            "109/109 [==============================] - 0s 845us/step\n",
            "109/109 [==============================] - 0s 810us/step\n",
            "65/65 [==============================] - 0s 1ms/step\n"
          ]
        },
        {
          "output_type": "stream",
          "name": "stderr",
          "text": [
            "\rPermutation explainer:  38%|███▊      | 38/100 [01:37<02:22,  2.30s/it]"
          ]
        },
        {
          "output_type": "stream",
          "name": "stdout",
          "text": [
            "105/105 [==============================] - 0s 956us/step\n",
            "105/105 [==============================] - 0s 852us/step\n",
            "105/105 [==============================] - 0s 879us/step\n",
            "105/105 [==============================] - 0s 833us/step\n",
            "105/105 [==============================] - 0s 805us/step\n",
            "105/105 [==============================] - 0s 902us/step\n",
            "105/105 [==============================] - 0s 1ms/step\n",
            "105/105 [==============================] - 0s 905us/step\n",
            "105/105 [==============================] - 0s 853us/step\n",
            "105/105 [==============================] - 0s 837us/step\n",
            "105/105 [==============================] - 0s 933us/step\n",
            "105/105 [==============================] - 0s 940us/step\n",
            "64/64 [==============================] - 0s 1ms/step\n"
          ]
        },
        {
          "output_type": "stream",
          "name": "stderr",
          "text": [
            "\rPermutation explainer:  39%|███▉      | 39/100 [01:39<02:20,  2.30s/it]"
          ]
        },
        {
          "output_type": "stream",
          "name": "stdout",
          "text": [
            "108/108 [==============================] - 0s 870us/step\n",
            "108/108 [==============================] - 0s 847us/step\n",
            "108/108 [==============================] - 0s 838us/step\n",
            "108/108 [==============================] - 0s 816us/step\n",
            "108/108 [==============================] - 0s 812us/step\n",
            "108/108 [==============================] - 0s 854us/step\n",
            "108/108 [==============================] - 0s 874us/step\n",
            "108/108 [==============================] - 0s 891us/step\n",
            "108/108 [==============================] - 0s 911us/step\n",
            "108/108 [==============================] - 0s 812us/step\n",
            "108/108 [==============================] - 0s 839us/step\n",
            "108/108 [==============================] - 0s 853us/step\n",
            "62/62 [==============================] - 0s 949us/step\n"
          ]
        },
        {
          "output_type": "stream",
          "name": "stderr",
          "text": [
            "\rPermutation explainer:  40%|████      | 40/100 [01:41<02:19,  2.32s/it]"
          ]
        },
        {
          "output_type": "stream",
          "name": "stdout",
          "text": [
            "104/104 [==============================] - 0s 814us/step\n",
            "104/104 [==============================] - 0s 1ms/step\n",
            "104/104 [==============================] - 0s 834us/step\n",
            "104/104 [==============================] - 0s 893us/step\n",
            "104/104 [==============================] - 0s 900us/step\n",
            "104/104 [==============================] - 0s 853us/step\n",
            "104/104 [==============================] - 0s 871us/step\n",
            "104/104 [==============================] - 0s 890us/step\n",
            "104/104 [==============================] - 0s 933us/step\n",
            "104/104 [==============================] - 0s 870us/step\n",
            "104/104 [==============================] - 0s 827us/step\n",
            "104/104 [==============================] - 0s 906us/step\n",
            "64/64 [==============================] - 0s 1ms/step\n"
          ]
        },
        {
          "output_type": "stream",
          "name": "stderr",
          "text": [
            "\rPermutation explainer:  41%|████      | 41/100 [01:43<02:16,  2.31s/it]"
          ]
        },
        {
          "output_type": "stream",
          "name": "stdout",
          "text": [
            "105/105 [==============================] - 0s 825us/step\n",
            "105/105 [==============================] - 0s 894us/step\n",
            "105/105 [==============================] - 0s 861us/step\n",
            "105/105 [==============================] - 0s 845us/step\n",
            "105/105 [==============================] - 0s 1ms/step\n",
            "105/105 [==============================] - 0s 963us/step\n",
            "105/105 [==============================] - 0s 867us/step\n",
            "105/105 [==============================] - 0s 912us/step\n",
            "105/105 [==============================] - 0s 1ms/step\n",
            "105/105 [==============================] - 0s 808us/step\n",
            "105/105 [==============================] - 0s 845us/step\n",
            "105/105 [==============================] - 0s 1ms/step\n",
            "62/62 [==============================] - 0s 927us/step\n"
          ]
        },
        {
          "output_type": "stream",
          "name": "stderr",
          "text": [
            "\rPermutation explainer:  42%|████▏     | 42/100 [01:46<02:13,  2.31s/it]"
          ]
        },
        {
          "output_type": "stream",
          "name": "stdout",
          "text": [
            "107/107 [==============================] - 0s 829us/step\n",
            "107/107 [==============================] - 0s 801us/step\n",
            "107/107 [==============================] - 0s 927us/step\n",
            "107/107 [==============================] - 0s 829us/step\n",
            "107/107 [==============================] - 0s 811us/step\n",
            "107/107 [==============================] - 0s 1ms/step\n",
            "107/107 [==============================] - 0s 893us/step\n",
            "107/107 [==============================] - 0s 905us/step\n",
            "107/107 [==============================] - 0s 893us/step\n",
            "107/107 [==============================] - 0s 842us/step\n",
            "107/107 [==============================] - 0s 933us/step\n",
            "107/107 [==============================] - 0s 819us/step\n",
            "63/63 [==============================] - 0s 902us/step\n"
          ]
        },
        {
          "output_type": "stream",
          "name": "stderr",
          "text": [
            "\rPermutation explainer:  43%|████▎     | 43/100 [01:48<02:12,  2.33s/it]"
          ]
        },
        {
          "output_type": "stream",
          "name": "stdout",
          "text": [
            "104/104 [==============================] - 0s 840us/step\n",
            "104/104 [==============================] - 0s 864us/step\n",
            "104/104 [==============================] - 0s 835us/step\n",
            "104/104 [==============================] - 0s 919us/step\n",
            "104/104 [==============================] - 0s 857us/step\n",
            "104/104 [==============================] - 0s 881us/step\n",
            "104/104 [==============================] - 0s 910us/step\n",
            "104/104 [==============================] - 0s 833us/step\n",
            "104/104 [==============================] - 0s 902us/step\n",
            "104/104 [==============================] - 0s 928us/step\n",
            "104/104 [==============================] - 0s 847us/step\n",
            "104/104 [==============================] - 0s 787us/step\n",
            "64/64 [==============================] - 0s 850us/step\n"
          ]
        },
        {
          "output_type": "stream",
          "name": "stderr",
          "text": [
            "\rPermutation explainer:  44%|████▍     | 44/100 [01:51<02:11,  2.34s/it]"
          ]
        },
        {
          "output_type": "stream",
          "name": "stdout",
          "text": [
            "104/104 [==============================] - 0s 905us/step\n",
            "104/104 [==============================] - 0s 1ms/step\n",
            "104/104 [==============================] - 0s 860us/step\n",
            "104/104 [==============================] - 0s 867us/step\n",
            "104/104 [==============================] - 0s 885us/step\n",
            "104/104 [==============================] - 0s 918us/step\n",
            "104/104 [==============================] - 0s 922us/step\n",
            "104/104 [==============================] - 0s 916us/step\n",
            "104/104 [==============================] - 0s 927us/step\n",
            "104/104 [==============================] - 0s 934us/step\n",
            "104/104 [==============================] - 0s 813us/step\n",
            "104/104 [==============================] - 0s 818us/step\n",
            "63/63 [==============================] - 0s 1ms/step\n"
          ]
        },
        {
          "output_type": "stream",
          "name": "stderr",
          "text": [
            "\rPermutation explainer:  45%|████▌     | 45/100 [01:53<02:08,  2.34s/it]"
          ]
        },
        {
          "output_type": "stream",
          "name": "stdout",
          "text": [
            "104/104 [==============================] - 0s 877us/step\n",
            "104/104 [==============================] - 0s 850us/step\n",
            "104/104 [==============================] - 0s 850us/step\n",
            "104/104 [==============================] - 0s 843us/step\n",
            "104/104 [==============================] - 0s 961us/step\n",
            "104/104 [==============================] - 0s 808us/step\n",
            "104/104 [==============================] - 0s 843us/step\n",
            "104/104 [==============================] - 0s 808us/step\n",
            "104/104 [==============================] - 0s 1ms/step\n",
            "104/104 [==============================] - 0s 958us/step\n",
            "104/104 [==============================] - 0s 894us/step\n",
            "104/104 [==============================] - 0s 843us/step\n",
            "65/65 [==============================] - 0s 902us/step\n"
          ]
        },
        {
          "output_type": "stream",
          "name": "stderr",
          "text": [
            "\rPermutation explainer:  46%|████▌     | 46/100 [01:55<02:06,  2.34s/it]"
          ]
        },
        {
          "output_type": "stream",
          "name": "stdout",
          "text": [
            "103/103 [==============================] - 0s 963us/step\n",
            "103/103 [==============================] - 0s 908us/step\n",
            "103/103 [==============================] - 0s 860us/step\n",
            "103/103 [==============================] - 0s 903us/step\n",
            "103/103 [==============================] - 0s 892us/step\n",
            "103/103 [==============================] - 0s 897us/step\n",
            "103/103 [==============================] - 0s 941us/step\n",
            "103/103 [==============================] - 0s 828us/step\n",
            "103/103 [==============================] - 0s 896us/step\n",
            "103/103 [==============================] - 0s 972us/step\n",
            "103/103 [==============================] - 0s 829us/step\n",
            "103/103 [==============================] - 0s 899us/step\n",
            "63/63 [==============================] - 0s 1ms/step\n"
          ]
        },
        {
          "output_type": "stream",
          "name": "stderr",
          "text": [
            "\rPermutation explainer:  47%|████▋     | 47/100 [01:58<02:03,  2.32s/it]"
          ]
        },
        {
          "output_type": "stream",
          "name": "stdout",
          "text": [
            "108/108 [==============================] - 0s 849us/step\n",
            "108/108 [==============================] - 0s 845us/step\n",
            "108/108 [==============================] - 0s 938us/step\n",
            "108/108 [==============================] - 0s 808us/step\n",
            "108/108 [==============================] - 0s 862us/step\n",
            "108/108 [==============================] - 0s 828us/step\n",
            "108/108 [==============================] - 0s 882us/step\n",
            "108/108 [==============================] - 0s 902us/step\n",
            "108/108 [==============================] - 0s 877us/step\n",
            "108/108 [==============================] - 0s 861us/step\n",
            "108/108 [==============================] - 0s 1ms/step\n",
            "108/108 [==============================] - 0s 977us/step\n",
            "65/65 [==============================] - 0s 977us/step\n"
          ]
        },
        {
          "output_type": "stream",
          "name": "stderr",
          "text": [
            "\rPermutation explainer:  48%|████▊     | 48/100 [02:00<02:01,  2.33s/it]"
          ]
        },
        {
          "output_type": "stream",
          "name": "stdout",
          "text": [
            "103/103 [==============================] - 0s 964us/step\n",
            "103/103 [==============================] - 0s 797us/step\n",
            "103/103 [==============================] - 0s 872us/step\n",
            "103/103 [==============================] - 0s 1ms/step\n",
            "103/103 [==============================] - 0s 940us/step\n",
            "103/103 [==============================] - 0s 872us/step\n",
            "103/103 [==============================] - 0s 847us/step\n",
            "103/103 [==============================] - 0s 798us/step\n",
            "103/103 [==============================] - 0s 957us/step\n",
            "103/103 [==============================] - 0s 901us/step\n",
            "103/103 [==============================] - 0s 1ms/step\n",
            "103/103 [==============================] - 0s 1ms/step\n",
            "62/62 [==============================] - 0s 952us/step\n"
          ]
        },
        {
          "output_type": "stream",
          "name": "stderr",
          "text": [
            "\rPermutation explainer:  49%|████▉     | 49/100 [02:02<01:58,  2.33s/it]"
          ]
        },
        {
          "output_type": "stream",
          "name": "stdout",
          "text": [
            "103/103 [==============================] - 0s 850us/step\n",
            "103/103 [==============================] - 0s 873us/step\n",
            "103/103 [==============================] - 0s 1ms/step\n",
            "103/103 [==============================] - 0s 875us/step\n",
            "103/103 [==============================] - 0s 924us/step\n",
            "103/103 [==============================] - 0s 947us/step\n",
            "103/103 [==============================] - 0s 862us/step\n",
            "103/103 [==============================] - 0s 852us/step\n",
            "103/103 [==============================] - 0s 944us/step\n",
            "103/103 [==============================] - 0s 837us/step\n",
            "103/103 [==============================] - 0s 941us/step\n",
            "103/103 [==============================] - 0s 805us/step\n",
            "62/62 [==============================] - 0s 997us/step\n"
          ]
        },
        {
          "output_type": "stream",
          "name": "stderr",
          "text": [
            "\rPermutation explainer:  50%|█████     | 50/100 [02:04<01:55,  2.30s/it]"
          ]
        },
        {
          "output_type": "stream",
          "name": "stdout",
          "text": [
            "103/103 [==============================] - 0s 944us/step\n",
            "103/103 [==============================] - 0s 921us/step\n",
            "103/103 [==============================] - 0s 910us/step\n",
            "103/103 [==============================] - 0s 1ms/step\n",
            "103/103 [==============================] - 0s 927us/step\n",
            "103/103 [==============================] - 0s 916us/step\n",
            "103/103 [==============================] - 0s 879us/step\n",
            "103/103 [==============================] - 0s 921us/step\n",
            "103/103 [==============================] - 0s 965us/step\n",
            "103/103 [==============================] - 0s 971us/step\n",
            "103/103 [==============================] - 0s 966us/step\n",
            "103/103 [==============================] - 0s 963us/step\n",
            "62/62 [==============================] - 0s 925us/step\n"
          ]
        },
        {
          "output_type": "stream",
          "name": "stderr",
          "text": [
            "\rPermutation explainer:  51%|█████     | 51/100 [02:07<01:53,  2.32s/it]"
          ]
        },
        {
          "output_type": "stream",
          "name": "stdout",
          "text": [
            "103/103 [==============================] - 0s 863us/step\n",
            "103/103 [==============================] - 0s 908us/step\n",
            "103/103 [==============================] - 0s 847us/step\n",
            "103/103 [==============================] - 0s 924us/step\n",
            "103/103 [==============================] - 0s 854us/step\n",
            "103/103 [==============================] - 0s 907us/step\n",
            "103/103 [==============================] - 0s 955us/step\n",
            "103/103 [==============================] - 0s 986us/step\n",
            "103/103 [==============================] - 0s 1ms/step\n",
            "103/103 [==============================] - 0s 885us/step\n",
            "103/103 [==============================] - 0s 935us/step\n",
            "103/103 [==============================] - 0s 884us/step\n",
            "63/63 [==============================] - 0s 929us/step\n"
          ]
        },
        {
          "output_type": "stream",
          "name": "stderr",
          "text": [
            "\rPermutation explainer:  52%|█████▏    | 52/100 [02:09<01:52,  2.34s/it]"
          ]
        },
        {
          "output_type": "stream",
          "name": "stdout",
          "text": [
            "105/105 [==============================] - 0s 887us/step\n",
            "105/105 [==============================] - 0s 863us/step\n",
            "105/105 [==============================] - 0s 888us/step\n",
            "105/105 [==============================] - 0s 853us/step\n",
            "105/105 [==============================] - 0s 886us/step\n",
            "105/105 [==============================] - 0s 900us/step\n",
            "105/105 [==============================] - 0s 852us/step\n",
            "105/105 [==============================] - 0s 844us/step\n",
            "105/105 [==============================] - 0s 808us/step\n",
            "105/105 [==============================] - 0s 852us/step\n",
            "105/105 [==============================] - 0s 909us/step\n",
            "105/105 [==============================] - 0s 922us/step\n",
            "63/63 [==============================] - 0s 912us/step\n"
          ]
        },
        {
          "output_type": "stream",
          "name": "stderr",
          "text": [
            "\rPermutation explainer:  53%|█████▎    | 53/100 [02:11<01:48,  2.30s/it]"
          ]
        },
        {
          "output_type": "stream",
          "name": "stdout",
          "text": [
            "105/105 [==============================] - 0s 890us/step\n",
            "105/105 [==============================] - 0s 934us/step\n",
            "105/105 [==============================] - 0s 939us/step\n",
            "105/105 [==============================] - 0s 937us/step\n",
            "105/105 [==============================] - 0s 1ms/step\n",
            "105/105 [==============================] - 0s 947us/step\n",
            "105/105 [==============================] - 0s 1ms/step\n",
            "105/105 [==============================] - 0s 914us/step\n",
            "105/105 [==============================] - 0s 937us/step\n",
            "105/105 [==============================] - 0s 928us/step\n",
            "105/105 [==============================] - 0s 913us/step\n",
            "105/105 [==============================] - 0s 868us/step\n",
            "64/64 [==============================] - 0s 1ms/step\n"
          ]
        },
        {
          "output_type": "stream",
          "name": "stderr",
          "text": [
            "\rPermutation explainer:  54%|█████▍    | 54/100 [02:14<01:45,  2.29s/it]"
          ]
        },
        {
          "output_type": "stream",
          "name": "stdout",
          "text": [
            "103/103 [==============================] - 0s 925us/step\n",
            "103/103 [==============================] - 0s 826us/step\n",
            "103/103 [==============================] - 0s 856us/step\n",
            "103/103 [==============================] - 0s 875us/step\n",
            "103/103 [==============================] - 0s 846us/step\n",
            "103/103 [==============================] - 0s 827us/step\n",
            "103/103 [==============================] - 0s 894us/step\n",
            "103/103 [==============================] - 0s 893us/step\n",
            "103/103 [==============================] - 0s 974us/step\n",
            "103/103 [==============================] - 0s 874us/step\n",
            "103/103 [==============================] - 0s 889us/step\n",
            "103/103 [==============================] - 0s 930us/step\n",
            "63/63 [==============================] - 0s 910us/step\n"
          ]
        },
        {
          "output_type": "stream",
          "name": "stderr",
          "text": [
            "\rPermutation explainer:  55%|█████▌    | 55/100 [02:16<01:43,  2.30s/it]"
          ]
        },
        {
          "output_type": "stream",
          "name": "stdout",
          "text": [
            "105/105 [==============================] - 0s 886us/step\n",
            "105/105 [==============================] - 0s 896us/step\n",
            "105/105 [==============================] - 0s 869us/step\n",
            "105/105 [==============================] - 0s 872us/step\n",
            "105/105 [==============================] - 0s 847us/step\n",
            "105/105 [==============================] - 0s 945us/step\n",
            "105/105 [==============================] - 0s 876us/step\n",
            "105/105 [==============================] - 0s 860us/step\n",
            "105/105 [==============================] - 0s 918us/step\n",
            "105/105 [==============================] - 0s 847us/step\n",
            "105/105 [==============================] - 0s 864us/step\n",
            "105/105 [==============================] - 0s 915us/step\n",
            "65/65 [==============================] - 0s 967us/step\n"
          ]
        },
        {
          "output_type": "stream",
          "name": "stderr",
          "text": [
            "\rPermutation explainer:  56%|█████▌    | 56/100 [02:18<01:41,  2.31s/it]"
          ]
        },
        {
          "output_type": "stream",
          "name": "stdout",
          "text": [
            "105/105 [==============================] - 0s 889us/step\n",
            "105/105 [==============================] - 0s 1ms/step\n",
            "105/105 [==============================] - 0s 1ms/step\n",
            "105/105 [==============================] - 0s 868us/step\n",
            "105/105 [==============================] - 0s 885us/step\n",
            "105/105 [==============================] - 0s 901us/step\n",
            "105/105 [==============================] - 0s 939us/step\n",
            "105/105 [==============================] - 0s 827us/step\n",
            "105/105 [==============================] - 0s 838us/step\n",
            "105/105 [==============================] - 0s 831us/step\n",
            "105/105 [==============================] - 0s 834us/step\n",
            "105/105 [==============================] - 0s 925us/step\n",
            "65/65 [==============================] - 0s 1ms/step\n"
          ]
        },
        {
          "output_type": "stream",
          "name": "stderr",
          "text": [
            "\rPermutation explainer:  57%|█████▋    | 57/100 [02:21<01:39,  2.31s/it]"
          ]
        },
        {
          "output_type": "stream",
          "name": "stdout",
          "text": [
            "103/103 [==============================] - 0s 969us/step\n",
            "103/103 [==============================] - 0s 921us/step\n",
            "103/103 [==============================] - 0s 961us/step\n",
            "103/103 [==============================] - 0s 1ms/step\n",
            "103/103 [==============================] - 0s 928us/step\n",
            "103/103 [==============================] - 0s 929us/step\n",
            "103/103 [==============================] - 0s 853us/step\n",
            "103/103 [==============================] - 0s 982us/step\n",
            "103/103 [==============================] - 0s 927us/step\n",
            "103/103 [==============================] - 0s 1ms/step\n",
            "103/103 [==============================] - 0s 1ms/step\n",
            "103/103 [==============================] - 0s 938us/step\n",
            "64/64 [==============================] - 0s 991us/step\n"
          ]
        },
        {
          "output_type": "stream",
          "name": "stderr",
          "text": [
            "\rPermutation explainer:  58%|█████▊    | 58/100 [02:23<01:37,  2.31s/it]"
          ]
        },
        {
          "output_type": "stream",
          "name": "stdout",
          "text": [
            "106/106 [==============================] - 0s 883us/step\n",
            "106/106 [==============================] - 0s 881us/step\n",
            "106/106 [==============================] - 0s 1ms/step\n",
            "106/106 [==============================] - 0s 891us/step\n",
            "106/106 [==============================] - 0s 874us/step\n",
            "106/106 [==============================] - 0s 865us/step\n",
            "106/106 [==============================] - 0s 883us/step\n",
            "106/106 [==============================] - 0s 907us/step\n",
            "106/106 [==============================] - 0s 882us/step\n",
            "106/106 [==============================] - 0s 797us/step\n",
            "106/106 [==============================] - 0s 862us/step\n",
            "106/106 [==============================] - 0s 870us/step\n",
            "63/63 [==============================] - 0s 932us/step\n"
          ]
        },
        {
          "output_type": "stream",
          "name": "stderr",
          "text": [
            "\rPermutation explainer:  59%|█████▉    | 59/100 [02:25<01:35,  2.32s/it]"
          ]
        },
        {
          "output_type": "stream",
          "name": "stdout",
          "text": [
            "104/104 [==============================] - 0s 956us/step\n",
            "104/104 [==============================] - 0s 882us/step\n",
            "104/104 [==============================] - 0s 887us/step\n",
            "104/104 [==============================] - 0s 890us/step\n",
            "104/104 [==============================] - 0s 848us/step\n",
            "104/104 [==============================] - 0s 949us/step\n",
            "104/104 [==============================] - 0s 861us/step\n",
            "104/104 [==============================] - 0s 903us/step\n",
            "104/104 [==============================] - 0s 902us/step\n",
            "104/104 [==============================] - 0s 955us/step\n",
            "104/104 [==============================] - 0s 885us/step\n",
            "104/104 [==============================] - 0s 866us/step\n",
            "64/64 [==============================] - 0s 984us/step\n"
          ]
        },
        {
          "output_type": "stream",
          "name": "stderr",
          "text": [
            "\rPermutation explainer:  60%|██████    | 60/100 [02:28<01:33,  2.33s/it]"
          ]
        },
        {
          "output_type": "stream",
          "name": "stdout",
          "text": [
            "104/104 [==============================] - 0s 877us/step\n",
            "104/104 [==============================] - 0s 842us/step\n",
            "104/104 [==============================] - 0s 907us/step\n",
            "104/104 [==============================] - 0s 853us/step\n",
            "104/104 [==============================] - 0s 1ms/step\n",
            "104/104 [==============================] - 0s 872us/step\n",
            "104/104 [==============================] - 0s 945us/step\n",
            "104/104 [==============================] - 0s 891us/step\n",
            "104/104 [==============================] - 0s 853us/step\n",
            "104/104 [==============================] - 0s 877us/step\n",
            "104/104 [==============================] - 0s 819us/step\n",
            "104/104 [==============================] - 0s 859us/step\n",
            "63/63 [==============================] - 0s 1ms/step\n"
          ]
        },
        {
          "output_type": "stream",
          "name": "stderr",
          "text": [
            "\rPermutation explainer:  61%|██████    | 61/100 [02:30<01:29,  2.31s/it]"
          ]
        },
        {
          "output_type": "stream",
          "name": "stdout",
          "text": [
            "102/102 [==============================] - 0s 892us/step\n",
            "102/102 [==============================] - 0s 857us/step\n",
            "102/102 [==============================] - 0s 902us/step\n",
            "102/102 [==============================] - 0s 1ms/step\n",
            "102/102 [==============================] - 0s 886us/step\n",
            "102/102 [==============================] - 0s 823us/step\n",
            "102/102 [==============================] - 0s 903us/step\n",
            "102/102 [==============================] - 0s 843us/step\n",
            "102/102 [==============================] - 0s 833us/step\n",
            "102/102 [==============================] - 0s 925us/step\n",
            "102/102 [==============================] - 0s 883us/step\n",
            "102/102 [==============================] - 0s 891us/step\n",
            "64/64 [==============================] - 0s 789us/step\n"
          ]
        },
        {
          "output_type": "stream",
          "name": "stderr",
          "text": [
            "\rPermutation explainer:  62%|██████▏   | 62/100 [02:32<01:26,  2.28s/it]"
          ]
        },
        {
          "output_type": "stream",
          "name": "stdout",
          "text": [
            "104/104 [==============================] - 0s 864us/step\n",
            "104/104 [==============================] - 0s 947us/step\n",
            "104/104 [==============================] - 0s 886us/step\n",
            "104/104 [==============================] - 0s 889us/step\n",
            "104/104 [==============================] - 0s 854us/step\n",
            "104/104 [==============================] - 0s 885us/step\n",
            "104/104 [==============================] - 0s 868us/step\n",
            "104/104 [==============================] - 0s 912us/step\n",
            "104/104 [==============================] - 0s 917us/step\n",
            "104/104 [==============================] - 0s 961us/step\n",
            "104/104 [==============================] - 0s 906us/step\n",
            "104/104 [==============================] - 0s 845us/step\n",
            "64/64 [==============================] - 0s 961us/step\n"
          ]
        },
        {
          "output_type": "stream",
          "name": "stderr",
          "text": [
            "\rPermutation explainer:  63%|██████▎   | 63/100 [02:34<01:24,  2.29s/it]"
          ]
        },
        {
          "output_type": "stream",
          "name": "stdout",
          "text": [
            "105/105 [==============================] - 0s 983us/step\n",
            "105/105 [==============================] - 0s 954us/step\n",
            "105/105 [==============================] - 0s 861us/step\n",
            "105/105 [==============================] - 0s 912us/step\n",
            "105/105 [==============================] - 0s 834us/step\n",
            "105/105 [==============================] - 0s 837us/step\n",
            "105/105 [==============================] - 0s 869us/step\n",
            "105/105 [==============================] - 0s 898us/step\n",
            "105/105 [==============================] - 0s 901us/step\n",
            "105/105 [==============================] - 0s 859us/step\n",
            "105/105 [==============================] - 0s 927us/step\n",
            "105/105 [==============================] - 0s 1ms/step\n",
            "63/63 [==============================] - 0s 919us/step\n"
          ]
        },
        {
          "output_type": "stream",
          "name": "stderr",
          "text": [
            "\rPermutation explainer:  64%|██████▍   | 64/100 [02:37<01:22,  2.29s/it]"
          ]
        },
        {
          "output_type": "stream",
          "name": "stdout",
          "text": [
            "103/103 [==============================] - 0s 908us/step\n",
            "103/103 [==============================] - 0s 901us/step\n",
            "103/103 [==============================] - 0s 891us/step\n",
            "103/103 [==============================] - 0s 854us/step\n",
            "103/103 [==============================] - 0s 843us/step\n",
            "103/103 [==============================] - 0s 876us/step\n",
            "103/103 [==============================] - 0s 850us/step\n",
            "103/103 [==============================] - 0s 823us/step\n",
            "103/103 [==============================] - 0s 920us/step\n",
            "103/103 [==============================] - 0s 834us/step\n",
            "103/103 [==============================] - 0s 1ms/step\n",
            "103/103 [==============================] - 0s 895us/step\n",
            "63/63 [==============================] - 0s 988us/step\n"
          ]
        },
        {
          "output_type": "stream",
          "name": "stderr",
          "text": [
            "\rPermutation explainer:  65%|██████▌   | 65/100 [02:39<01:20,  2.31s/it]"
          ]
        },
        {
          "output_type": "stream",
          "name": "stdout",
          "text": [
            "103/103 [==============================] - 0s 895us/step\n",
            "103/103 [==============================] - 0s 916us/step\n",
            "103/103 [==============================] - 0s 1ms/step\n",
            "103/103 [==============================] - 0s 826us/step\n",
            "103/103 [==============================] - 0s 816us/step\n",
            "103/103 [==============================] - 0s 856us/step\n",
            "103/103 [==============================] - 0s 859us/step\n",
            "103/103 [==============================] - 0s 880us/step\n",
            "103/103 [==============================] - 0s 1ms/step\n",
            "103/103 [==============================] - 0s 926us/step\n",
            "103/103 [==============================] - 0s 856us/step\n",
            "103/103 [==============================] - 0s 933us/step\n",
            "63/63 [==============================] - 0s 1ms/step\n"
          ]
        },
        {
          "output_type": "stream",
          "name": "stderr",
          "text": [
            "\rPermutation explainer:  66%|██████▌   | 66/100 [02:41<01:19,  2.33s/it]"
          ]
        },
        {
          "output_type": "stream",
          "name": "stdout",
          "text": [
            "102/102 [==============================] - 0s 978us/step\n",
            "102/102 [==============================] - 0s 944us/step\n",
            "102/102 [==============================] - 0s 909us/step\n",
            "102/102 [==============================] - 0s 840us/step\n",
            "102/102 [==============================] - 0s 852us/step\n",
            "102/102 [==============================] - 0s 815us/step\n",
            "102/102 [==============================] - 0s 936us/step\n",
            "102/102 [==============================] - 0s 863us/step\n",
            "102/102 [==============================] - 0s 815us/step\n",
            "102/102 [==============================] - 0s 876us/step\n",
            "102/102 [==============================] - 0s 985us/step\n",
            "102/102 [==============================] - 0s 894us/step\n",
            "65/65 [==============================] - 0s 978us/step\n"
          ]
        },
        {
          "output_type": "stream",
          "name": "stderr",
          "text": [
            "\rPermutation explainer:  67%|██████▋   | 67/100 [02:44<01:17,  2.34s/it]"
          ]
        },
        {
          "output_type": "stream",
          "name": "stdout",
          "text": [
            "104/104 [==============================] - 0s 904us/step\n",
            "104/104 [==============================] - 0s 884us/step\n",
            "104/104 [==============================] - 0s 836us/step\n",
            "104/104 [==============================] - 0s 871us/step\n",
            "104/104 [==============================] - 0s 899us/step\n",
            "104/104 [==============================] - 0s 906us/step\n",
            "104/104 [==============================] - 0s 853us/step\n",
            "104/104 [==============================] - 0s 805us/step\n",
            "104/104 [==============================] - 0s 864us/step\n",
            "104/104 [==============================] - 0s 912us/step\n",
            "104/104 [==============================] - 0s 912us/step\n",
            "104/104 [==============================] - 0s 898us/step\n",
            "65/65 [==============================] - 0s 1ms/step\n"
          ]
        },
        {
          "output_type": "stream",
          "name": "stderr",
          "text": [
            "\rPermutation explainer:  68%|██████▊   | 68/100 [02:46<01:13,  2.31s/it]"
          ]
        },
        {
          "output_type": "stream",
          "name": "stdout",
          "text": [
            "104/104 [==============================] - 0s 895us/step\n",
            "104/104 [==============================] - 0s 861us/step\n",
            "104/104 [==============================] - 0s 849us/step\n",
            "104/104 [==============================] - 0s 846us/step\n",
            "104/104 [==============================] - 0s 926us/step\n",
            "104/104 [==============================] - 0s 917us/step\n",
            "104/104 [==============================] - 0s 916us/step\n",
            "104/104 [==============================] - 0s 994us/step\n",
            "104/104 [==============================] - 0s 1ms/step\n",
            "104/104 [==============================] - 0s 1ms/step\n",
            "104/104 [==============================] - 0s 905us/step\n",
            "104/104 [==============================] - 0s 857us/step\n",
            "63/63 [==============================] - 0s 965us/step\n"
          ]
        },
        {
          "output_type": "stream",
          "name": "stderr",
          "text": [
            "\rPermutation explainer:  69%|██████▉   | 69/100 [02:48<01:11,  2.32s/it]"
          ]
        },
        {
          "output_type": "stream",
          "name": "stdout",
          "text": [
            "103/103 [==============================] - 0s 892us/step\n",
            "103/103 [==============================] - 0s 942us/step\n",
            "103/103 [==============================] - 0s 870us/step\n",
            "103/103 [==============================] - 0s 881us/step\n",
            "103/103 [==============================] - 0s 935us/step\n",
            "103/103 [==============================] - 0s 1ms/step\n",
            "103/103 [==============================] - 0s 908us/step\n",
            "103/103 [==============================] - 0s 965us/step\n",
            "103/103 [==============================] - 0s 859us/step\n",
            "103/103 [==============================] - 0s 857us/step\n",
            "103/103 [==============================] - 0s 884us/step\n",
            "103/103 [==============================] - 0s 939us/step\n",
            "64/64 [==============================] - 0s 956us/step\n"
          ]
        },
        {
          "output_type": "stream",
          "name": "stderr",
          "text": [
            "\rPermutation explainer:  70%|███████   | 70/100 [02:51<01:09,  2.31s/it]"
          ]
        },
        {
          "output_type": "stream",
          "name": "stdout",
          "text": [
            "105/105 [==============================] - 0s 1ms/step\n",
            "105/105 [==============================] - 0s 912us/step\n",
            "105/105 [==============================] - 0s 859us/step\n",
            "105/105 [==============================] - 0s 898us/step\n",
            "105/105 [==============================] - 0s 1ms/step\n",
            "105/105 [==============================] - 0s 842us/step\n",
            "105/105 [==============================] - 0s 897us/step\n",
            "105/105 [==============================] - 0s 887us/step\n",
            "105/105 [==============================] - 0s 830us/step\n",
            "105/105 [==============================] - 0s 1ms/step\n",
            "105/105 [==============================] - 0s 929us/step\n",
            "105/105 [==============================] - 0s 947us/step\n",
            "65/65 [==============================] - 0s 1ms/step\n"
          ]
        },
        {
          "output_type": "stream",
          "name": "stderr",
          "text": [
            "\rPermutation explainer:  71%|███████   | 71/100 [02:53<01:06,  2.31s/it]"
          ]
        },
        {
          "output_type": "stream",
          "name": "stdout",
          "text": [
            "103/103 [==============================] - 0s 935us/step\n",
            "103/103 [==============================] - 0s 922us/step\n",
            "103/103 [==============================] - 0s 1ms/step\n",
            "103/103 [==============================] - 0s 911us/step\n",
            "103/103 [==============================] - 0s 892us/step\n",
            "103/103 [==============================] - 0s 921us/step\n",
            "103/103 [==============================] - 0s 919us/step\n",
            "103/103 [==============================] - 0s 931us/step\n",
            "103/103 [==============================] - 0s 974us/step\n",
            "103/103 [==============================] - 0s 1ms/step\n",
            "103/103 [==============================] - 0s 1ms/step\n",
            "103/103 [==============================] - 0s 1ms/step\n",
            "62/62 [==============================] - 0s 1ms/step\n"
          ]
        },
        {
          "output_type": "stream",
          "name": "stderr",
          "text": [
            "\rPermutation explainer:  72%|███████▏  | 72/100 [02:55<01:04,  2.30s/it]"
          ]
        },
        {
          "output_type": "stream",
          "name": "stdout",
          "text": [
            "103/103 [==============================] - 0s 932us/step\n",
            "103/103 [==============================] - 0s 914us/step\n",
            "103/103 [==============================] - 0s 901us/step\n",
            "103/103 [==============================] - 0s 935us/step\n",
            "103/103 [==============================] - 0s 858us/step\n",
            "103/103 [==============================] - 0s 950us/step\n",
            "103/103 [==============================] - 0s 877us/step\n",
            "103/103 [==============================] - 0s 915us/step\n",
            "103/103 [==============================] - 0s 970us/step\n",
            "103/103 [==============================] - 0s 924us/step\n",
            "103/103 [==============================] - 0s 867us/step\n",
            "103/103 [==============================] - 0s 922us/step\n",
            "65/65 [==============================] - 0s 1ms/step\n"
          ]
        },
        {
          "output_type": "stream",
          "name": "stderr",
          "text": [
            "\rPermutation explainer:  73%|███████▎  | 73/100 [02:58<01:02,  2.30s/it]"
          ]
        },
        {
          "output_type": "stream",
          "name": "stdout",
          "text": [
            "107/107 [==============================] - 0s 964us/step\n",
            "107/107 [==============================] - 0s 898us/step\n",
            "107/107 [==============================] - 0s 923us/step\n",
            "107/107 [==============================] - 0s 936us/step\n",
            "107/107 [==============================] - 0s 988us/step\n",
            "107/107 [==============================] - 0s 915us/step\n",
            "107/107 [==============================] - 0s 965us/step\n",
            "107/107 [==============================] - 0s 1ms/step\n",
            "107/107 [==============================] - 0s 855us/step\n",
            "107/107 [==============================] - 0s 1ms/step\n",
            "107/107 [==============================] - 0s 893us/step\n",
            "107/107 [==============================] - 0s 927us/step\n",
            "64/64 [==============================] - 0s 977us/step\n"
          ]
        },
        {
          "output_type": "stream",
          "name": "stderr",
          "text": [
            "\rPermutation explainer:  74%|███████▍  | 74/100 [03:00<01:00,  2.32s/it]"
          ]
        },
        {
          "output_type": "stream",
          "name": "stdout",
          "text": [
            "103/103 [==============================] - 0s 963us/step\n",
            "103/103 [==============================] - 0s 951us/step\n",
            "103/103 [==============================] - 0s 926us/step\n",
            "103/103 [==============================] - 0s 1ms/step\n",
            "103/103 [==============================] - 0s 1ms/step\n",
            "103/103 [==============================] - 0s 1ms/step\n",
            "103/103 [==============================] - 0s 900us/step\n",
            "103/103 [==============================] - 0s 922us/step\n",
            "103/103 [==============================] - 0s 980us/step\n",
            "103/103 [==============================] - 0s 1ms/step\n",
            "103/103 [==============================] - 0s 958us/step\n",
            "103/103 [==============================] - 0s 974us/step\n",
            "62/62 [==============================] - 0s 989us/step\n"
          ]
        },
        {
          "output_type": "stream",
          "name": "stderr",
          "text": [
            "\rPermutation explainer:  75%|███████▌  | 75/100 [03:02<00:57,  2.29s/it]"
          ]
        },
        {
          "output_type": "stream",
          "name": "stdout",
          "text": [
            "105/105 [==============================] - 0s 904us/step\n",
            "105/105 [==============================] - 0s 1ms/step\n",
            "105/105 [==============================] - 0s 892us/step\n",
            "105/105 [==============================] - 0s 967us/step\n",
            "105/105 [==============================] - 0s 854us/step\n",
            "105/105 [==============================] - 0s 876us/step\n",
            "105/105 [==============================] - 0s 853us/step\n",
            "105/105 [==============================] - 0s 912us/step\n",
            "105/105 [==============================] - 0s 911us/step\n",
            "105/105 [==============================] - 0s 857us/step\n",
            "105/105 [==============================] - 0s 907us/step\n",
            "105/105 [==============================] - 0s 870us/step\n",
            "64/64 [==============================] - 0s 853us/step\n"
          ]
        },
        {
          "output_type": "stream",
          "name": "stderr",
          "text": [
            "\rPermutation explainer:  76%|███████▌  | 76/100 [03:05<00:55,  2.33s/it]"
          ]
        },
        {
          "output_type": "stream",
          "name": "stdout",
          "text": [
            "106/106 [==============================] - 0s 912us/step\n",
            "106/106 [==============================] - 0s 872us/step\n",
            "106/106 [==============================] - 0s 913us/step\n",
            "106/106 [==============================] - 0s 943us/step\n",
            "106/106 [==============================] - 0s 884us/step\n",
            "106/106 [==============================] - 0s 906us/step\n",
            "106/106 [==============================] - 0s 899us/step\n",
            "106/106 [==============================] - 0s 909us/step\n",
            "106/106 [==============================] - 0s 911us/step\n",
            "106/106 [==============================] - 0s 1ms/step\n",
            "106/106 [==============================] - 0s 892us/step\n",
            "106/106 [==============================] - 0s 853us/step\n",
            "64/64 [==============================] - 0s 999us/step\n"
          ]
        },
        {
          "output_type": "stream",
          "name": "stderr",
          "text": [
            "\rPermutation explainer:  77%|███████▋  | 77/100 [03:07<00:53,  2.32s/it]"
          ]
        },
        {
          "output_type": "stream",
          "name": "stdout",
          "text": [
            "104/104 [==============================] - 0s 889us/step\n",
            "104/104 [==============================] - 0s 923us/step\n",
            "104/104 [==============================] - 0s 899us/step\n",
            "104/104 [==============================] - 0s 924us/step\n",
            "104/104 [==============================] - 0s 868us/step\n",
            "104/104 [==============================] - 0s 893us/step\n",
            "104/104 [==============================] - 0s 931us/step\n",
            "104/104 [==============================] - 0s 872us/step\n",
            "104/104 [==============================] - 0s 902us/step\n",
            "104/104 [==============================] - 0s 907us/step\n",
            "104/104 [==============================] - 0s 928us/step\n",
            "104/104 [==============================] - 0s 882us/step\n",
            "63/63 [==============================] - 0s 957us/step\n"
          ]
        },
        {
          "output_type": "stream",
          "name": "stderr",
          "text": [
            "\rPermutation explainer:  78%|███████▊  | 78/100 [03:09<00:50,  2.31s/it]"
          ]
        },
        {
          "output_type": "stream",
          "name": "stdout",
          "text": [
            "109/109 [==============================] - 0s 916us/step\n",
            "109/109 [==============================] - 0s 833us/step\n",
            "109/109 [==============================] - 0s 829us/step\n",
            "109/109 [==============================] - 0s 902us/step\n",
            "109/109 [==============================] - 0s 901us/step\n",
            "109/109 [==============================] - 0s 884us/step\n",
            "109/109 [==============================] - 0s 905us/step\n",
            "109/109 [==============================] - 0s 929us/step\n",
            "109/109 [==============================] - 0s 851us/step\n",
            "109/109 [==============================] - 0s 901us/step\n",
            "109/109 [==============================] - 0s 833us/step\n",
            "109/109 [==============================] - 0s 871us/step\n",
            "63/63 [==============================] - 0s 936us/step\n"
          ]
        },
        {
          "output_type": "stream",
          "name": "stderr",
          "text": [
            "\rPermutation explainer:  79%|███████▉  | 79/100 [03:12<00:48,  2.33s/it]"
          ]
        },
        {
          "output_type": "stream",
          "name": "stdout",
          "text": [
            "103/103 [==============================] - 0s 841us/step\n",
            "103/103 [==============================] - 0s 879us/step\n",
            "103/103 [==============================] - 0s 881us/step\n",
            "103/103 [==============================] - 0s 941us/step\n",
            "103/103 [==============================] - 0s 985us/step\n",
            "103/103 [==============================] - 0s 893us/step\n",
            "103/103 [==============================] - 0s 864us/step\n",
            "103/103 [==============================] - 0s 877us/step\n",
            "103/103 [==============================] - 0s 894us/step\n",
            "103/103 [==============================] - 0s 933us/step\n",
            "103/103 [==============================] - 0s 843us/step\n",
            "103/103 [==============================] - 0s 914us/step\n",
            "62/62 [==============================] - 0s 947us/step\n"
          ]
        },
        {
          "output_type": "stream",
          "name": "stderr",
          "text": [
            "\rPermutation explainer:  80%|████████  | 80/100 [03:14<00:46,  2.30s/it]"
          ]
        },
        {
          "output_type": "stream",
          "name": "stdout",
          "text": [
            "105/105 [==============================] - 0s 840us/step\n",
            "105/105 [==============================] - 0s 921us/step\n",
            "105/105 [==============================] - 0s 868us/step\n",
            "105/105 [==============================] - 0s 901us/step\n",
            "105/105 [==============================] - 0s 875us/step\n",
            "105/105 [==============================] - 0s 836us/step\n",
            "105/105 [==============================] - 0s 864us/step\n",
            "105/105 [==============================] - 0s 985us/step\n",
            "105/105 [==============================] - 0s 1ms/step\n",
            "105/105 [==============================] - 0s 905us/step\n",
            "105/105 [==============================] - 0s 866us/step\n",
            "105/105 [==============================] - 0s 831us/step\n",
            "65/65 [==============================] - 0s 938us/step\n"
          ]
        },
        {
          "output_type": "stream",
          "name": "stderr",
          "text": [
            "\rPermutation explainer:  81%|████████  | 81/100 [03:16<00:43,  2.31s/it]"
          ]
        },
        {
          "output_type": "stream",
          "name": "stdout",
          "text": [
            "103/103 [==============================] - 0s 1ms/step\n",
            "103/103 [==============================] - 0s 960us/step\n",
            "103/103 [==============================] - 0s 973us/step\n",
            "103/103 [==============================] - 0s 1ms/step\n",
            "103/103 [==============================] - 0s 902us/step\n",
            "103/103 [==============================] - 0s 929us/step\n",
            "103/103 [==============================] - 0s 977us/step\n",
            "103/103 [==============================] - 0s 863us/step\n",
            "103/103 [==============================] - 0s 886us/step\n",
            "103/103 [==============================] - 0s 968us/step\n",
            "103/103 [==============================] - 0s 965us/step\n",
            "103/103 [==============================] - 0s 916us/step\n",
            "64/64 [==============================] - 0s 987us/step\n"
          ]
        },
        {
          "output_type": "stream",
          "name": "stderr",
          "text": [
            "\rPermutation explainer:  82%|████████▏ | 82/100 [03:18<00:41,  2.31s/it]"
          ]
        },
        {
          "output_type": "stream",
          "name": "stdout",
          "text": [
            "107/107 [==============================] - 0s 1ms/step\n",
            "107/107 [==============================] - 0s 882us/step\n",
            "107/107 [==============================] - 0s 889us/step\n",
            "107/107 [==============================] - 0s 892us/step\n",
            "107/107 [==============================] - 0s 1ms/step\n",
            "107/107 [==============================] - 0s 934us/step\n",
            "107/107 [==============================] - 0s 892us/step\n",
            "107/107 [==============================] - 0s 874us/step\n",
            "107/107 [==============================] - 0s 851us/step\n",
            "107/107 [==============================] - 0s 897us/step\n",
            "107/107 [==============================] - 0s 933us/step\n",
            "107/107 [==============================] - 0s 870us/step\n",
            "64/64 [==============================] - 0s 1ms/step\n"
          ]
        },
        {
          "output_type": "stream",
          "name": "stderr",
          "text": [
            "\rPermutation explainer:  83%|████████▎ | 83/100 [03:21<00:39,  2.30s/it]"
          ]
        },
        {
          "output_type": "stream",
          "name": "stdout",
          "text": [
            "108/108 [==============================] - 0s 851us/step\n",
            "108/108 [==============================] - 0s 863us/step\n",
            "108/108 [==============================] - 0s 859us/step\n",
            "108/108 [==============================] - 0s 1ms/step\n",
            "108/108 [==============================] - 0s 915us/step\n",
            "108/108 [==============================] - 0s 822us/step\n",
            "108/108 [==============================] - 0s 907us/step\n",
            "108/108 [==============================] - 0s 862us/step\n",
            "108/108 [==============================] - 0s 858us/step\n",
            "108/108 [==============================] - 0s 898us/step\n",
            "108/108 [==============================] - 0s 926us/step\n",
            "108/108 [==============================] - 0s 919us/step\n",
            "63/63 [==============================] - 0s 905us/step\n"
          ]
        },
        {
          "output_type": "stream",
          "name": "stderr",
          "text": [
            "\rPermutation explainer:  84%|████████▍ | 84/100 [03:23<00:36,  2.30s/it]"
          ]
        },
        {
          "output_type": "stream",
          "name": "stdout",
          "text": [
            "104/104 [==============================] - 0s 945us/step\n",
            "104/104 [==============================] - 0s 868us/step\n",
            "104/104 [==============================] - 0s 935us/step\n",
            "104/104 [==============================] - 0s 888us/step\n",
            "104/104 [==============================] - 0s 903us/step\n",
            "104/104 [==============================] - 0s 880us/step\n",
            "104/104 [==============================] - 0s 887us/step\n",
            "104/104 [==============================] - 0s 1ms/step\n",
            "104/104 [==============================] - 0s 897us/step\n",
            "104/104 [==============================] - 0s 932us/step\n",
            "104/104 [==============================] - 0s 956us/step\n",
            "104/104 [==============================] - 0s 882us/step\n",
            "64/64 [==============================] - 0s 1ms/step\n"
          ]
        },
        {
          "output_type": "stream",
          "name": "stderr",
          "text": [
            "\rPermutation explainer:  85%|████████▌ | 85/100 [03:25<00:34,  2.32s/it]"
          ]
        },
        {
          "output_type": "stream",
          "name": "stdout",
          "text": [
            "107/107 [==============================] - 0s 863us/step\n",
            "107/107 [==============================] - 0s 850us/step\n",
            "107/107 [==============================] - 0s 1ms/step\n",
            "107/107 [==============================] - 0s 882us/step\n",
            "107/107 [==============================] - 0s 923us/step\n",
            "107/107 [==============================] - 0s 1ms/step\n",
            "107/107 [==============================] - 0s 822us/step\n",
            "107/107 [==============================] - 0s 786us/step\n",
            "107/107 [==============================] - 0s 864us/step\n",
            "107/107 [==============================] - 0s 835us/step\n",
            "107/107 [==============================] - 0s 876us/step\n",
            "107/107 [==============================] - 0s 905us/step\n",
            "65/65 [==============================] - 0s 932us/step\n"
          ]
        },
        {
          "output_type": "stream",
          "name": "stderr",
          "text": [
            "\rPermutation explainer:  86%|████████▌ | 86/100 [03:28<00:32,  2.34s/it]"
          ]
        },
        {
          "output_type": "stream",
          "name": "stdout",
          "text": [
            "105/105 [==============================] - 0s 917us/step\n",
            "105/105 [==============================] - 0s 895us/step\n",
            "105/105 [==============================] - 0s 896us/step\n",
            "105/105 [==============================] - 0s 996us/step\n",
            "105/105 [==============================] - 0s 850us/step\n",
            "105/105 [==============================] - 0s 948us/step\n",
            "105/105 [==============================] - 0s 954us/step\n",
            "105/105 [==============================] - 0s 807us/step\n",
            "105/105 [==============================] - 0s 869us/step\n",
            "105/105 [==============================] - 0s 1ms/step\n",
            "105/105 [==============================] - 0s 909us/step\n",
            "105/105 [==============================] - 0s 919us/step\n",
            "64/64 [==============================] - 0s 825us/step\n"
          ]
        },
        {
          "output_type": "stream",
          "name": "stderr",
          "text": [
            "\rPermutation explainer:  87%|████████▋ | 87/100 [03:30<00:30,  2.31s/it]"
          ]
        },
        {
          "output_type": "stream",
          "name": "stdout",
          "text": [
            "109/109 [==============================] - 0s 798us/step\n",
            "109/109 [==============================] - 0s 891us/step\n",
            "109/109 [==============================] - 0s 1ms/step\n",
            "109/109 [==============================] - 0s 872us/step\n",
            "109/109 [==============================] - 0s 997us/step\n",
            "109/109 [==============================] - 0s 885us/step\n",
            "109/109 [==============================] - 0s 843us/step\n",
            "109/109 [==============================] - 0s 878us/step\n",
            "109/109 [==============================] - 0s 907us/step\n",
            "109/109 [==============================] - 0s 879us/step\n",
            "109/109 [==============================] - 0s 885us/step\n",
            "109/109 [==============================] - 0s 837us/step\n",
            "63/63 [==============================] - 0s 954us/step\n"
          ]
        },
        {
          "output_type": "stream",
          "name": "stderr",
          "text": [
            "\rPermutation explainer:  88%|████████▊ | 88/100 [03:32<00:27,  2.33s/it]"
          ]
        },
        {
          "output_type": "stream",
          "name": "stdout",
          "text": [
            "102/102 [==============================] - 0s 1ms/step\n",
            "102/102 [==============================] - 0s 858us/step\n",
            "102/102 [==============================] - 0s 967us/step\n",
            "102/102 [==============================] - 0s 978us/step\n",
            "102/102 [==============================] - 0s 851us/step\n",
            "102/102 [==============================] - 0s 853us/step\n",
            "102/102 [==============================] - 0s 842us/step\n",
            "102/102 [==============================] - 0s 815us/step\n",
            "102/102 [==============================] - 0s 907us/step\n",
            "102/102 [==============================] - 0s 902us/step\n",
            "102/102 [==============================] - 0s 833us/step\n",
            "102/102 [==============================] - 0s 899us/step\n",
            "61/61 [==============================] - 0s 1ms/step\n"
          ]
        },
        {
          "output_type": "stream",
          "name": "stderr",
          "text": [
            "\rPermutation explainer:  89%|████████▉ | 89/100 [03:35<00:25,  2.31s/it]"
          ]
        },
        {
          "output_type": "stream",
          "name": "stdout",
          "text": [
            "106/106 [==============================] - 0s 909us/step\n",
            "106/106 [==============================] - 0s 918us/step\n",
            "106/106 [==============================] - 0s 859us/step\n",
            "106/106 [==============================] - 0s 924us/step\n",
            "106/106 [==============================] - 0s 898us/step\n",
            "106/106 [==============================] - 0s 882us/step\n",
            "106/106 [==============================] - 0s 901us/step\n",
            "106/106 [==============================] - 0s 890us/step\n",
            "106/106 [==============================] - 0s 802us/step\n",
            "106/106 [==============================] - 0s 850us/step\n",
            "106/106 [==============================] - 0s 953us/step\n",
            "106/106 [==============================] - 0s 899us/step\n",
            "64/64 [==============================] - 0s 990us/step\n"
          ]
        },
        {
          "output_type": "stream",
          "name": "stderr",
          "text": [
            "\rPermutation explainer:  90%|█████████ | 90/100 [03:37<00:22,  2.29s/it]"
          ]
        },
        {
          "output_type": "stream",
          "name": "stdout",
          "text": [
            "105/105 [==============================] - 0s 937us/step\n",
            "105/105 [==============================] - 0s 960us/step\n",
            "105/105 [==============================] - 0s 893us/step\n",
            "105/105 [==============================] - 0s 938us/step\n",
            "105/105 [==============================] - 0s 931us/step\n",
            "105/105 [==============================] - 0s 953us/step\n",
            "105/105 [==============================] - 0s 1ms/step\n",
            "105/105 [==============================] - 0s 1ms/step\n",
            "105/105 [==============================] - 0s 1ms/step\n",
            "105/105 [==============================] - 0s 1ms/step\n",
            "105/105 [==============================] - 0s 937us/step\n",
            "105/105 [==============================] - 0s 1ms/step\n",
            "61/61 [==============================] - 0s 974us/step\n"
          ]
        },
        {
          "output_type": "stream",
          "name": "stderr",
          "text": [
            "\rPermutation explainer:  91%|█████████ | 91/100 [03:39<00:20,  2.27s/it]"
          ]
        },
        {
          "output_type": "stream",
          "name": "stdout",
          "text": [
            "103/103 [==============================] - 0s 860us/step\n",
            "103/103 [==============================] - 0s 837us/step\n",
            "103/103 [==============================] - 0s 879us/step\n",
            "103/103 [==============================] - 0s 958us/step\n",
            "103/103 [==============================] - 0s 884us/step\n",
            "103/103 [==============================] - 0s 880us/step\n",
            "103/103 [==============================] - 0s 895us/step\n",
            "103/103 [==============================] - 0s 892us/step\n",
            "103/103 [==============================] - 0s 937us/step\n",
            "103/103 [==============================] - 0s 839us/step\n",
            "103/103 [==============================] - 0s 905us/step\n",
            "103/103 [==============================] - 0s 924us/step\n",
            "63/63 [==============================] - 0s 929us/step\n"
          ]
        },
        {
          "output_type": "stream",
          "name": "stderr",
          "text": [
            "\rPermutation explainer:  92%|█████████▏| 92/100 [03:41<00:17,  2.24s/it]"
          ]
        },
        {
          "output_type": "stream",
          "name": "stdout",
          "text": [
            "106/106 [==============================] - 0s 949us/step\n",
            "106/106 [==============================] - 0s 921us/step\n",
            "106/106 [==============================] - 0s 838us/step\n",
            "106/106 [==============================] - 0s 896us/step\n",
            "106/106 [==============================] - 0s 872us/step\n",
            "106/106 [==============================] - 0s 840us/step\n",
            "106/106 [==============================] - 0s 893us/step\n",
            "106/106 [==============================] - 0s 998us/step\n",
            "106/106 [==============================] - 0s 887us/step\n",
            "106/106 [==============================] - 0s 950us/step\n",
            "106/106 [==============================] - 0s 929us/step\n",
            "106/106 [==============================] - 0s 880us/step\n",
            "63/63 [==============================] - 0s 967us/step\n"
          ]
        },
        {
          "output_type": "stream",
          "name": "stderr",
          "text": [
            "\rPermutation explainer:  93%|█████████▎| 93/100 [03:44<00:15,  2.27s/it]"
          ]
        },
        {
          "output_type": "stream",
          "name": "stdout",
          "text": [
            "108/108 [==============================] - 0s 929us/step\n",
            "108/108 [==============================] - 0s 899us/step\n",
            "108/108 [==============================] - 0s 906us/step\n",
            "108/108 [==============================] - 0s 1ms/step\n",
            "108/108 [==============================] - 0s 848us/step\n",
            "108/108 [==============================] - 0s 965us/step\n",
            "108/108 [==============================] - 0s 839us/step\n",
            "108/108 [==============================] - 0s 900us/step\n",
            "108/108 [==============================] - 0s 842us/step\n",
            "108/108 [==============================] - 0s 919us/step\n",
            "108/108 [==============================] - 0s 863us/step\n",
            "108/108 [==============================] - 0s 1ms/step\n",
            "65/65 [==============================] - 0s 1ms/step\n"
          ]
        },
        {
          "output_type": "stream",
          "name": "stderr",
          "text": [
            "\rPermutation explainer:  94%|█████████▍| 94/100 [03:46<00:13,  2.30s/it]"
          ]
        },
        {
          "output_type": "stream",
          "name": "stdout",
          "text": [
            "103/103 [==============================] - 0s 920us/step\n",
            "103/103 [==============================] - 0s 869us/step\n",
            "103/103 [==============================] - 0s 1ms/step\n",
            "103/103 [==============================] - 0s 908us/step\n",
            "103/103 [==============================] - 0s 882us/step\n",
            "103/103 [==============================] - 0s 948us/step\n",
            "103/103 [==============================] - 0s 963us/step\n",
            "103/103 [==============================] - 0s 967us/step\n",
            "103/103 [==============================] - 0s 969us/step\n",
            "103/103 [==============================] - 0s 937us/step\n",
            "103/103 [==============================] - 0s 830us/step\n",
            "103/103 [==============================] - 0s 951us/step\n",
            "63/63 [==============================] - 0s 989us/step\n"
          ]
        },
        {
          "output_type": "stream",
          "name": "stderr",
          "text": [
            "\rPermutation explainer:  95%|█████████▌| 95/100 [03:48<00:11,  2.30s/it]"
          ]
        },
        {
          "output_type": "stream",
          "name": "stdout",
          "text": [
            "103/103 [==============================] - 0s 954us/step\n",
            "103/103 [==============================] - 0s 930us/step\n",
            "103/103 [==============================] - 0s 969us/step\n",
            "103/103 [==============================] - 0s 974us/step\n",
            "103/103 [==============================] - 0s 843us/step\n",
            "103/103 [==============================] - 0s 891us/step\n",
            "103/103 [==============================] - 0s 899us/step\n",
            "103/103 [==============================] - 0s 852us/step\n",
            "103/103 [==============================] - 0s 850us/step\n",
            "103/103 [==============================] - 0s 854us/step\n",
            "103/103 [==============================] - 0s 849us/step\n",
            "103/103 [==============================] - 0s 1ms/step\n",
            "65/65 [==============================] - 0s 1ms/step\n"
          ]
        },
        {
          "output_type": "stream",
          "name": "stderr",
          "text": [
            "\rPermutation explainer:  96%|█████████▌| 96/100 [03:51<00:09,  2.34s/it]"
          ]
        },
        {
          "output_type": "stream",
          "name": "stdout",
          "text": [
            "105/105 [==============================] - 0s 1ms/step\n",
            "105/105 [==============================] - 0s 920us/step\n",
            "105/105 [==============================] - 0s 958us/step\n",
            "105/105 [==============================] - 0s 942us/step\n",
            "105/105 [==============================] - 0s 918us/step\n",
            "105/105 [==============================] - 0s 1ms/step\n",
            "105/105 [==============================] - 0s 923us/step\n",
            "105/105 [==============================] - 0s 949us/step\n",
            "105/105 [==============================] - 0s 948us/step\n",
            "105/105 [==============================] - 0s 948us/step\n",
            "105/105 [==============================] - 0s 993us/step\n",
            "105/105 [==============================] - 0s 1ms/step\n",
            "64/64 [==============================] - 0s 1ms/step\n"
          ]
        },
        {
          "output_type": "stream",
          "name": "stderr",
          "text": [
            "\rPermutation explainer:  97%|█████████▋| 97/100 [03:53<00:07,  2.34s/it]"
          ]
        },
        {
          "output_type": "stream",
          "name": "stdout",
          "text": [
            "102/102 [==============================] - 0s 873us/step\n",
            "102/102 [==============================] - 0s 913us/step\n",
            "102/102 [==============================] - 0s 977us/step\n",
            "102/102 [==============================] - 0s 919us/step\n",
            "102/102 [==============================] - 0s 1ms/step\n",
            "102/102 [==============================] - 0s 979us/step\n",
            "102/102 [==============================] - 0s 876us/step\n",
            "102/102 [==============================] - 0s 916us/step\n",
            "102/102 [==============================] - 0s 861us/step\n",
            "102/102 [==============================] - 0s 876us/step\n",
            "102/102 [==============================] - 0s 966us/step\n",
            "102/102 [==============================] - 0s 858us/step\n",
            "63/63 [==============================] - 0s 1ms/step\n"
          ]
        },
        {
          "output_type": "stream",
          "name": "stderr",
          "text": [
            "\rPermutation explainer:  98%|█████████▊| 98/100 [03:55<00:04,  2.35s/it]"
          ]
        },
        {
          "output_type": "stream",
          "name": "stdout",
          "text": [
            "103/103 [==============================] - 0s 891us/step\n",
            "103/103 [==============================] - 0s 863us/step\n",
            "103/103 [==============================] - 0s 901us/step\n",
            "103/103 [==============================] - 0s 847us/step\n",
            "103/103 [==============================] - 0s 861us/step\n",
            "103/103 [==============================] - 0s 896us/step\n",
            "103/103 [==============================] - 0s 943us/step\n",
            "103/103 [==============================] - 0s 865us/step\n",
            "103/103 [==============================] - 0s 888us/step\n",
            "103/103 [==============================] - 0s 907us/step\n",
            "103/103 [==============================] - 0s 866us/step\n",
            "103/103 [==============================] - 0s 871us/step\n",
            "62/62 [==============================] - 0s 966us/step\n"
          ]
        },
        {
          "output_type": "stream",
          "name": "stderr",
          "text": [
            "\rPermutation explainer:  99%|█████████▉| 99/100 [03:58<00:02,  2.35s/it]"
          ]
        },
        {
          "output_type": "stream",
          "name": "stdout",
          "text": [
            "105/105 [==============================] - 0s 1ms/step\n",
            "105/105 [==============================] - 0s 882us/step\n",
            "105/105 [==============================] - 0s 898us/step\n",
            "105/105 [==============================] - 0s 930us/step\n",
            "105/105 [==============================] - 0s 851us/step\n",
            "105/105 [==============================] - 0s 864us/step\n",
            "105/105 [==============================] - 0s 928us/step\n",
            "105/105 [==============================] - 0s 891us/step\n",
            "105/105 [==============================] - 0s 838us/step\n",
            "105/105 [==============================] - 0s 896us/step\n",
            "105/105 [==============================] - 0s 1ms/step\n",
            "105/105 [==============================] - 0s 866us/step\n",
            "63/63 [==============================] - 0s 1ms/step\n"
          ]
        },
        {
          "output_type": "stream",
          "name": "stderr",
          "text": [
            "\rPermutation explainer: 100%|██████████| 100/100 [04:00<00:00,  2.33s/it]"
          ]
        },
        {
          "output_type": "stream",
          "name": "stdout",
          "text": [
            "102/102 [==============================] - 0s 803us/step\n",
            "102/102 [==============================] - 0s 815us/step\n",
            "102/102 [==============================] - 0s 929us/step\n",
            "102/102 [==============================] - 0s 930us/step\n",
            "102/102 [==============================] - 0s 864us/step\n",
            "102/102 [==============================] - 0s 922us/step\n",
            "102/102 [==============================] - 0s 863us/step\n",
            "102/102 [==============================] - 0s 906us/step\n",
            "102/102 [==============================] - 0s 891us/step\n",
            "102/102 [==============================] - 0s 973us/step\n",
            "102/102 [==============================] - 0s 943us/step\n",
            "102/102 [==============================] - 0s 912us/step\n",
            "62/62 [==============================] - 0s 1ms/step\n"
          ]
        },
        {
          "output_type": "stream",
          "name": "stderr",
          "text": [
            "Permutation explainer: 101it [04:02,  2.45s/it]\n"
          ]
        }
      ]
    },
    {
      "cell_type": "code",
      "source": [
        "shap_values = shap_values[...,1]\n",
        "shap_values"
      ],
      "metadata": {
        "colab": {
          "base_uri": "https://localhost:8080/"
        },
        "id": "qAaDtn2qR3VJ",
        "outputId": "7332a206-a2ef-47a9-ed72-a0ffcd913857"
      },
      "execution_count": null,
      "outputs": [
        {
          "output_type": "execute_result",
          "data": {
            "text/plain": [
              ".values =\n",
              "array([[-0.00387497, -0.00528622, -0.01924978, ...,  0.00516105,\n",
              "        -0.01044411, -0.01142649],\n",
              "       [-0.0219502 ,  0.00586179, -0.01851087, ...,  0.00500342,\n",
              "         0.0144194 ,  0.00731697],\n",
              "       [ 0.0037336 ,  0.00440648, -0.01697286, ...,  0.00510759,\n",
              "        -0.0083223 , -0.00704234],\n",
              "       ...,\n",
              "       [-0.01137449, -0.00074559, -0.01239318, ..., -0.00079919,\n",
              "        -0.00382482, -0.00278841],\n",
              "       [-0.00754156, -0.00055242,  0.00581678, ...,  0.00133062,\n",
              "        -0.00320169, -0.00137877],\n",
              "       [ 0.00029138,  0.00057981, -0.00254107, ...,  0.00099334,\n",
              "        -0.00131346,  0.00099422]])\n",
              "\n",
              ".base_values =\n",
              "array([0.20380672, 0.20380672, 0.20380672, 0.20380672, 0.20380672,\n",
              "       0.20380672, 0.20380672, 0.20380672, 0.20380672, 0.20380672,\n",
              "       0.20380672, 0.20380672, 0.20380672, 0.20380672, 0.20380672,\n",
              "       0.20380672, 0.20380672, 0.20380672, 0.20380672, 0.20380672,\n",
              "       0.20380672, 0.20380672, 0.20380672, 0.20380672, 0.20380672,\n",
              "       0.20380672, 0.20380672, 0.20380672, 0.20380672, 0.20380672,\n",
              "       0.20380672, 0.20380672, 0.20380672, 0.20380672, 0.20380672,\n",
              "       0.20380672, 0.20380672, 0.20380672, 0.20380672, 0.20380672,\n",
              "       0.20380672, 0.20380672, 0.20380672, 0.20380672, 0.20380672,\n",
              "       0.20380672, 0.20380672, 0.20380672, 0.20380672, 0.20380672,\n",
              "       0.20380672, 0.20380672, 0.20380672, 0.20380672, 0.20380672,\n",
              "       0.20380672, 0.20380672, 0.20380672, 0.20380672, 0.20380672,\n",
              "       0.20380672, 0.20380672, 0.20380672, 0.20380672, 0.20380672,\n",
              "       0.20380672, 0.20380672, 0.20380672, 0.20380672, 0.20380672,\n",
              "       0.20380672, 0.20380672, 0.20380672, 0.20380672, 0.20380672,\n",
              "       0.20380672, 0.20380672, 0.20380672, 0.20380672, 0.20380672,\n",
              "       0.20380672, 0.20380672, 0.20380672, 0.20380672, 0.20380672,\n",
              "       0.20380672, 0.20380672, 0.20380672, 0.20380672, 0.20380672,\n",
              "       0.20380672, 0.20380672, 0.20380672, 0.20380672, 0.20380672,\n",
              "       0.20380672, 0.20380672, 0.20380672, 0.20380672, 0.20380672])\n",
              "\n",
              ".data =\n",
              "array([[1.225e+03, 0.000e+00, 7.000e-01, ..., 1.000e+00, 0.000e+00,\n",
              "        0.000e+00],\n",
              "       [1.970e+03, 1.000e+00, 5.000e-01, ..., 1.000e+00, 1.000e+00,\n",
              "        1.000e+00],\n",
              "       [1.186e+03, 1.000e+00, 5.000e-01, ..., 1.000e+00, 0.000e+00,\n",
              "        0.000e+00],\n",
              "       ...,\n",
              "       [8.480e+02, 1.000e+00, 2.800e+00, ..., 1.000e+00, 1.000e+00,\n",
              "        1.000e+00],\n",
              "       [1.851e+03, 0.000e+00, 2.900e+00, ..., 1.000e+00, 0.000e+00,\n",
              "        0.000e+00],\n",
              "       [1.166e+03, 1.000e+00, 5.000e-01, ..., 1.000e+00, 0.000e+00,\n",
              "        1.000e+00]])"
            ]
          },
          "metadata": {},
          "execution_count": 22
        }
      ]
    },
    {
      "cell_type": "code",
      "source": [
        "shap.plots.bar(shap_values)"
      ],
      "metadata": {
        "colab": {
          "base_uri": "https://localhost:8080/",
          "height": 418
        },
        "id": "6Afbj24NSGJK",
        "outputId": "18849fb7-4e43-46bb-e00b-79d6c399c87d"
      },
      "execution_count": null,
      "outputs": [
        {
          "output_type": "display_data",
          "data": {
            "text/plain": [
              "<Figure size 576x468 with 1 Axes>"
            ],
            "image/png": "[encoded data removed]"
          },
          "metadata": {}
        }
      ]
    },
    {
      "cell_type": "code",
      "source": [
        "shap.plots.beeswarm(shap_values)"
      ],
      "metadata": {
        "colab": {
          "base_uri": "https://localhost:8080/",
          "height": 368
        },
        "id": "LUOmm3sygLN9",
        "outputId": "372becf7-8a25-4438-9344-88bdd69ca473"
      },
      "execution_count": null,
      "outputs": [
        {
          "output_type": "display_data",
          "data": {
            "text/plain": [
              "<Figure size 576x396 with 2 Axes>"
            ],
            "image/png": "[encoded data removed]"
          },
          "metadata": {
            "needs_background": "light"
          }
        }
      ]
    },
    {
      "cell_type": "code",
      "source": [
        "df3=pd.DataFrame(shap_values.values)\n",
        "df3\n",
        "df3.T.to_csv(\"./drive/My Drive/Colab Notebooks/logs/shap.csv\")"
      ],
      "metadata": {
        "id": "4q9wPlGuQHK5"
      },
      "execution_count": null,
      "outputs": []
    },
    {
      "cell_type": "code",
      "source": [
        "\n",
        "df3.to_csv(\"./drive/My Drive/Colab Notebooks/logs/shap2.csv\")"
      ],
      "metadata": {
        "id": "QIEYcsJXimAl"
      },
      "execution_count": null,
      "outputs": []
    },
    {
      "cell_type": "code",
      "source": [
        "model=tf.keras.models.load_model('./drive/My Drive/Colab Notebooks/logs/my_model.h5')"
      ],
      "metadata": {
        "id": "tj3bGIFDjtOc"
      },
      "execution_count": null,
      "outputs": []
    },
    {
      "cell_type": "code",
      "source": [
        "weights=model.get_weights()\n",
        "weights=np.asarray(weights)\n",
        "weight_list=[weights]\n",
        "print(weights)"
      ],
      "metadata": {
        "colab": {
          "base_uri": "https://localhost:8080/"
        },
        "id": "SoLawfGBj_AC",
        "outputId": "a2094d72-de09-49ec-a23d-6766fa5be5c2"
      },
      "execution_count": null,
      "outputs": [
        {
          "output_type": "stream",
          "name": "stdout",
          "text": [
            "[array([[-3.22602764e-02, -5.63557804e-01,  1.42207742e-03,\n",
            "         -2.30906457e-01, -1.86639484e-02, -2.16304772e-02,\n",
            "         -2.77634203e-01,  2.18759671e-01],\n",
            "        [-1.40595406e-01, -1.74094573e-01,  3.26317251e-01,\n",
            "          7.25025237e-02, -1.10350692e+00,  3.93451262e+00,\n",
            "         -5.05261868e-02, -1.05094686e-01],\n",
            "        [-4.31774735e-01, -1.67147696e-01,  2.07591712e-01,\n",
            "         -2.63927549e-01, -6.92959189e-01,  7.56789160e+00,\n",
            "         -2.66770750e-01,  4.78079468e-02],\n",
            "        [ 6.90404847e-02, -3.74795198e-01, -8.64442289e-02,\n",
            "          2.67177518e-03, -1.27035153e+00,  7.59062481e+00,\n",
            "          2.62696207e-01, -3.50663662e-01],\n",
            "        [-7.34308586e-02, -4.86831188e-01, -2.68751919e-01,\n",
            "          7.16558695e-02, -6.49386346e-01, -5.89060457e-03,\n",
            "          2.21486434e-01, -3.98104608e-01],\n",
            "        [-1.43148512e-01, -2.09540769e-01, -3.73320043e-01,\n",
            "          5.65284491e-03, -6.27406895e-01,  5.77238655e+00,\n",
            "          8.28171611e-01,  1.32989392e-01],\n",
            "        [-1.53140992e-01, -1.45868838e-01,  6.54739738e-02,\n",
            "          1.49423376e-01, -2.75132686e-01,  3.97376984e-01,\n",
            "         -2.25439101e-01,  3.35764706e-01],\n",
            "        [ 1.25247881e-01, -4.47633713e-01,  5.11637330e-03,\n",
            "          1.77279919e-01, -8.85652304e-01,  7.16781187e+00,\n",
            "         -9.48026717e-01,  1.77378207e-01],\n",
            "        [ 2.35743299e-01, -2.30957717e-01, -1.49363279e-02,\n",
            "         -2.94170797e-01, -3.10008794e-01,  5.64974546e-01,\n",
            "          2.98634619e-01, -1.89258620e-01],\n",
            "        [ 8.19227323e-02, -1.68285102e-01, -1.92792028e-01,\n",
            "         -4.83552814e-01, -3.78805727e-01,  3.84372425e+00,\n",
            "         -1.05209522e-01,  1.37294725e-01],\n",
            "        [ 1.85140431e-01, -3.35312903e-01,  3.43308806e-01,\n",
            "         -5.26618883e-02, -4.38618809e-01,  9.01240230e-01,\n",
            "         -2.53739387e-01, -1.92060526e-02],\n",
            "        [-5.85406244e-01, -4.33267176e-01, -3.40535402e-01,\n",
            "          1.69512525e-01, -3.53950471e-01, -3.88287827e-02,\n",
            "         -2.34734565e-01, -3.85266691e-01],\n",
            "        [-7.43374601e-02,  3.13201964e-01, -3.55141610e-01,\n",
            "         -4.29870129e-01, -4.55983989e-02, -8.71307915e-04,\n",
            "         -9.70228389e-02, -3.91833842e-01],\n",
            "        [ 6.10428769e-03, -1.86430424e-01, -1.41357571e-01,\n",
            "          3.98198292e-02,  3.34005021e-02, -7.08385780e-02,\n",
            "          3.32556143e-02, -4.75492746e-01],\n",
            "        [-2.49004871e-01, -4.75021660e-01, -4.15585279e-01,\n",
            "          3.76465887e-01, -1.00337231e+00,  3.37907839e+00,\n",
            "         -4.85909909e-01,  3.49350959e-01],\n",
            "        [ 2.86694765e-01, -4.01659727e-01, -4.30110097e-03,\n",
            "         -2.99351931e-01, -3.11921805e-01,  1.56701982e-01,\n",
            "         -5.23479998e-01,  1.23777717e-01],\n",
            "        [ 1.88037321e-01, -1.72677621e-01,  2.85462797e-01,\n",
            "         -5.05262911e-01, -1.03305638e+00,  1.81178939e+00,\n",
            "         -4.85388339e-01, -4.67093319e-01],\n",
            "        [ 1.14899524e-01, -3.53651121e-02,  3.63644779e-01,\n",
            "         -5.73293567e-02, -5.37633955e-01,  6.87817574e+00,\n",
            "          8.22765380e-02, -3.40599507e-01],\n",
            "        [ 5.75826764e-02, -1.96423009e-01,  1.20382786e-01,\n",
            "         -9.60843340e-02, -2.73927897e-01,  8.38762665e+00,\n",
            "         -7.47402132e-01, -9.97602940e-04],\n",
            "        [-2.31064856e-01, -4.78205770e-01,  2.68502057e-01,\n",
            "          1.82739317e-01, -1.10965347e+00,  7.37402821e+00,\n",
            "          3.06018647e-02, -4.74289685e-01]], dtype=float32)\n",
            " array([ 0.16282456, -0.14829613,  0.        , -0.05227618, -0.8119228 ,\n",
            "         9.468429  ,  0.01880457, -0.05155271], dtype=float32)\n",
            " array([[ 0.18326943,  0.4246446 ,  0.2216585 , -0.19010285,  0.31168246,\n",
            "         -0.5557687 , -0.43947387, -0.8126516 ],\n",
            "        [-0.6659849 ,  0.28527737,  0.11828854, -0.32654735, -0.22569388,\n",
            "         -0.3012916 ,  0.35609487, -0.10670274],\n",
            "        [-0.49209437,  0.13851374,  0.2847429 , -0.19425532,  0.09689736,\n",
            "          0.02679485, -0.2880386 , -0.46628594],\n",
            "        [-0.20049   ,  0.21836591,  0.03383944, -0.03954556,  0.59981054,\n",
            "          0.07425795,  0.31939882, -0.2767863 ],\n",
            "        [-0.20578735,  0.16944867,  0.24975081, -0.06762318, -0.03093776,\n",
            "         -0.03937028,  0.44177428, -0.2159891 ],\n",
            "        [ 0.14820169,  0.03033591, -0.07083844,  0.07670614,  0.11119194,\n",
            "          0.03023357, -0.18710975, -0.2950989 ],\n",
            "        [ 0.20855759,  0.30768293,  0.15097173,  0.02876558,  0.26986846,\n",
            "          0.03851398, -0.49315518,  0.2968683 ],\n",
            "        [ 0.5358074 ,  0.38226506,  0.3060849 ,  0.25007015,  0.20039473,\n",
            "          0.01412165, -0.01380515,  0.06274027]], dtype=float32)\n",
            " array([ 0.00948188,  0.30221793, -0.04530605,  0.02079426, -1.384413  ,\n",
            "        -0.00928888, -0.92839193, -0.42861816], dtype=float32)\n",
            " array([[ 0.12067349,  0.14868928,  0.04071741, -0.78632545],\n",
            "        [-0.4884273 , -0.12945941, -0.46197098,  0.04712975],\n",
            "        [ 0.13851267,  0.02522342,  0.697969  , -0.26208645],\n",
            "        [ 0.36152402,  0.34503117,  0.338352  , -0.52136016],\n",
            "        [ 0.23883975, -0.33180216, -0.3449336 ,  0.10345771],\n",
            "        [ 0.1815197 ,  0.18741712, -0.005413  ,  0.0315339 ],\n",
            "        [ 0.48017785,  0.20485677, -0.19593187,  0.3585404 ],\n",
            "        [-0.35679528, -0.31575298, -0.14514238,  0.04320855]],\n",
            "       dtype=float32)\n",
            " array([-3.2966943 , -0.18165523,  1.465972  ,  1.9382735 ], dtype=float32)]\n"
          ]
        },
        {
          "output_type": "stream",
          "name": "stderr",
          "text": [
            "Creating an ndarray from ragged nested sequences (which is a list-or-tuple of lists-or-tuples-or ndarrays with different lengths or shapes) is deprecated. If you meant to do this, you must specify 'dtype=object' when creating the ndarray.\n"
          ]
        }
      ]
    },
    {
      "cell_type": "code",
      "source": [
        "print(weights.shape)"
      ],
      "metadata": {
        "id": "QUT5TQSxlSps",
        "colab": {
          "base_uri": "https://localhost:8080/"
        },
        "outputId": "215c7683-1da1-4c45-bcff-ed49b7c9c9be"
      },
      "execution_count": null,
      "outputs": [
        {
          "output_type": "stream",
          "name": "stdout",
          "text": [
            "(6,)\n"
          ]
        }
      ]
    },
    {
      "cell_type": "code",
      "source": [
        "df4=pd.DataFrame(weights)\n",
        "df4.to_csv('./drive/My Drive/Colab Notebooks/logs/weights.csv')"
      ],
      "metadata": {
        "id": "NAg4kQkv4G82"
      },
      "execution_count": null,
      "outputs": []
    },
    {
      "cell_type": "code",
      "source": [
        "weight_list=[]\n",
        "for i in range(1,101,10):\n",
        "  model=tf.keras.models.load_model('./drive/My Drive/Colab Notebooks/logs/weights1.%02d.h5'%(i))\n",
        "  weight_list.append(np.asarray(model.get_weights()))\n",
        "print(len(weight_list))\n",
        "print(weight_list[0].shape)"
      ],
      "metadata": {
        "colab": {
          "base_uri": "https://localhost:8080/"
        },
        "id": "v5HLYd0NvEpQ",
        "outputId": "deb8652b-4175-498d-b505-5c1e2809bf28"
      },
      "execution_count": null,
      "outputs": [
        {
          "output_type": "stream",
          "name": "stderr",
          "text": [
            "Creating an ndarray from ragged nested sequences (which is a list-or-tuple of lists-or-tuples-or ndarrays with different lengths or shapes) is deprecated. If you meant to do this, you must specify 'dtype=object' when creating the ndarray.\n"
          ]
        },
        {
          "output_type": "stream",
          "name": "stdout",
          "text": [
            "10\n",
            "(6,)\n"
          ]
        }
      ]
    },
    {
      "cell_type": "code",
      "source": [
        "df4=pd.DataFrame(weight_list)\n",
        "print(df4.head(5))\n",
        "df4.to_csv('./drive/My Drive/Colab Notebooks/logs/weights1.csv')"
      ],
      "metadata": {
        "colab": {
          "base_uri": "https://localhost:8080/"
        },
        "id": "zIQL3RBC0rmr",
        "outputId": "3b9ead33-6792-4138-9059-47df6583e6cd"
      },
      "execution_count": null,
      "outputs": [
        {
          "output_type": "stream",
          "name": "stdout",
          "text": [
            "                                                   0  \\\n",
            "0  [[0.43523753, -0.554063, 0.0014220774, -0.2301...   \n",
            "1  [[0.26846433, -0.5635578, 0.0014220774, -0.230...   \n",
            "2  [[0.17672597, -0.5635578, 0.0014220774, -0.230...   \n",
            "3  [[0.12980343, -0.5635578, 0.0014220774, -0.230...   \n",
            "4  [[0.07635091, -0.5635578, 0.0014220774, -0.230...   \n",
            "\n",
            "                                                   1  \\\n",
            "0  [0.051542185, -0.1382689, 0.0, -0.051534686, -...   \n",
            "1  [-0.0054819304, -0.14829613, 0.0, -0.052276175...   \n",
            "2  [0.02316496, -0.14829613, 0.0, -0.052276175, -...   \n",
            "3  [0.094285086, -0.14829613, 0.0, -0.052276175, ...   \n",
            "4  [0.1567428, -0.14829613, 0.0, -0.052276175, -0...   \n",
            "\n",
            "                                                   2  \\\n",
            "0  [[0.15048257, 0.45359024, 0.22082183, -0.16195...   \n",
            "1  [[0.16052379, 0.4304444, 0.22546187, -0.154472...   \n",
            "2  [[0.16918597, 0.4240336, 0.22035787, -0.194757...   \n",
            "3  [[0.18004553, 0.42363635, 0.21962444, -0.20338...   \n",
            "4  [[0.19170849, 0.42205268, 0.21728519, -0.21030...   \n",
            "\n",
            "                                                   3  \\\n",
            "0  [-0.056503676, 0.0330561, -0.06509315, -0.1246...   \n",
            "1  [-0.04167436, -0.06785561, -0.042332795, -0.35...   \n",
            "2  [-0.09097535, -0.19428982, -0.06723528, -0.323...   \n",
            "3  [-0.05590358, -0.19149789, -0.07717289, -0.006...   \n",
            "4  [0.020011157, -0.20493552, -0.1417841, -0.0041...   \n",
            "\n",
            "                                                   4  \\\n",
            "0  [[-0.28768492, 0.39461416, -0.06761753, -0.649...   \n",
            "1  [[-0.30453598, 0.14269567, 0.43168783, -0.6040...   \n",
            "2  [[-0.2551971, 0.17071195, 0.38065737, -0.63921...   \n",
            "3  [[-0.21349202, 0.18646273, 0.33616722, -0.6559...   \n",
            "4  [[-0.1534675, 0.18083261, 0.29395843, -0.66983...   \n",
            "\n",
            "                                                   5  \n",
            "0  [-0.09186735, 0.079819724, 0.098087825, 0.0773...  \n",
            "1  [-0.024601893, 0.24759036, 0.017363828, -0.048...  \n",
            "2  [-0.29050827, 0.23648277, 0.062268086, 0.1404832]  \n",
            "3     [-1.0777391, 0.2219776, 0.3670779, 0.49137694]  \n",
            "4   [-1.5330095, 0.14196979, 0.55471927, 0.77274895]  \n"
          ]
        }
      ]
    },
    {
      "cell_type": "code",
      "source": [
        "df4.iloc[0,0]"
      ],
      "metadata": {
        "colab": {
          "base_uri": "https://localhost:8080/"
        },
        "id": "6cmXW6RUkepn",
        "outputId": "6f9b73ef-18e1-4e56-d090-949f0874ed6f"
      },
      "execution_count": null,
      "outputs": [
        {
          "output_type": "execute_result",
          "data": {
            "text/plain": [
              "array([[ 0.43523753, -0.554063  ,  0.00142208, -0.23016486, -0.00317814,\n",
              "        -0.20490417, -0.34695122,  0.22015108],\n",
              "       [-0.36818555, -0.16917185,  0.32631725,  0.073244  , -0.28924215,\n",
              "        -0.3142181 , -0.25484905, -0.10370341],\n",
              "       [-0.40791458, -0.15902175,  0.20759171, -0.2631863 , -0.19132099,\n",
              "        -0.19012831, -0.07130148,  0.04919918],\n",
              "       [-0.22490449, -0.36984053, -0.08644423,  0.00341329, -0.5124707 ,\n",
              "        -0.03021243,  0.03765203, -0.34927255],\n",
              "       [ 0.10900211, -0.47787642, -0.26875192,  0.07239749, -0.4827723 ,\n",
              "         0.34886357, -0.14708377, -0.39671332],\n",
              "       [-0.07680374, -0.20091416, -0.37332004,  0.00565284,  0.11615726,\n",
              "         0.39172903,  0.12960277,  0.13438062],\n",
              "       [-0.22759385, -0.13744508,  0.06547397,  0.15016487,  0.14879388,\n",
              "        -0.24441858, -0.10905766,  0.33715606],\n",
              "       [-0.0689382 , -0.4375887 ,  0.00511637,  0.17802133, -0.24860477,\n",
              "        -0.41467676, -0.37750396,  0.17876928],\n",
              "       [ 0.42782873, -0.22136289, -0.01493633, -0.29342917,  0.03716827,\n",
              "         0.2012138 ,  0.32632887, -0.18786721],\n",
              "       [-0.0009727 , -0.15794839, -0.19279203, -0.48281127,  0.21884397,\n",
              "         0.33766085,  0.07040717,  0.1386861 ],\n",
              "       [ 0.38020048, -0.32732075,  0.3433088 , -0.05192026, -0.28859857,\n",
              "         0.26483494,  0.04046512, -0.01781467],\n",
              "       [-0.43335578, -0.42586157, -0.3405354 ,  0.17025413, -0.4677586 ,\n",
              "         0.05315277, -0.14774485, -0.38387534],\n",
              "       [ 0.02860932,  0.3231122 , -0.3551416 , -0.4291285 ,  0.19825646,\n",
              "         0.12131261,  0.19518635, -0.3904425 ],\n",
              "       [ 0.0764739 , -0.17963171, -0.14135757,  0.04056147,  0.14071453,\n",
              "        -0.14080247,  0.0916771 , -0.4741014 ],\n",
              "       [-0.19516885, -0.46456778, -0.41558528,  0.37720752, -0.5608613 ,\n",
              "         0.07477316, -0.4608929 ,  0.3507423 ],\n",
              "       [ 0.43279326, -0.39017683, -0.0043011 , -0.2986103 , -0.09278932,\n",
              "        -0.14615546, -0.29773673,  0.12516907],\n",
              "       [ 0.33441916, -0.1632109 ,  0.2854628 , -0.5045215 , -0.53251   ,\n",
              "        -0.30625805, -0.26413321, -0.46570197],\n",
              "       [ 0.03528326, -0.02530168,  0.36364478, -0.05732936,  0.13401343,\n",
              "         0.03863476, -0.2324201 , -0.33920822],\n",
              "       [ 0.10031764, -0.18847628,  0.12038279, -0.09534286,  0.17507349,\n",
              "        -0.13406588, -0.12111104, -0.0009976 ],\n",
              "       [-0.38823104, -0.46792063,  0.26850206,  0.18273932, -0.40537918,\n",
              "        -0.15494075, -0.18541154, -0.4728984 ]], dtype=float32)"
            ]
          },
          "metadata": {},
          "execution_count": 33
        }
      ]
    },
    {
      "cell_type": "code",
      "source": [
        "df5=pd.DataFrame(columns=[\"node\",\"epoch\",\"layer\",\"weight\",\"bias\",\"target\"])"
      ],
      "metadata": {
        "id": "uwhCAnME1k3t"
      },
      "execution_count": null,
      "outputs": []
    },
    {
      "cell_type": "code",
      "source": [
        "df4.iloc[0,5]"
      ],
      "metadata": {
        "colab": {
          "base_uri": "https://localhost:8080/"
        },
        "id": "QbnTuX1lMD9C",
        "outputId": "0d6f2cee-7867-44fa-8581-ea951d9769a7"
      },
      "execution_count": null,
      "outputs": [
        {
          "output_type": "execute_result",
          "data": {
            "text/plain": [
              "array([-0.09186735,  0.07981972,  0.09808782,  0.07735376], dtype=float32)"
            ]
          },
          "metadata": {},
          "execution_count": 37
        }
      ]
    },
    {
      "cell_type": "code",
      "source": [],
      "metadata": {
        "id": "3WGIm4INK_CM"
      },
      "execution_count": null,
      "outputs": []
    },
    {
      "cell_type": "code",
      "source": [
        "l=0\n",
        "t=0\n",
        "for epoch in range(0,10):\n",
        "    j=0\n",
        "    for i in df4.iloc[epoch,0]:\n",
        "        for k in i:\n",
        "            df5.loc[l,[\"node\",\"epoch\",\"layer\",\"weight\",\"bias\",\"target\"]]=[j,epoch,0,k,0,t]\n",
        "            t+=1\n",
        "            l+=1\n",
        "        j+=1\n",
        "        t=0\n",
        "for epoch in range(0,10):\n",
        "    j=0\n",
        "    for i in df4.iloc[epoch,1]:\n",
        "          df5.loc[l,[\"node\",\"epoch\",\"layer\",\"weight\",\"bias\",\"target\"]]=[j,epoch,1,0,i,0]\n",
        "          l+=1\n",
        "          j+=1\n",
        "for epoch in range(0,10):\n",
        "    j=0\n",
        "    for i in df4.iloc[epoch,2]:\n",
        "        for k in i:\n",
        "            df5.loc[l,[\"node\",\"epoch\",\"layer\",\"weight\",\"bias\",\"target\"]]=[j,epoch,1,k,0,t]\n",
        "            l+=1\n",
        "            t+=1\n",
        "        j+=1\n",
        "        t=0\n",
        "for epoch in range(0,10):\n",
        "    j=0\n",
        "    for i in df4.iloc[epoch,3]:\n",
        "          df5.loc[l,[\"node\",\"epoch\",\"layer\",\"weight\",\"bias\",\"target\"]]=[j,epoch,2,0,i,0]\n",
        "          l+=1\n",
        "          j+=1\n",
        "for epoch in range(0,10):\n",
        "    j=0\n",
        "    for i in df4.iloc[epoch,4]:\n",
        "        for k in i:\n",
        "            df5.loc[l,[\"node\",\"epoch\",\"layer\",\"weight\",\"bias\",\"target\"]]=[j,epoch,2,k,0,t]\n",
        "            l+=1\n",
        "            t+=1\n",
        "        j+=1\n",
        "        t=0\n",
        "\n",
        "for epoch in range(0,10):\n",
        "    j=0\n",
        "    for i in df4.iloc[epoch,5]:\n",
        "          df5.loc[l,[\"node\",\"epoch\",\"layer\",\"weight\",\"bias\",\"target\"]]=[j,epoch,3,0,i,0]\n",
        "          l+=1\n",
        "          j+=1\n"
      ],
      "metadata": {
        "id": "xAQzsCay23DV"
      },
      "execution_count": null,
      "outputs": []
    },
    {
      "cell_type": "code",
      "source": [
        "df5"
      ],
      "metadata": {
        "colab": {
          "base_uri": "https://localhost:8080/",
          "height": 424
        },
        "id": "10zRjT_vKlzK",
        "outputId": "c4d38e14-c757-4817-c658-ad3d1b78f45d"
      },
      "execution_count": null,
      "outputs": [
        {
          "output_type": "execute_result",
          "data": {
            "text/plain": [
              "     node epoch layer    weight      bias target\n",
              "0       0     0     0  0.435238         0      0\n",
              "1       0     0     0 -0.554063         0      1\n",
              "2       0     0     0  0.001422         0      2\n",
              "3       0     0     0 -0.230165         0      3\n",
              "4       0     0     0 -0.003178         0      4\n",
              "...   ...   ...   ...       ...       ...    ...\n",
              "2755    3     8     3         0  1.818052      0\n",
              "2756    0     9     3         0 -3.186536      0\n",
              "2757    1     9     3         0 -0.120565      0\n",
              "2758    2     9     3         0  1.414454      0\n",
              "2759    3     9     3         0  1.789272      0\n",
              "\n",
              "[2760 rows x 6 columns]"
            ],
            "text/html": [
              "\n",
              "  <div id=\"df-ce09afdf-7efc-470a-b4e1-04401f05d0be\">\n",
              "    <div class=\"colab-df-container\">\n",
              "      <div>\n",
              "<style scoped>\n",
              "    .dataframe tbody tr th:only-of-type {\n",
              "        vertical-align: middle;\n",
              "    }\n",
              "\n",
              "    .dataframe tbody tr th {\n",
              "        vertical-align: top;\n",
              "    }\n",
              "\n",
              "    .dataframe thead th {\n",
              "        text-align: right;\n",
              "    }\n",
              "</style>\n",
              "<table border=\"1\" class=\"dataframe\">\n",
              "  <thead>\n",
              "    <tr style=\"text-align: right;\">\n",
              "      <th></th>\n",
              "      <th>node</th>\n",
              "      <th>epoch</th>\n",
              "      <th>layer</th>\n",
              "      <th>weight</th>\n",
              "      <th>bias</th>\n",
              "      <th>target</th>\n",
              "    </tr>\n",
              "  </thead>\n",
              "  <tbody>\n",
              "    <tr>\n",
              "      <th>0</th>\n",
              "      <td>0</td>\n",
              "      <td>0</td>\n",
              "      <td>0</td>\n",
              "      <td>0.435238</td>\n",
              "      <td>0</td>\n",
              "      <td>0</td>\n",
              "    </tr>\n",
              "    <tr>\n",
              "      <th>1</th>\n",
              "      <td>0</td>\n",
              "      <td>0</td>\n",
              "      <td>0</td>\n",
              "      <td>-0.554063</td>\n",
              "      <td>0</td>\n",
              "      <td>1</td>\n",
              "    </tr>\n",
              "    <tr>\n",
              "      <th>2</th>\n",
              "      <td>0</td>\n",
              "      <td>0</td>\n",
              "      <td>0</td>\n",
              "      <td>0.001422</td>\n",
              "      <td>0</td>\n",
              "      <td>2</td>\n",
              "    </tr>\n",
              "    <tr>\n",
              "      <th>3</th>\n",
              "      <td>0</td>\n",
              "      <td>0</td>\n",
              "      <td>0</td>\n",
              "      <td>-0.230165</td>\n",
              "      <td>0</td>\n",
              "      <td>3</td>\n",
              "    </tr>\n",
              "    <tr>\n",
              "      <th>4</th>\n",
              "      <td>0</td>\n",
              "      <td>0</td>\n",
              "      <td>0</td>\n",
              "      <td>-0.003178</td>\n",
              "      <td>0</td>\n",
              "      <td>4</td>\n",
              "    </tr>\n",
              "    <tr>\n",
              "      <th>...</th>\n",
              "      <td>...</td>\n",
              "      <td>...</td>\n",
              "      <td>...</td>\n",
              "      <td>...</td>\n",
              "      <td>...</td>\n",
              "      <td>...</td>\n",
              "    </tr>\n",
              "    <tr>\n",
              "      <th>2755</th>\n",
              "      <td>3</td>\n",
              "      <td>8</td>\n",
              "      <td>3</td>\n",
              "      <td>0</td>\n",
              "      <td>1.818052</td>\n",
              "      <td>0</td>\n",
              "    </tr>\n",
              "    <tr>\n",
              "      <th>2756</th>\n",
              "      <td>0</td>\n",
              "      <td>9</td>\n",
              "      <td>3</td>\n",
              "      <td>0</td>\n",
              "      <td>-3.186536</td>\n",
              "      <td>0</td>\n",
              "    </tr>\n",
              "    <tr>\n",
              "      <th>2757</th>\n",
              "      <td>1</td>\n",
              "      <td>9</td>\n",
              "      <td>3</td>\n",
              "      <td>0</td>\n",
              "      <td>-0.120565</td>\n",
              "      <td>0</td>\n",
              "    </tr>\n",
              "    <tr>\n",
              "      <th>2758</th>\n",
              "      <td>2</td>\n",
              "      <td>9</td>\n",
              "      <td>3</td>\n",
              "      <td>0</td>\n",
              "      <td>1.414454</td>\n",
              "      <td>0</td>\n",
              "    </tr>\n",
              "    <tr>\n",
              "      <th>2759</th>\n",
              "      <td>3</td>\n",
              "      <td>9</td>\n",
              "      <td>3</td>\n",
              "      <td>0</td>\n",
              "      <td>1.789272</td>\n",
              "      <td>0</td>\n",
              "    </tr>\n",
              "  </tbody>\n",
              "</table>\n",
              "<p>2760 rows × 6 columns</p>\n",
              "</div>\n",
              "      <button class=\"colab-df-convert\" onclick=\"convertToInteractive('df-ce09afdf-7efc-470a-b4e1-04401f05d0be')\"\n",
              "              title=\"Convert this dataframe to an interactive table.\"\n",
              "              style=\"display:none;\">\n",
              "        \n",
              "  <svg xmlns=\"http://www.w3.org/2000/svg\" height=\"24px\"viewBox=\"0 0 24 24\"\n",
              "       width=\"24px\">\n",
              "    <path d=\"M0 0h24v24H0V0z\" fill=\"none\"/>\n",
              "    <path d=\"M18.56 5.44l.94 2.06.94-2.06 2.06-.94-2.06-.94-.94-2.06-.94 2.06-2.06.94zm-11 1L8.5 8.5l.94-2.06 2.06-.94-2.06-.94L8.5 2.5l-.94 2.06-2.06.94zm10 10l.94 2.06.94-2.06 2.06-.94-2.06-.94-.94-2.06-.94 2.06-2.06.94z\"/><path d=\"M17.41 7.96l-1.37-1.37c-.4-.4-.92-.59-1.43-.59-.52 0-1.04.2-1.43.59L10.3 9.45l-7.72 7.72c-.78.78-.78 2.05 0 2.83L4 21.41c.39.39.9.59 1.41.59.51 0 1.02-.2 1.41-.59l7.78-7.78 2.81-2.81c.8-.78.8-2.07 0-2.86zM5.41 20L4 18.59l7.72-7.72 1.47 1.35L5.41 20z\"/>\n",
              "  </svg>\n",
              "      </button>\n",
              "      \n",
              "  <style>\n",
              "    .colab-df-container {\n",
              "      display:flex;\n",
              "      flex-wrap:wrap;\n",
              "      gap: 12px;\n",
              "    }\n",
              "\n",
              "    .colab-df-convert {\n",
              "      background-color: #E8F0FE;\n",
              "      border: none;\n",
              "      border-radius: 50%;\n",
              "      cursor: pointer;\n",
              "      display: none;\n",
              "      fill: #1967D2;\n",
              "      height: 32px;\n",
              "      padding: 0 0 0 0;\n",
              "      width: 32px;\n",
              "    }\n",
              "\n",
              "    .colab-df-convert:hover {\n",
              "      background-color: #E2EBFA;\n",
              "      box-shadow: 0px 1px 2px rgba(60, 64, 67, 0.3), 0px 1px 3px 1px rgba(60, 64, 67, 0.15);\n",
              "      fill: #174EA6;\n",
              "    }\n",
              "\n",
              "    [theme=dark] .colab-df-convert {\n",
              "      background-color: #3B4455;\n",
              "      fill: #D2E3FC;\n",
              "    }\n",
              "\n",
              "    [theme=dark] .colab-df-convert:hover {\n",
              "      background-color: #434B5C;\n",
              "      box-shadow: 0px 1px 3px 1px rgba(0, 0, 0, 0.15);\n",
              "      filter: drop-shadow(0px 1px 2px rgba(0, 0, 0, 0.3));\n",
              "      fill: #FFFFFF;\n",
              "    }\n",
              "  </style>\n",
              "\n",
              "      <script>\n",
              "        const buttonEl =\n",
              "          document.querySelector('#df-ce09afdf-7efc-470a-b4e1-04401f05d0be button.colab-df-convert');\n",
              "        buttonEl.style.display =\n",
              "          google.colab.kernel.accessAllowed ? 'block' : 'none';\n",
              "\n",
              "        async function convertToInteractive(key) {\n",
              "          const element = document.querySelector('#df-ce09afdf-7efc-470a-b4e1-04401f05d0be');\n",
              "          const dataTable =\n",
              "            await google.colab.kernel.invokeFunction('convertToInteractive',\n",
              "                                                     [key], {});\n",
              "          if (!dataTable) return;\n",
              "\n",
              "          const docLinkHtml = 'Like what you see? Visit the ' +\n",
              "            '<a target=\"_blank\" href=https://colab.research.google.com/notebooks/data_table.ipynb>data table notebook</a>'\n",
              "            + ' to learn more about interactive tables.';\n",
              "          element.innerHTML = '';\n",
              "          dataTable['output_type'] = 'display_data';\n",
              "          await google.colab.output.renderOutput(dataTable, element);\n",
              "          const docLink = document.createElement('div');\n",
              "          docLink.innerHTML = docLinkHtml;\n",
              "          element.appendChild(docLink);\n",
              "        }\n",
              "      </script>\n",
              "    </div>\n",
              "  </div>\n",
              "  "
            ]
          },
          "metadata": {},
          "execution_count": 38
        }
      ]
    },
    {
      "cell_type": "code",
      "source": [
        "df5.to_csv('./drive/My Drive/Colab Notebooks/logs/weights_2.csv')"
      ],
      "metadata": {
        "id": "EKxpriCnfM17"
      },
      "execution_count": null,
      "outputs": []
    },
    {
      "cell_type": "code",
      "source": [
        "import matplotlib.pyplot as plt\n",
        "x='ram'\n",
        "y='battery_power'\n",
        "\n",
        "plt.scatter(test[test['price_range']==0][x],test[test['price_range']==0][y])\n",
        "plt.scatter(test[test['price_range']==1][x],test[test['price_range']==1][y])\n",
        "plt.scatter(test[test['price_range']==2][x],test[test['price_range']==2][y])\n",
        "plt.scatter(test[test['price_range']==3][x],test[test['price_range']==3][y])\n",
        "plt.show()"
      ],
      "metadata": {
        "colab": {
          "base_uri": "https://localhost:8080/",
          "height": 265
        },
        "id": "vSmcDOZNfnKZ",
        "outputId": "8da0f6b2-b689-46c8-94d4-9ada771baa86"
      },
      "execution_count": null,
      "outputs": [
        {
          "output_type": "display_data",
          "data": {
            "text/plain": [
              "<Figure size 432x288 with 1 Axes>"
            ],
            "image/png": "[encoded data removed]"
          },
          "metadata": {
            "needs_background": "light"
          }
        }
      ]
    },
    {
      "cell_type": "code",
      "source": [
        "predictions=model.predict(test.iloc[:,:20])\n",
        "predictions=pd.DataFrame(predictions)\n",
        "print(test[0])\n",
        "t=pd.concat([test,predictions],axis=1)\n",
        "#print(t)"
      ],
      "metadata": {
        "colab": {
          "base_uri": "https://localhost:8080/",
          "height": 519
        },
        "id": "i3x4nXRBmHOt",
        "outputId": "ccefb9ca-316c-4e28-b469-ce37bc78edbf"
      },
      "execution_count": null,
      "outputs": [
        {
          "output_type": "stream",
          "name": "stdout",
          "text": [
            "16/16 [==============================] - 0s 2ms/step\n"
          ]
        },
        {
          "output_type": "error",
          "ename": "KeyError",
          "evalue": "ignored",
          "traceback": [
            "\u001b[0;31m---------------------------------------------------------------------------\u001b[0m",
            "\u001b[0;31mKeyError\u001b[0m                                  Traceback (most recent call last)",
            "\u001b[0;32m/usr/local/lib/python3.8/dist-packages/pandas/core/indexes/base.py\u001b[0m in \u001b[0;36mget_loc\u001b[0;34m(self, key, method, tolerance)\u001b[0m\n\u001b[1;32m   3360\u001b[0m             \u001b[0;32mtry\u001b[0m\u001b[0;34m:\u001b[0m\u001b[0;34m\u001b[0m\u001b[0;34m\u001b[0m\u001b[0m\n\u001b[0;32m-> 3361\u001b[0;31m                 \u001b[0;32mreturn\u001b[0m \u001b[0mself\u001b[0m\u001b[0;34m.\u001b[0m\u001b[0m_engine\u001b[0m\u001b[0;34m.\u001b[0m\u001b[0mget_loc\u001b[0m\u001b[0;34m(\u001b[0m\u001b[0mcasted_key\u001b[0m\u001b[0;34m)\u001b[0m\u001b[0;34m\u001b[0m\u001b[0;34m\u001b[0m\u001b[0m\n\u001b[0m\u001b[1;32m   3362\u001b[0m             \u001b[0;32mexcept\u001b[0m \u001b[0mKeyError\u001b[0m \u001b[0;32mas\u001b[0m \u001b[0merr\u001b[0m\u001b[0;34m:\u001b[0m\u001b[0;34m\u001b[0m\u001b[0;34m\u001b[0m\u001b[0m\n",
            "\u001b[0;32m/usr/local/lib/python3.8/dist-packages/pandas/_libs/index.pyx\u001b[0m in \u001b[0;36mpandas._libs.index.IndexEngine.get_loc\u001b[0;34m()\u001b[0m\n",
            "\u001b[0;32m/usr/local/lib/python3.8/dist-packages/pandas/_libs/index.pyx\u001b[0m in \u001b[0;36mpandas._libs.index.IndexEngine.get_loc\u001b[0;34m()\u001b[0m\n",
            "\u001b[0;32mpandas/_libs/hashtable_class_helper.pxi\u001b[0m in \u001b[0;36mpandas._libs.hashtable.PyObjectHashTable.get_item\u001b[0;34m()\u001b[0m\n",
            "\u001b[0;32mpandas/_libs/hashtable_class_helper.pxi\u001b[0m in \u001b[0;36mpandas._libs.hashtable.PyObjectHashTable.get_item\u001b[0;34m()\u001b[0m\n",
            "\u001b[0;31mKeyError\u001b[0m: 0",
            "\nThe above exception was the direct cause of the following exception:\n",
            "\u001b[0;31mKeyError\u001b[0m                                  Traceback (most recent call last)",
            "\u001b[0;32m<ipython-input-63-525c8c22c624>\u001b[0m in \u001b[0;36m<module>\u001b[0;34m\u001b[0m\n\u001b[1;32m      1\u001b[0m \u001b[0mpredictions\u001b[0m\u001b[0;34m=\u001b[0m\u001b[0mmodel\u001b[0m\u001b[0;34m.\u001b[0m\u001b[0mpredict\u001b[0m\u001b[0;34m(\u001b[0m\u001b[0mtest\u001b[0m\u001b[0;34m.\u001b[0m\u001b[0miloc\u001b[0m\u001b[0;34m[\u001b[0m\u001b[0;34m:\u001b[0m\u001b[0;34m,\u001b[0m\u001b[0;34m:\u001b[0m\u001b[0;36m20\u001b[0m\u001b[0;34m]\u001b[0m\u001b[0;34m)\u001b[0m\u001b[0;34m\u001b[0m\u001b[0;34m\u001b[0m\u001b[0m\n\u001b[1;32m      2\u001b[0m \u001b[0mpredictions\u001b[0m\u001b[0;34m=\u001b[0m\u001b[0mpd\u001b[0m\u001b[0;34m.\u001b[0m\u001b[0mDataFrame\u001b[0m\u001b[0;34m(\u001b[0m\u001b[0mpredictions\u001b[0m\u001b[0;34m)\u001b[0m\u001b[0;34m\u001b[0m\u001b[0;34m\u001b[0m\u001b[0m\n\u001b[0;32m----> 3\u001b[0;31m \u001b[0mprint\u001b[0m\u001b[0;34m(\u001b[0m\u001b[0mtest\u001b[0m\u001b[0;34m[\u001b[0m\u001b[0;36m0\u001b[0m\u001b[0;34m]\u001b[0m\u001b[0;34m)\u001b[0m\u001b[0;34m\u001b[0m\u001b[0;34m\u001b[0m\u001b[0m\n\u001b[0m\u001b[1;32m      4\u001b[0m \u001b[0mt\u001b[0m\u001b[0;34m=\u001b[0m\u001b[0mpd\u001b[0m\u001b[0;34m.\u001b[0m\u001b[0mconcat\u001b[0m\u001b[0;34m(\u001b[0m\u001b[0;34m[\u001b[0m\u001b[0mtest\u001b[0m\u001b[0;34m,\u001b[0m\u001b[0mpredictions\u001b[0m\u001b[0;34m]\u001b[0m\u001b[0;34m,\u001b[0m\u001b[0maxis\u001b[0m\u001b[0;34m=\u001b[0m\u001b[0;36m1\u001b[0m\u001b[0;34m)\u001b[0m\u001b[0;34m\u001b[0m\u001b[0;34m\u001b[0m\u001b[0m\n\u001b[1;32m      5\u001b[0m \u001b[0;31m#print(t)\u001b[0m\u001b[0;34m\u001b[0m\u001b[0;34m\u001b[0m\u001b[0;34m\u001b[0m\u001b[0m\n",
            "\u001b[0;32m/usr/local/lib/python3.8/dist-packages/pandas/core/frame.py\u001b[0m in \u001b[0;36m__getitem__\u001b[0;34m(self, key)\u001b[0m\n\u001b[1;32m   3456\u001b[0m             \u001b[0;32mif\u001b[0m \u001b[0mself\u001b[0m\u001b[0;34m.\u001b[0m\u001b[0mcolumns\u001b[0m\u001b[0;34m.\u001b[0m\u001b[0mnlevels\u001b[0m \u001b[0;34m>\u001b[0m \u001b[0;36m1\u001b[0m\u001b[0;34m:\u001b[0m\u001b[0;34m\u001b[0m\u001b[0;34m\u001b[0m\u001b[0m\n\u001b[1;32m   3457\u001b[0m                 \u001b[0;32mreturn\u001b[0m \u001b[0mself\u001b[0m\u001b[0;34m.\u001b[0m\u001b[0m_getitem_multilevel\u001b[0m\u001b[0;34m(\u001b[0m\u001b[0mkey\u001b[0m\u001b[0;34m)\u001b[0m\u001b[0;34m\u001b[0m\u001b[0;34m\u001b[0m\u001b[0m\n\u001b[0;32m-> 3458\u001b[0;31m             \u001b[0mindexer\u001b[0m \u001b[0;34m=\u001b[0m \u001b[0mself\u001b[0m\u001b[0;34m.\u001b[0m\u001b[0mcolumns\u001b[0m\u001b[0;34m.\u001b[0m\u001b[0mget_loc\u001b[0m\u001b[0;34m(\u001b[0m\u001b[0mkey\u001b[0m\u001b[0;34m)\u001b[0m\u001b[0;34m\u001b[0m\u001b[0;34m\u001b[0m\u001b[0m\n\u001b[0m\u001b[1;32m   3459\u001b[0m             \u001b[0;32mif\u001b[0m \u001b[0mis_integer\u001b[0m\u001b[0;34m(\u001b[0m\u001b[0mindexer\u001b[0m\u001b[0;34m)\u001b[0m\u001b[0;34m:\u001b[0m\u001b[0;34m\u001b[0m\u001b[0;34m\u001b[0m\u001b[0m\n\u001b[1;32m   3460\u001b[0m                 \u001b[0mindexer\u001b[0m \u001b[0;34m=\u001b[0m \u001b[0;34m[\u001b[0m\u001b[0mindexer\u001b[0m\u001b[0;34m]\u001b[0m\u001b[0;34m\u001b[0m\u001b[0;34m\u001b[0m\u001b[0m\n",
            "\u001b[0;32m/usr/local/lib/python3.8/dist-packages/pandas/core/indexes/base.py\u001b[0m in \u001b[0;36mget_loc\u001b[0;34m(self, key, method, tolerance)\u001b[0m\n\u001b[1;32m   3361\u001b[0m                 \u001b[0;32mreturn\u001b[0m \u001b[0mself\u001b[0m\u001b[0;34m.\u001b[0m\u001b[0m_engine\u001b[0m\u001b[0;34m.\u001b[0m\u001b[0mget_loc\u001b[0m\u001b[0;34m(\u001b[0m\u001b[0mcasted_key\u001b[0m\u001b[0;34m)\u001b[0m\u001b[0;34m\u001b[0m\u001b[0;34m\u001b[0m\u001b[0m\n\u001b[1;32m   3362\u001b[0m             \u001b[0;32mexcept\u001b[0m \u001b[0mKeyError\u001b[0m \u001b[0;32mas\u001b[0m \u001b[0merr\u001b[0m\u001b[0;34m:\u001b[0m\u001b[0;34m\u001b[0m\u001b[0;34m\u001b[0m\u001b[0m\n\u001b[0;32m-> 3363\u001b[0;31m                 \u001b[0;32mraise\u001b[0m \u001b[0mKeyError\u001b[0m\u001b[0;34m(\u001b[0m\u001b[0mkey\u001b[0m\u001b[0;34m)\u001b[0m \u001b[0;32mfrom\u001b[0m \u001b[0merr\u001b[0m\u001b[0;34m\u001b[0m\u001b[0;34m\u001b[0m\u001b[0m\n\u001b[0m\u001b[1;32m   3364\u001b[0m \u001b[0;34m\u001b[0m\u001b[0m\n\u001b[1;32m   3365\u001b[0m         \u001b[0;32mif\u001b[0m \u001b[0mis_scalar\u001b[0m\u001b[0;34m(\u001b[0m\u001b[0mkey\u001b[0m\u001b[0;34m)\u001b[0m \u001b[0;32mand\u001b[0m \u001b[0misna\u001b[0m\u001b[0;34m(\u001b[0m\u001b[0mkey\u001b[0m\u001b[0;34m)\u001b[0m \u001b[0;32mand\u001b[0m \u001b[0;32mnot\u001b[0m \u001b[0mself\u001b[0m\u001b[0;34m.\u001b[0m\u001b[0mhasnans\u001b[0m\u001b[0;34m:\u001b[0m\u001b[0;34m\u001b[0m\u001b[0;34m\u001b[0m\u001b[0m\n",
            "\u001b[0;31mKeyError\u001b[0m: 0"
          ]
        }
      ]
    },
    {
      "cell_type": "code",
      "source": [
        "df6=pd.DataFrame(columns=[['epoch']+list(test.columns)+['prob0','prob1','prob2','prob3']])"
      ],
      "metadata": {
        "id": "sbCEr8ktImUp"
      },
      "execution_count": null,
      "outputs": []
    },
    {
      "cell_type": "code",
      "source": [
        "k=0\n",
        "for i in range(1,101,10):\n",
        "  model=tf.keras.models.load_model('./drive/My Drive/Colab Notebooks/logs/weights1.%02d.h5'%(i))\n",
        "  predictions=model.predict(test.iloc[:,:20])\n",
        "  for j in range(len(test)):\n",
        "    df6.loc[k,['epoch']+list(test.columns)+['prob0','prob1','prob2','prob3']]=[i-1]+list(test.iloc[j,:])+list(predictions[j])\n",
        "    k+=1\n",
        "\n",
        "df6\n",
        "      \n",
        "  \n"
      ],
      "metadata": {
        "colab": {
          "base_uri": "https://localhost:8080/",
          "height": 835
        },
        "id": "nMVFJO8sIOnr",
        "outputId": "936cba4e-d036-4258-de06-4bf5e67ac1c5"
      },
      "execution_count": null,
      "outputs": [
        {
          "output_type": "stream",
          "name": "stdout",
          "text": [
            "16/16 [==============================] - 0s 1ms/step\n",
            "16/16 [==============================] - 0s 2ms/step\n",
            "16/16 [==============================] - 0s 1ms/step\n",
            "16/16 [==============================] - 0s 1ms/step\n",
            "16/16 [==============================] - 0s 1ms/step\n",
            "16/16 [==============================] - 0s 1ms/step\n",
            "16/16 [==============================] - 0s 1ms/step\n",
            "16/16 [==============================] - 0s 1ms/step\n",
            "16/16 [==============================] - 0s 1ms/step\n",
            "16/16 [==============================] - 0s 1ms/step\n"
          ]
        },
        {
          "output_type": "execute_result",
          "data": {
            "text/plain": [
              "     battery_power blue clock_speed dual_sim   fc four_g int_memory m_dep  \\\n",
              "0           1225.0  0.0         0.7      1.0  6.0    0.0       60.0   0.1   \n",
              "1           1970.0  1.0         0.5      1.0  0.0    1.0       15.0   1.0   \n",
              "2           1186.0  1.0         0.5      1.0  2.0    0.0       21.0   0.4   \n",
              "3           1762.0  0.0         0.7      0.0  7.0    0.0       60.0   0.1   \n",
              "4           1731.0  1.0         1.4      1.0  4.0    1.0        4.0   0.5   \n",
              "...            ...  ...         ...      ...  ...    ...        ...   ...   \n",
              "4995         794.0  1.0         0.5      1.0  0.0    1.0        2.0   0.8   \n",
              "4996        1965.0  1.0         2.6      1.0  0.0    0.0       39.0   0.2   \n",
              "4997        1911.0  0.0         0.9      1.0  1.0    1.0       36.0   0.7   \n",
              "4998        1512.0  0.0         0.9      0.0  4.0    1.0       46.0   0.1   \n",
              "4999         510.0  1.0         2.0      1.0  5.0    1.0       45.0   0.9   \n",
              "\n",
              "     mobile_wt n_cores  ... talk_time three_g touch_screen wifi price_range  \\\n",
              "0        107.0     2.0  ...       6.0     1.0          0.0  0.0         2.0   \n",
              "1        132.0     2.0  ...      20.0     1.0          1.0  1.0         2.0   \n",
              "2        160.0     8.0  ...       7.0     1.0          0.0  0.0         1.0   \n",
              "3        157.0     4.0  ...      14.0     1.0          0.0  0.0         1.0   \n",
              "4        163.0     6.0  ...       4.0     1.0          1.0  1.0         3.0   \n",
              "...        ...     ...  ...       ...     ...          ...  ...         ...   \n",
              "4995     106.0     6.0  ...      19.0     1.0          1.0  0.0         0.0   \n",
              "4996     187.0     4.0  ...      16.0     1.0          1.0  1.0         2.0   \n",
              "4997     108.0     8.0  ...       5.0     1.0          1.0  0.0         3.0   \n",
              "4998     145.0     5.0  ...      19.0     1.0          1.0  1.0         0.0   \n",
              "4999     168.0     6.0  ...       2.0     1.0          1.0  1.0         3.0   \n",
              "\n",
              "             prob0         prob1         prob2         prob3 epoch  \n",
              "0     2.737077e-20  1.812093e-22  9.999999e-01  2.175714e-19   0.0  \n",
              "1     4.689452e-02  2.344230e-01  3.466228e-30  7.186825e-01   0.0  \n",
              "2     4.986202e-02  3.385183e-14  5.230521e-02  8.978327e-01   0.0  \n",
              "3     2.602081e-02  1.375622e-02  1.476764e-37  9.602230e-01   0.0  \n",
              "4     1.150377e-09  9.673149e-18  9.999997e-01  2.284295e-07   0.0  \n",
              "...            ...           ...           ...           ...   ...  \n",
              "4995  3.736205e-01  6.242908e-01  2.088785e-03  2.315632e-11  90.0  \n",
              "4996  6.880251e-02  7.939406e-01  1.372205e-01  3.632606e-05  90.0  \n",
              "4997  3.448213e-03  8.133771e-02  3.475263e-01  5.676878e-01  90.0  \n",
              "4998  7.428178e-01  2.571476e-01  3.460464e-05  1.041023e-16  90.0  \n",
              "4999  3.448213e-03  8.133771e-02  3.475263e-01  5.676878e-01  90.0  \n",
              "\n",
              "[5000 rows x 26 columns]"
            ],
            "text/html": [
              "\n",
              "  <div id=\"df-6762a601-7b25-4269-80bb-08764d3a70b5\">\n",
              "    <div class=\"colab-df-container\">\n",
              "      <div>\n",
              "<style scoped>\n",
              "    .dataframe tbody tr th:only-of-type {\n",
              "        vertical-align: middle;\n",
              "    }\n",
              "\n",
              "    .dataframe tbody tr th {\n",
              "        vertical-align: top;\n",
              "    }\n",
              "\n",
              "    .dataframe thead tr th {\n",
              "        text-align: left;\n",
              "    }\n",
              "</style>\n",
              "<table border=\"1\" class=\"dataframe\">\n",
              "  <thead>\n",
              "    <tr>\n",
              "      <th></th>\n",
              "      <th>battery_power</th>\n",
              "      <th>blue</th>\n",
              "      <th>clock_speed</th>\n",
              "      <th>dual_sim</th>\n",
              "      <th>fc</th>\n",
              "      <th>four_g</th>\n",
              "      <th>int_memory</th>\n",
              "      <th>m_dep</th>\n",
              "      <th>mobile_wt</th>\n",
              "      <th>n_cores</th>\n",
              "      <th>...</th>\n",
              "      <th>talk_time</th>\n",
              "      <th>three_g</th>\n",
              "      <th>touch_screen</th>\n",
              "      <th>wifi</th>\n",
              "      <th>price_range</th>\n",
              "      <th>prob0</th>\n",
              "      <th>prob1</th>\n",
              "      <th>prob2</th>\n",
              "      <th>prob3</th>\n",
              "      <th>epoch</th>\n",
              "    </tr>\n",
              "  </thead>\n",
              "  <tbody>\n",
              "    <tr>\n",
              "      <th>0</th>\n",
              "      <td>1225.0</td>\n",
              "      <td>0.0</td>\n",
              "      <td>0.7</td>\n",
              "      <td>1.0</td>\n",
              "      <td>6.0</td>\n",
              "      <td>0.0</td>\n",
              "      <td>60.0</td>\n",
              "      <td>0.1</td>\n",
              "      <td>107.0</td>\n",
              "      <td>2.0</td>\n",
              "      <td>...</td>\n",
              "      <td>6.0</td>\n",
              "      <td>1.0</td>\n",
              "      <td>0.0</td>\n",
              "      <td>0.0</td>\n",
              "      <td>2.0</td>\n",
              "      <td>2.737077e-20</td>\n",
              "      <td>1.812093e-22</td>\n",
              "      <td>9.999999e-01</td>\n",
              "      <td>2.175714e-19</td>\n",
              "      <td>0.0</td>\n",
              "    </tr>\n",
              "    <tr>\n",
              "      <th>1</th>\n",
              "      <td>1970.0</td>\n",
              "      <td>1.0</td>\n",
              "      <td>0.5</td>\n",
              "      <td>1.0</td>\n",
              "      <td>0.0</td>\n",
              "      <td>1.0</td>\n",
              "      <td>15.0</td>\n",
              "      <td>1.0</td>\n",
              "      <td>132.0</td>\n",
              "      <td>2.0</td>\n",
              "      <td>...</td>\n",
              "      <td>20.0</td>\n",
              "      <td>1.0</td>\n",
              "      <td>1.0</td>\n",
              "      <td>1.0</td>\n",
              "      <td>2.0</td>\n",
              "      <td>4.689452e-02</td>\n",
              "      <td>2.344230e-01</td>\n",
              "      <td>3.466228e-30</td>\n",
              "      <td>7.186825e-01</td>\n",
              "      <td>0.0</td>\n",
              "    </tr>\n",
              "    <tr>\n",
              "      <th>2</th>\n",
              "      <td>1186.0</td>\n",
              "      <td>1.0</td>\n",
              "      <td>0.5</td>\n",
              "      <td>1.0</td>\n",
              "      <td>2.0</td>\n",
              "      <td>0.0</td>\n",
              "      <td>21.0</td>\n",
              "      <td>0.4</td>\n",
              "      <td>160.0</td>\n",
              "      <td>8.0</td>\n",
              "      <td>...</td>\n",
              "      <td>7.0</td>\n",
              "      <td>1.0</td>\n",
              "      <td>0.0</td>\n",
              "      <td>0.0</td>\n",
              "      <td>1.0</td>\n",
              "      <td>4.986202e-02</td>\n",
              "      <td>3.385183e-14</td>\n",
              "      <td>5.230521e-02</td>\n",
              "      <td>8.978327e-01</td>\n",
              "      <td>0.0</td>\n",
              "    </tr>\n",
              "    <tr>\n",
              "      <th>3</th>\n",
              "      <td>1762.0</td>\n",
              "      <td>0.0</td>\n",
              "      <td>0.7</td>\n",
              "      <td>0.0</td>\n",
              "      <td>7.0</td>\n",
              "      <td>0.0</td>\n",
              "      <td>60.0</td>\n",
              "      <td>0.1</td>\n",
              "      <td>157.0</td>\n",
              "      <td>4.0</td>\n",
              "      <td>...</td>\n",
              "      <td>14.0</td>\n",
              "      <td>1.0</td>\n",
              "      <td>0.0</td>\n",
              "      <td>0.0</td>\n",
              "      <td>1.0</td>\n",
              "      <td>2.602081e-02</td>\n",
              "      <td>1.375622e-02</td>\n",
              "      <td>1.476764e-37</td>\n",
              "      <td>9.602230e-01</td>\n",
              "      <td>0.0</td>\n",
              "    </tr>\n",
              "    <tr>\n",
              "      <th>4</th>\n",
              "      <td>1731.0</td>\n",
              "      <td>1.0</td>\n",
              "      <td>1.4</td>\n",
              "      <td>1.0</td>\n",
              "      <td>4.0</td>\n",
              "      <td>1.0</td>\n",
              "      <td>4.0</td>\n",
              "      <td>0.5</td>\n",
              "      <td>163.0</td>\n",
              "      <td>6.0</td>\n",
              "      <td>...</td>\n",
              "      <td>4.0</td>\n",
              "      <td>1.0</td>\n",
              "      <td>1.0</td>\n",
              "      <td>1.0</td>\n",
              "      <td>3.0</td>\n",
              "      <td>1.150377e-09</td>\n",
              "      <td>9.673149e-18</td>\n",
              "      <td>9.999997e-01</td>\n",
              "      <td>2.284295e-07</td>\n",
              "      <td>0.0</td>\n",
              "    </tr>\n",
              "    <tr>\n",
              "      <th>...</th>\n",
              "      <td>...</td>\n",
              "      <td>...</td>\n",
              "      <td>...</td>\n",
              "      <td>...</td>\n",
              "      <td>...</td>\n",
              "      <td>...</td>\n",
              "      <td>...</td>\n",
              "      <td>...</td>\n",
              "      <td>...</td>\n",
              "      <td>...</td>\n",
              "      <td>...</td>\n",
              "      <td>...</td>\n",
              "      <td>...</td>\n",
              "      <td>...</td>\n",
              "      <td>...</td>\n",
              "      <td>...</td>\n",
              "      <td>...</td>\n",
              "      <td>...</td>\n",
              "      <td>...</td>\n",
              "      <td>...</td>\n",
              "      <td>...</td>\n",
              "    </tr>\n",
              "    <tr>\n",
              "      <th>4995</th>\n",
              "      <td>794.0</td>\n",
              "      <td>1.0</td>\n",
              "      <td>0.5</td>\n",
              "      <td>1.0</td>\n",
              "      <td>0.0</td>\n",
              "      <td>1.0</td>\n",
              "      <td>2.0</td>\n",
              "      <td>0.8</td>\n",
              "      <td>106.0</td>\n",
              "      <td>6.0</td>\n",
              "      <td>...</td>\n",
              "      <td>19.0</td>\n",
              "      <td>1.0</td>\n",
              "      <td>1.0</td>\n",
              "      <td>0.0</td>\n",
              "      <td>0.0</td>\n",
              "      <td>3.736205e-01</td>\n",
              "      <td>6.242908e-01</td>\n",
              "      <td>2.088785e-03</td>\n",
              "      <td>2.315632e-11</td>\n",
              "      <td>90.0</td>\n",
              "    </tr>\n",
              "    <tr>\n",
              "      <th>4996</th>\n",
              "      <td>1965.0</td>\n",
              "      <td>1.0</td>\n",
              "      <td>2.6</td>\n",
              "      <td>1.0</td>\n",
              "      <td>0.0</td>\n",
              "      <td>0.0</td>\n",
              "      <td>39.0</td>\n",
              "      <td>0.2</td>\n",
              "      <td>187.0</td>\n",
              "      <td>4.0</td>\n",
              "      <td>...</td>\n",
              "      <td>16.0</td>\n",
              "      <td>1.0</td>\n",
              "      <td>1.0</td>\n",
              "      <td>1.0</td>\n",
              "      <td>2.0</td>\n",
              "      <td>6.880251e-02</td>\n",
              "      <td>7.939406e-01</td>\n",
              "      <td>1.372205e-01</td>\n",
              "      <td>3.632606e-05</td>\n",
              "      <td>90.0</td>\n",
              "    </tr>\n",
              "    <tr>\n",
              "      <th>4997</th>\n",
              "      <td>1911.0</td>\n",
              "      <td>0.0</td>\n",
              "      <td>0.9</td>\n",
              "      <td>1.0</td>\n",
              "      <td>1.0</td>\n",
              "      <td>1.0</td>\n",
              "      <td>36.0</td>\n",
              "      <td>0.7</td>\n",
              "      <td>108.0</td>\n",
              "      <td>8.0</td>\n",
              "      <td>...</td>\n",
              "      <td>5.0</td>\n",
              "      <td>1.0</td>\n",
              "      <td>1.0</td>\n",
              "      <td>0.0</td>\n",
              "      <td>3.0</td>\n",
              "      <td>3.448213e-03</td>\n",
              "      <td>8.133771e-02</td>\n",
              "      <td>3.475263e-01</td>\n",
              "      <td>5.676878e-01</td>\n",
              "      <td>90.0</td>\n",
              "    </tr>\n",
              "    <tr>\n",
              "      <th>4998</th>\n",
              "      <td>1512.0</td>\n",
              "      <td>0.0</td>\n",
              "      <td>0.9</td>\n",
              "      <td>0.0</td>\n",
              "      <td>4.0</td>\n",
              "      <td>1.0</td>\n",
              "      <td>46.0</td>\n",
              "      <td>0.1</td>\n",
              "      <td>145.0</td>\n",
              "      <td>5.0</td>\n",
              "      <td>...</td>\n",
              "      <td>19.0</td>\n",
              "      <td>1.0</td>\n",
              "      <td>1.0</td>\n",
              "      <td>1.0</td>\n",
              "      <td>0.0</td>\n",
              "      <td>7.428178e-01</td>\n",
              "      <td>2.571476e-01</td>\n",
              "      <td>3.460464e-05</td>\n",
              "      <td>1.041023e-16</td>\n",
              "      <td>90.0</td>\n",
              "    </tr>\n",
              "    <tr>\n",
              "      <th>4999</th>\n",
              "      <td>510.0</td>\n",
              "      <td>1.0</td>\n",
              "      <td>2.0</td>\n",
              "      <td>1.0</td>\n",
              "      <td>5.0</td>\n",
              "      <td>1.0</td>\n",
              "      <td>45.0</td>\n",
              "      <td>0.9</td>\n",
              "      <td>168.0</td>\n",
              "      <td>6.0</td>\n",
              "      <td>...</td>\n",
              "      <td>2.0</td>\n",
              "      <td>1.0</td>\n",
              "      <td>1.0</td>\n",
              "      <td>1.0</td>\n",
              "      <td>3.0</td>\n",
              "      <td>3.448213e-03</td>\n",
              "      <td>8.133771e-02</td>\n",
              "      <td>3.475263e-01</td>\n",
              "      <td>5.676878e-01</td>\n",
              "      <td>90.0</td>\n",
              "    </tr>\n",
              "  </tbody>\n",
              "</table>\n",
              "<p>5000 rows × 26 columns</p>\n",
              "</div>\n",
              "      <button class=\"colab-df-convert\" onclick=\"convertToInteractive('df-6762a601-7b25-4269-80bb-08764d3a70b5')\"\n",
              "              title=\"Convert this dataframe to an interactive table.\"\n",
              "              style=\"display:none;\">\n",
              "        \n",
              "  <svg xmlns=\"http://www.w3.org/2000/svg\" height=\"24px\"viewBox=\"0 0 24 24\"\n",
              "       width=\"24px\">\n",
              "    <path d=\"M0 0h24v24H0V0z\" fill=\"none\"/>\n",
              "    <path d=\"M18.56 5.44l.94 2.06.94-2.06 2.06-.94-2.06-.94-.94-2.06-.94 2.06-2.06.94zm-11 1L8.5 8.5l.94-2.06 2.06-.94-2.06-.94L8.5 2.5l-.94 2.06-2.06.94zm10 10l.94 2.06.94-2.06 2.06-.94-2.06-.94-.94-2.06-.94 2.06-2.06.94z\"/><path d=\"M17.41 7.96l-1.37-1.37c-.4-.4-.92-.59-1.43-.59-.52 0-1.04.2-1.43.59L10.3 9.45l-7.72 7.72c-.78.78-.78 2.05 0 2.83L4 21.41c.39.39.9.59 1.41.59.51 0 1.02-.2 1.41-.59l7.78-7.78 2.81-2.81c.8-.78.8-2.07 0-2.86zM5.41 20L4 18.59l7.72-7.72 1.47 1.35L5.41 20z\"/>\n",
              "  </svg>\n",
              "      </button>\n",
              "      \n",
              "  <style>\n",
              "    .colab-df-container {\n",
              "      display:flex;\n",
              "      flex-wrap:wrap;\n",
              "      gap: 12px;\n",
              "    }\n",
              "\n",
              "    .colab-df-convert {\n",
              "      background-color: #E8F0FE;\n",
              "      border: none;\n",
              "      border-radius: 50%;\n",
              "      cursor: pointer;\n",
              "      display: none;\n",
              "      fill: #1967D2;\n",
              "      height: 32px;\n",
              "      padding: 0 0 0 0;\n",
              "      width: 32px;\n",
              "    }\n",
              "\n",
              "    .colab-df-convert:hover {\n",
              "      background-color: #E2EBFA;\n",
              "      box-shadow: 0px 1px 2px rgba(60, 64, 67, 0.3), 0px 1px 3px 1px rgba(60, 64, 67, 0.15);\n",
              "      fill: #174EA6;\n",
              "    }\n",
              "\n",
              "    [theme=dark] .colab-df-convert {\n",
              "      background-color: #3B4455;\n",
              "      fill: #D2E3FC;\n",
              "    }\n",
              "\n",
              "    [theme=dark] .colab-df-convert:hover {\n",
              "      background-color: #434B5C;\n",
              "      box-shadow: 0px 1px 3px 1px rgba(0, 0, 0, 0.15);\n",
              "      filter: drop-shadow(0px 1px 2px rgba(0, 0, 0, 0.3));\n",
              "      fill: #FFFFFF;\n",
              "    }\n",
              "  </style>\n",
              "\n",
              "      <script>\n",
              "        const buttonEl =\n",
              "          document.querySelector('#df-6762a601-7b25-4269-80bb-08764d3a70b5 button.colab-df-convert');\n",
              "        buttonEl.style.display =\n",
              "          google.colab.kernel.accessAllowed ? 'block' : 'none';\n",
              "\n",
              "        async function convertToInteractive(key) {\n",
              "          const element = document.querySelector('#df-6762a601-7b25-4269-80bb-08764d3a70b5');\n",
              "          const dataTable =\n",
              "            await google.colab.kernel.invokeFunction('convertToInteractive',\n",
              "                                                     [key], {});\n",
              "          if (!dataTable) return;\n",
              "\n",
              "          const docLinkHtml = 'Like what you see? Visit the ' +\n",
              "            '<a target=\"_blank\" href=https://colab.research.google.com/notebooks/data_table.ipynb>data table notebook</a>'\n",
              "            + ' to learn more about interactive tables.';\n",
              "          element.innerHTML = '';\n",
              "          dataTable['output_type'] = 'display_data';\n",
              "          await google.colab.output.renderOutput(dataTable, element);\n",
              "          const docLink = document.createElement('div');\n",
              "          docLink.innerHTML = docLinkHtml;\n",
              "          element.appendChild(docLink);\n",
              "        }\n",
              "      </script>\n",
              "    </div>\n",
              "  </div>\n",
              "  "
            ]
          },
          "metadata": {},
          "execution_count": 65
        }
      ]
    },
    {
      "cell_type": "code",
      "source": [
        "df6.to_csv('./drive/My Drive/Colab Notebooks/logs/pred.csv')"
      ],
      "metadata": {
        "id": "fSxYHu68RRta"
      },
      "execution_count": null,
      "outputs": []
    }
  ]
}